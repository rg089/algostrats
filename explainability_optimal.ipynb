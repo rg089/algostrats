{
 "cells": [
  {
   "cell_type": "code",
   "execution_count": 1,
   "metadata": {},
   "outputs": [
    {
     "name": "stdout",
     "output_type": "stream",
     "text": [
      "importing Jupyter notebook from feeds.ipynb\n",
      "importing Jupyter notebook from synfeed.ipynb\n",
      "importing Jupyter notebook from india_calendar.ipynb\n",
      "importing Jupyter notebook from featfuncs.ipynb\n"
     ]
    }
   ],
   "source": [
    "import pickle\n",
    "import pandas as pd\n",
    "import os\n",
    "import numpy as np\n",
    "import import_ipynb \n",
    "from feeds import BackFeed,DataFeed\n",
    "from sklearn.metrics import classification_report, confusion_matrix\n",
    "from matplotlib import pyplot as plt\n",
    "from sklearn import datasets\n",
    "from sklearn.tree import DecisionTreeClassifier \n",
    "from sklearn import tree\n",
    "import graphviz\n",
    "import seaborn as sns\n",
    "import warnings\n",
    "warnings.filterwarnings(\"ignore\", category=pd.errors.PerformanceWarning)\n",
    "from decision_tree import DecisionTree\n",
    "from dataclasses import dataclass\n",
    "from add_features import add_features"
   ]
  },
  {
   "cell_type": "code",
   "execution_count": 2,
   "metadata": {},
   "outputs": [],
   "source": [
    "@dataclass\n",
    "class OptimalData:\n",
    "    optD: dict\n",
    "    optR: dict\n",
    "    optDT: dict\n",
    "    optRT: dict\n",
    "    feed_original: pd.DataFrame\n",
    "    feed_all: pd.DataFrame"
   ]
  },
  {
   "cell_type": "code",
   "execution_count": 3,
   "metadata": {},
   "outputs": [],
   "source": [
    "path = os.path.join('additional_utils', 'optimal_alldata_new.pkl')\n",
    "with open(path, 'rb') as f:\n",
    "    optimal_data = pickle.load(f)"
   ]
  },
  {
   "cell_type": "code",
   "execution_count": 4,
   "metadata": {},
   "outputs": [],
   "source": [
    "def trainDT(X_train, X_test, y_train, y_test, cols_to_use, y_col, max_depth=2):\n",
    "    # Fit the classifier with default hyper-parameters\n",
    "    labels = ['sell', 'buy']\n",
    "    clf = DecisionTreeClassifier(max_depth=max_depth)\n",
    "    model = clf.fit(X_train, y_train)\n",
    "    \n",
    "    # DOT data\n",
    "    dot_data = tree.export_graphviz(clf, out_file=None,\n",
    "                                    feature_names=cols_to_use,\n",
    "                                    class_names=labels,\n",
    "                                    filled=True)\n",
    "    # Draw graph\n",
    "    graph = graphviz.Source(dot_data, format=\"png\")\n",
    "    preds = clf.predict(X_test)\n",
    "    cm = pd.DataFrame(confusion_matrix(y_test, preds), columns=labels, index=labels)\n",
    "    report = classification_report(y_test, preds, target_names=labels)\n",
    "    \n",
    "    return graph, cm, report"
   ]
  },
  {
   "cell_type": "code",
   "execution_count": 5,
   "metadata": {},
   "outputs": [],
   "source": [
    "def get_data(df):\n",
    "    df, pre_discrete_cols, discrete_cols = add_features(df)\n",
    "    \n",
    "    df = df[df['Action']!=-5]\n",
    "    \n",
    "    \n",
    "    COLS_TO_USE =  discrete_cols\n",
    "    y_col='Action'\n",
    "\n",
    "    n = len(df)\n",
    "    X = df.loc[:, COLS_TO_USE]\n",
    "    y = df.loc[:, y_col]\n",
    "\n",
    "    return df, X, y, COLS_TO_USE, y_col, pre_discrete_cols, discrete_cols"
   ]
  },
  {
   "cell_type": "code",
   "execution_count": 6,
   "metadata": {},
   "outputs": [],
   "source": [
    "dfs = [optimal_data.feed_original, optimal_data.feed_all]"
   ]
  },
  {
   "attachments": {},
   "cell_type": "markdown",
   "metadata": {},
   "source": [
    "### Real Optimal (only using 1 starting point)"
   ]
  },
  {
   "cell_type": "code",
   "execution_count": 7,
   "metadata": {},
   "outputs": [],
   "source": [
    "df1, X1, y1, COLS_TO_USE, y_col, pre_discrete_cols, discrete_cols  = get_data(dfs[0])"
   ]
  },
  {
   "cell_type": "code",
   "execution_count": 8,
   "metadata": {},
   "outputs": [],
   "source": [
    "df1 = df1.dropna()\n",
    "indices_to_keep = ~df1.isin([np.nan, np.inf, -np.inf]).any(axis=1)\n",
    "df1 = df1[indices_to_keep]\n",
    "X1 = df1.loc[:, COLS_TO_USE]\n",
    "y1 = df1.loc[:, y_col]"
   ]
  },
  {
   "cell_type": "code",
   "execution_count": 9,
   "metadata": {},
   "outputs": [
    {
     "ename": "ExecutableNotFound",
     "evalue": "failed to execute PosixPath('dot'), make sure the Graphviz executables are on your systems' PATH",
     "output_type": "error",
     "traceback": [
      "\u001b[0;31m---------------------------------------------------------------------------\u001b[0m",
      "\u001b[0;31mFileNotFoundError\u001b[0m                         Traceback (most recent call last)",
      "File \u001b[0;32m~/miniforge3/envs/metarl/lib/python3.11/site-packages/graphviz/backend/execute.py:79\u001b[0m, in \u001b[0;36mrun_check\u001b[0;34m(cmd, input_lines, encoding, quiet, **kwargs)\u001b[0m\n\u001b[1;32m     78\u001b[0m         kwargs[\u001b[39m'\u001b[39m\u001b[39mstdout\u001b[39m\u001b[39m'\u001b[39m] \u001b[39m=\u001b[39m kwargs[\u001b[39m'\u001b[39m\u001b[39mstderr\u001b[39m\u001b[39m'\u001b[39m] \u001b[39m=\u001b[39m subprocess\u001b[39m.\u001b[39mPIPE\n\u001b[0;32m---> 79\u001b[0m     proc \u001b[39m=\u001b[39m _run_input_lines(cmd, input_lines, kwargs\u001b[39m=\u001b[39;49mkwargs)\n\u001b[1;32m     80\u001b[0m \u001b[39melse\u001b[39;00m:\n",
      "File \u001b[0;32m~/miniforge3/envs/metarl/lib/python3.11/site-packages/graphviz/backend/execute.py:99\u001b[0m, in \u001b[0;36m_run_input_lines\u001b[0;34m(cmd, input_lines, kwargs)\u001b[0m\n\u001b[1;32m     98\u001b[0m \u001b[39mdef\u001b[39;00m \u001b[39m_run_input_lines\u001b[39m(cmd, input_lines, \u001b[39m*\u001b[39m, kwargs):\n\u001b[0;32m---> 99\u001b[0m     popen \u001b[39m=\u001b[39m subprocess\u001b[39m.\u001b[39;49mPopen(cmd, stdin\u001b[39m=\u001b[39;49msubprocess\u001b[39m.\u001b[39;49mPIPE, \u001b[39m*\u001b[39;49m\u001b[39m*\u001b[39;49mkwargs)\n\u001b[1;32m    101\u001b[0m     stdin_write \u001b[39m=\u001b[39m popen\u001b[39m.\u001b[39mstdin\u001b[39m.\u001b[39mwrite\n",
      "File \u001b[0;32m~/miniforge3/envs/metarl/lib/python3.11/subprocess.py:1022\u001b[0m, in \u001b[0;36mPopen.__init__\u001b[0;34m(self, args, bufsize, executable, stdin, stdout, stderr, preexec_fn, close_fds, shell, cwd, env, universal_newlines, startupinfo, creationflags, restore_signals, start_new_session, pass_fds, user, group, extra_groups, encoding, errors, text, umask, pipesize, process_group)\u001b[0m\n\u001b[1;32m   1019\u001b[0m             \u001b[39mself\u001b[39m\u001b[39m.\u001b[39mstderr \u001b[39m=\u001b[39m io\u001b[39m.\u001b[39mTextIOWrapper(\u001b[39mself\u001b[39m\u001b[39m.\u001b[39mstderr,\n\u001b[1;32m   1020\u001b[0m                     encoding\u001b[39m=\u001b[39mencoding, errors\u001b[39m=\u001b[39merrors)\n\u001b[0;32m-> 1022\u001b[0m     \u001b[39mself\u001b[39;49m\u001b[39m.\u001b[39;49m_execute_child(args, executable, preexec_fn, close_fds,\n\u001b[1;32m   1023\u001b[0m                         pass_fds, cwd, env,\n\u001b[1;32m   1024\u001b[0m                         startupinfo, creationflags, shell,\n\u001b[1;32m   1025\u001b[0m                         p2cread, p2cwrite,\n\u001b[1;32m   1026\u001b[0m                         c2pread, c2pwrite,\n\u001b[1;32m   1027\u001b[0m                         errread, errwrite,\n\u001b[1;32m   1028\u001b[0m                         restore_signals,\n\u001b[1;32m   1029\u001b[0m                         gid, gids, uid, umask,\n\u001b[1;32m   1030\u001b[0m                         start_new_session, process_group)\n\u001b[1;32m   1031\u001b[0m \u001b[39mexcept\u001b[39;00m:\n\u001b[1;32m   1032\u001b[0m     \u001b[39m# Cleanup if the child failed starting.\u001b[39;00m\n",
      "File \u001b[0;32m~/miniforge3/envs/metarl/lib/python3.11/subprocess.py:1899\u001b[0m, in \u001b[0;36mPopen._execute_child\u001b[0;34m(self, args, executable, preexec_fn, close_fds, pass_fds, cwd, env, startupinfo, creationflags, shell, p2cread, p2cwrite, c2pread, c2pwrite, errread, errwrite, restore_signals, gid, gids, uid, umask, start_new_session, process_group)\u001b[0m\n\u001b[1;32m   1898\u001b[0m         err_msg \u001b[39m=\u001b[39m os\u001b[39m.\u001b[39mstrerror(errno_num)\n\u001b[0;32m-> 1899\u001b[0m     \u001b[39mraise\u001b[39;00m child_exception_type(errno_num, err_msg, err_filename)\n\u001b[1;32m   1900\u001b[0m \u001b[39mraise\u001b[39;00m child_exception_type(err_msg)\n",
      "\u001b[0;31mFileNotFoundError\u001b[0m: [Errno 2] No such file or directory: PosixPath('dot')",
      "\nThe above exception was the direct cause of the following exception:\n",
      "\u001b[0;31mExecutableNotFound\u001b[0m                        Traceback (most recent call last)",
      "File \u001b[0;32m~/miniforge3/envs/metarl/lib/python3.11/site-packages/IPython/core/formatters.py:972\u001b[0m, in \u001b[0;36mMimeBundleFormatter.__call__\u001b[0;34m(self, obj, include, exclude)\u001b[0m\n\u001b[1;32m    969\u001b[0m     method \u001b[39m=\u001b[39m get_real_method(obj, \u001b[39mself\u001b[39m\u001b[39m.\u001b[39mprint_method)\n\u001b[1;32m    971\u001b[0m     \u001b[39mif\u001b[39;00m method \u001b[39mis\u001b[39;00m \u001b[39mnot\u001b[39;00m \u001b[39mNone\u001b[39;00m:\n\u001b[0;32m--> 972\u001b[0m         \u001b[39mreturn\u001b[39;00m method(include\u001b[39m=\u001b[39;49minclude, exclude\u001b[39m=\u001b[39;49mexclude)\n\u001b[1;32m    973\u001b[0m     \u001b[39mreturn\u001b[39;00m \u001b[39mNone\u001b[39;00m\n\u001b[1;32m    974\u001b[0m \u001b[39melse\u001b[39;00m:\n",
      "File \u001b[0;32m~/miniforge3/envs/metarl/lib/python3.11/site-packages/graphviz/jupyter_integration.py:98\u001b[0m, in \u001b[0;36mJupyterIntegration._repr_mimebundle_\u001b[0;34m(self, include, exclude, **_)\u001b[0m\n\u001b[1;32m     96\u001b[0m include \u001b[39m=\u001b[39m \u001b[39mset\u001b[39m(include) \u001b[39mif\u001b[39;00m include \u001b[39mis\u001b[39;00m \u001b[39mnot\u001b[39;00m \u001b[39mNone\u001b[39;00m \u001b[39melse\u001b[39;00m {\u001b[39mself\u001b[39m\u001b[39m.\u001b[39m_jupyter_mimetype}\n\u001b[1;32m     97\u001b[0m include \u001b[39m-\u001b[39m\u001b[39m=\u001b[39m \u001b[39mset\u001b[39m(exclude \u001b[39mor\u001b[39;00m [])\n\u001b[0;32m---> 98\u001b[0m \u001b[39mreturn\u001b[39;00m {mimetype: \u001b[39mgetattr\u001b[39;49m(\u001b[39mself\u001b[39;49m, method_name)()\n\u001b[1;32m     99\u001b[0m         \u001b[39mfor\u001b[39;49;00m mimetype, method_name \u001b[39min\u001b[39;49;00m MIME_TYPES\u001b[39m.\u001b[39;49mitems()\n\u001b[1;32m    100\u001b[0m         \u001b[39mif\u001b[39;49;00m mimetype \u001b[39min\u001b[39;49;00m include}\n",
      "File \u001b[0;32m~/miniforge3/envs/metarl/lib/python3.11/site-packages/graphviz/jupyter_integration.py:98\u001b[0m, in \u001b[0;36m<dictcomp>\u001b[0;34m(.0)\u001b[0m\n\u001b[1;32m     96\u001b[0m include \u001b[39m=\u001b[39m \u001b[39mset\u001b[39m(include) \u001b[39mif\u001b[39;00m include \u001b[39mis\u001b[39;00m \u001b[39mnot\u001b[39;00m \u001b[39mNone\u001b[39;00m \u001b[39melse\u001b[39;00m {\u001b[39mself\u001b[39m\u001b[39m.\u001b[39m_jupyter_mimetype}\n\u001b[1;32m     97\u001b[0m include \u001b[39m-\u001b[39m\u001b[39m=\u001b[39m \u001b[39mset\u001b[39m(exclude \u001b[39mor\u001b[39;00m [])\n\u001b[0;32m---> 98\u001b[0m \u001b[39mreturn\u001b[39;00m {mimetype: \u001b[39mgetattr\u001b[39;49m(\u001b[39mself\u001b[39;49m, method_name)()\n\u001b[1;32m     99\u001b[0m         \u001b[39mfor\u001b[39;00m mimetype, method_name \u001b[39min\u001b[39;00m MIME_TYPES\u001b[39m.\u001b[39mitems()\n\u001b[1;32m    100\u001b[0m         \u001b[39mif\u001b[39;00m mimetype \u001b[39min\u001b[39;00m include}\n",
      "File \u001b[0;32m~/miniforge3/envs/metarl/lib/python3.11/site-packages/graphviz/jupyter_integration.py:112\u001b[0m, in \u001b[0;36mJupyterIntegration._repr_image_svg_xml\u001b[0;34m(self)\u001b[0m\n\u001b[1;32m    110\u001b[0m \u001b[39mdef\u001b[39;00m \u001b[39m_repr_image_svg_xml\u001b[39m(\u001b[39mself\u001b[39m) \u001b[39m-\u001b[39m\u001b[39m>\u001b[39m \u001b[39mstr\u001b[39m:\n\u001b[1;32m    111\u001b[0m \u001b[39m    \u001b[39m\u001b[39m\"\"\"Return the rendered graph as SVG string.\"\"\"\u001b[39;00m\n\u001b[0;32m--> 112\u001b[0m     \u001b[39mreturn\u001b[39;00m \u001b[39mself\u001b[39;49m\u001b[39m.\u001b[39;49mpipe(\u001b[39mformat\u001b[39;49m\u001b[39m=\u001b[39;49m\u001b[39m'\u001b[39;49m\u001b[39msvg\u001b[39;49m\u001b[39m'\u001b[39;49m, encoding\u001b[39m=\u001b[39;49mSVG_ENCODING)\n",
      "File \u001b[0;32m~/miniforge3/envs/metarl/lib/python3.11/site-packages/graphviz/piping.py:104\u001b[0m, in \u001b[0;36mPipe.pipe\u001b[0;34m(self, format, renderer, formatter, neato_no_op, quiet, engine, encoding)\u001b[0m\n\u001b[1;32m     55\u001b[0m \u001b[39mdef\u001b[39;00m \u001b[39mpipe\u001b[39m(\u001b[39mself\u001b[39m,\n\u001b[1;32m     56\u001b[0m          \u001b[39mformat\u001b[39m: typing\u001b[39m.\u001b[39mOptional[\u001b[39mstr\u001b[39m] \u001b[39m=\u001b[39m \u001b[39mNone\u001b[39;00m,\n\u001b[1;32m     57\u001b[0m          renderer: typing\u001b[39m.\u001b[39mOptional[\u001b[39mstr\u001b[39m] \u001b[39m=\u001b[39m \u001b[39mNone\u001b[39;00m,\n\u001b[0;32m   (...)\u001b[0m\n\u001b[1;32m     61\u001b[0m          engine: typing\u001b[39m.\u001b[39mOptional[\u001b[39mstr\u001b[39m] \u001b[39m=\u001b[39m \u001b[39mNone\u001b[39;00m,\n\u001b[1;32m     62\u001b[0m          encoding: typing\u001b[39m.\u001b[39mOptional[\u001b[39mstr\u001b[39m] \u001b[39m=\u001b[39m \u001b[39mNone\u001b[39;00m) \u001b[39m-\u001b[39m\u001b[39m>\u001b[39m typing\u001b[39m.\u001b[39mUnion[\u001b[39mbytes\u001b[39m, \u001b[39mstr\u001b[39m]:\n\u001b[1;32m     63\u001b[0m \u001b[39m    \u001b[39m\u001b[39m\"\"\"Return the source piped through the Graphviz layout command.\u001b[39;00m\n\u001b[1;32m     64\u001b[0m \n\u001b[1;32m     65\u001b[0m \u001b[39m    Args:\u001b[39;00m\n\u001b[0;32m   (...)\u001b[0m\n\u001b[1;32m    102\u001b[0m \u001b[39m        '<?xml version='\u001b[39;00m\n\u001b[1;32m    103\u001b[0m \u001b[39m    \"\"\"\u001b[39;00m\n\u001b[0;32m--> 104\u001b[0m     \u001b[39mreturn\u001b[39;00m \u001b[39mself\u001b[39;49m\u001b[39m.\u001b[39;49m_pipe_legacy(\u001b[39mformat\u001b[39;49m,\n\u001b[1;32m    105\u001b[0m                              renderer\u001b[39m=\u001b[39;49mrenderer,\n\u001b[1;32m    106\u001b[0m                              formatter\u001b[39m=\u001b[39;49mformatter,\n\u001b[1;32m    107\u001b[0m                              neato_no_op\u001b[39m=\u001b[39;49mneato_no_op,\n\u001b[1;32m    108\u001b[0m                              quiet\u001b[39m=\u001b[39;49mquiet,\n\u001b[1;32m    109\u001b[0m                              engine\u001b[39m=\u001b[39;49mengine,\n\u001b[1;32m    110\u001b[0m                              encoding\u001b[39m=\u001b[39;49mencoding)\n",
      "File \u001b[0;32m~/miniforge3/envs/metarl/lib/python3.11/site-packages/graphviz/_tools.py:171\u001b[0m, in \u001b[0;36mdeprecate_positional_args.<locals>.decorator.<locals>.wrapper\u001b[0;34m(*args, **kwargs)\u001b[0m\n\u001b[1;32m    162\u001b[0m     wanted \u001b[39m=\u001b[39m \u001b[39m'\u001b[39m\u001b[39m, \u001b[39m\u001b[39m'\u001b[39m\u001b[39m.\u001b[39mjoin(\u001b[39mf\u001b[39m\u001b[39m'\u001b[39m\u001b[39m{\u001b[39;00mname\u001b[39m}\u001b[39;00m\u001b[39m=\u001b[39m\u001b[39m{\u001b[39;00mvalue\u001b[39m!r}\u001b[39;00m\u001b[39m'\u001b[39m\n\u001b[1;32m    163\u001b[0m                        \u001b[39mfor\u001b[39;00m name, value \u001b[39min\u001b[39;00m deprecated\u001b[39m.\u001b[39mitems())\n\u001b[1;32m    164\u001b[0m     warnings\u001b[39m.\u001b[39mwarn(\u001b[39mf\u001b[39m\u001b[39m'\u001b[39m\u001b[39mThe signature of \u001b[39m\u001b[39m{\u001b[39;00mfunc\u001b[39m.\u001b[39m\u001b[39m__name__\u001b[39m\u001b[39m}\u001b[39;00m\u001b[39m will be reduced\u001b[39m\u001b[39m'\u001b[39m\n\u001b[1;32m    165\u001b[0m                   \u001b[39mf\u001b[39m\u001b[39m'\u001b[39m\u001b[39m to \u001b[39m\u001b[39m{\u001b[39;00msupported_number\u001b[39m}\u001b[39;00m\u001b[39m positional args\u001b[39m\u001b[39m'\u001b[39m\n\u001b[1;32m    166\u001b[0m                   \u001b[39mf\u001b[39m\u001b[39m'\u001b[39m\u001b[39m \u001b[39m\u001b[39m{\u001b[39;00m\u001b[39mlist\u001b[39m(supported)\u001b[39m}\u001b[39;00m\u001b[39m: pass \u001b[39m\u001b[39m{\u001b[39;00mwanted\u001b[39m}\u001b[39;00m\u001b[39m'\u001b[39m\n\u001b[1;32m    167\u001b[0m                   \u001b[39m'\u001b[39m\u001b[39m as keyword arg(s)\u001b[39m\u001b[39m'\u001b[39m,\n\u001b[1;32m    168\u001b[0m                   stacklevel\u001b[39m=\u001b[39mstacklevel,\n\u001b[1;32m    169\u001b[0m                   category\u001b[39m=\u001b[39mcategory)\n\u001b[0;32m--> 171\u001b[0m \u001b[39mreturn\u001b[39;00m func(\u001b[39m*\u001b[39;49margs, \u001b[39m*\u001b[39;49m\u001b[39m*\u001b[39;49mkwargs)\n",
      "File \u001b[0;32m~/miniforge3/envs/metarl/lib/python3.11/site-packages/graphviz/piping.py:121\u001b[0m, in \u001b[0;36mPipe._pipe_legacy\u001b[0;34m(self, format, renderer, formatter, neato_no_op, quiet, engine, encoding)\u001b[0m\n\u001b[1;32m    112\u001b[0m \u001b[39m@_tools\u001b[39m\u001b[39m.\u001b[39mdeprecate_positional_args(supported_number\u001b[39m=\u001b[39m\u001b[39m2\u001b[39m)\n\u001b[1;32m    113\u001b[0m \u001b[39mdef\u001b[39;00m \u001b[39m_pipe_legacy\u001b[39m(\u001b[39mself\u001b[39m,\n\u001b[1;32m    114\u001b[0m                  \u001b[39mformat\u001b[39m: typing\u001b[39m.\u001b[39mOptional[\u001b[39mstr\u001b[39m] \u001b[39m=\u001b[39m \u001b[39mNone\u001b[39;00m,\n\u001b[0;32m   (...)\u001b[0m\n\u001b[1;32m    119\u001b[0m                  engine: typing\u001b[39m.\u001b[39mOptional[\u001b[39mstr\u001b[39m] \u001b[39m=\u001b[39m \u001b[39mNone\u001b[39;00m,\n\u001b[1;32m    120\u001b[0m                  encoding: typing\u001b[39m.\u001b[39mOptional[\u001b[39mstr\u001b[39m] \u001b[39m=\u001b[39m \u001b[39mNone\u001b[39;00m) \u001b[39m-\u001b[39m\u001b[39m>\u001b[39m typing\u001b[39m.\u001b[39mUnion[\u001b[39mbytes\u001b[39m, \u001b[39mstr\u001b[39m]:\n\u001b[0;32m--> 121\u001b[0m     \u001b[39mreturn\u001b[39;00m \u001b[39mself\u001b[39;49m\u001b[39m.\u001b[39;49m_pipe_future(\u001b[39mformat\u001b[39;49m,\n\u001b[1;32m    122\u001b[0m                              renderer\u001b[39m=\u001b[39;49mrenderer,\n\u001b[1;32m    123\u001b[0m                              formatter\u001b[39m=\u001b[39;49mformatter,\n\u001b[1;32m    124\u001b[0m                              neato_no_op\u001b[39m=\u001b[39;49mneato_no_op,\n\u001b[1;32m    125\u001b[0m                              quiet\u001b[39m=\u001b[39;49mquiet,\n\u001b[1;32m    126\u001b[0m                              engine\u001b[39m=\u001b[39;49mengine,\n\u001b[1;32m    127\u001b[0m                              encoding\u001b[39m=\u001b[39;49mencoding)\n",
      "File \u001b[0;32m~/miniforge3/envs/metarl/lib/python3.11/site-packages/graphviz/piping.py:149\u001b[0m, in \u001b[0;36mPipe._pipe_future\u001b[0;34m(self, format, renderer, formatter, neato_no_op, quiet, engine, encoding)\u001b[0m\n\u001b[1;32m    146\u001b[0m \u001b[39mif\u001b[39;00m encoding \u001b[39mis\u001b[39;00m \u001b[39mnot\u001b[39;00m \u001b[39mNone\u001b[39;00m:\n\u001b[1;32m    147\u001b[0m     \u001b[39mif\u001b[39;00m codecs\u001b[39m.\u001b[39mlookup(encoding) \u001b[39mis\u001b[39;00m codecs\u001b[39m.\u001b[39mlookup(\u001b[39mself\u001b[39m\u001b[39m.\u001b[39mencoding):\n\u001b[1;32m    148\u001b[0m         \u001b[39m# common case: both stdin and stdout need the same encoding\u001b[39;00m\n\u001b[0;32m--> 149\u001b[0m         \u001b[39mreturn\u001b[39;00m \u001b[39mself\u001b[39;49m\u001b[39m.\u001b[39;49m_pipe_lines_string(\u001b[39m*\u001b[39;49margs, encoding\u001b[39m=\u001b[39;49mencoding, \u001b[39m*\u001b[39;49m\u001b[39m*\u001b[39;49mkwargs)\n\u001b[1;32m    150\u001b[0m     \u001b[39mtry\u001b[39;00m:\n\u001b[1;32m    151\u001b[0m         raw \u001b[39m=\u001b[39m \u001b[39mself\u001b[39m\u001b[39m.\u001b[39m_pipe_lines(\u001b[39m*\u001b[39margs, input_encoding\u001b[39m=\u001b[39m\u001b[39mself\u001b[39m\u001b[39m.\u001b[39mencoding, \u001b[39m*\u001b[39m\u001b[39m*\u001b[39mkwargs)\n",
      "File \u001b[0;32m~/miniforge3/envs/metarl/lib/python3.11/site-packages/graphviz/backend/piping.py:212\u001b[0m, in \u001b[0;36mpipe_lines_string\u001b[0;34m(engine, format, input_lines, encoding, renderer, formatter, neato_no_op, quiet)\u001b[0m\n\u001b[1;32m    206\u001b[0m cmd \u001b[39m=\u001b[39m dot_command\u001b[39m.\u001b[39mcommand(engine, \u001b[39mformat\u001b[39m,\n\u001b[1;32m    207\u001b[0m                           renderer\u001b[39m=\u001b[39mrenderer,\n\u001b[1;32m    208\u001b[0m                           formatter\u001b[39m=\u001b[39mformatter,\n\u001b[1;32m    209\u001b[0m                           neato_no_op\u001b[39m=\u001b[39mneato_no_op)\n\u001b[1;32m    210\u001b[0m kwargs \u001b[39m=\u001b[39m {\u001b[39m'\u001b[39m\u001b[39minput_lines\u001b[39m\u001b[39m'\u001b[39m: input_lines, \u001b[39m'\u001b[39m\u001b[39mencoding\u001b[39m\u001b[39m'\u001b[39m: encoding}\n\u001b[0;32m--> 212\u001b[0m proc \u001b[39m=\u001b[39m execute\u001b[39m.\u001b[39;49mrun_check(cmd, capture_output\u001b[39m=\u001b[39;49m\u001b[39mTrue\u001b[39;49;00m, quiet\u001b[39m=\u001b[39;49mquiet, \u001b[39m*\u001b[39;49m\u001b[39m*\u001b[39;49mkwargs)\n\u001b[1;32m    213\u001b[0m \u001b[39mreturn\u001b[39;00m proc\u001b[39m.\u001b[39mstdout\n",
      "File \u001b[0;32m~/miniforge3/envs/metarl/lib/python3.11/site-packages/graphviz/backend/execute.py:84\u001b[0m, in \u001b[0;36mrun_check\u001b[0;34m(cmd, input_lines, encoding, quiet, **kwargs)\u001b[0m\n\u001b[1;32m     82\u001b[0m \u001b[39mexcept\u001b[39;00m \u001b[39mOSError\u001b[39;00m \u001b[39mas\u001b[39;00m e:\n\u001b[1;32m     83\u001b[0m     \u001b[39mif\u001b[39;00m e\u001b[39m.\u001b[39merrno \u001b[39m==\u001b[39m errno\u001b[39m.\u001b[39mENOENT:\n\u001b[0;32m---> 84\u001b[0m         \u001b[39mraise\u001b[39;00m ExecutableNotFound(cmd) \u001b[39mfrom\u001b[39;00m \u001b[39me\u001b[39;00m\n\u001b[1;32m     85\u001b[0m     \u001b[39mraise\u001b[39;00m\n\u001b[1;32m     87\u001b[0m \u001b[39mif\u001b[39;00m \u001b[39mnot\u001b[39;00m quiet \u001b[39mand\u001b[39;00m proc\u001b[39m.\u001b[39mstderr:\n",
      "\u001b[0;31mExecutableNotFound\u001b[0m: failed to execute PosixPath('dot'), make sure the Graphviz executables are on your systems' PATH"
     ]
    },
    {
     "data": {
      "text/plain": [
       "<graphviz.sources.Source at 0x1501379d0>"
      ]
     },
     "execution_count": 9,
     "metadata": {},
     "output_type": "execute_result"
    }
   ],
   "source": [
    "graph, cm, report = trainDT(X1, X1, y1, y1, COLS_TO_USE, y_col=y_col, max_depth=2)\n",
    "graph"
   ]
  },
  {
   "cell_type": "code",
   "execution_count": 10,
   "metadata": {},
   "outputs": [
    {
     "data": {
      "image/png": "[encoded data removed]",
      "text/plain": [
       "<Figure size 640x480 with 2 Axes>"
      ]
     },
     "metadata": {},
     "output_type": "display_data"
    }
   ],
   "source": [
    "sns.heatmap(cm, annot=True);"
   ]
  },
  {
   "cell_type": "code",
   "execution_count": 11,
   "metadata": {},
   "outputs": [
    {
     "name": "stdout",
     "output_type": "stream",
     "text": [
      "              precision    recall  f1-score   support\n",
      "\n",
      "        sell       0.63      0.84      0.72       906\n",
      "         buy       0.68      0.41      0.51       751\n",
      "\n",
      "    accuracy                           0.65      1657\n",
      "   macro avg       0.66      0.63      0.62      1657\n",
      "weighted avg       0.65      0.65      0.63      1657\n",
      "\n"
     ]
    }
   ],
   "source": [
    "print(report)\n"
   ]
  },
  {
   "cell_type": "code",
   "execution_count": 12,
   "metadata": {},
   "outputs": [],
   "source": [
    "from decision_tree import DecisionTree"
   ]
  },
  {
   "cell_type": "code",
   "execution_count": 13,
   "metadata": {},
   "outputs": [
    {
     "name": "stdout",
     "output_type": "stream",
     "text": [
      "[INFO] Trained Tree!\n"
     ]
    }
   ],
   "source": [
    "dt = DecisionTree(max_depth=2)\n",
    "dt.train(X1, y1)"
   ]
  },
  {
   "cell_type": "code",
   "execution_count": 14,
   "metadata": {},
   "outputs": [
    {
     "name": "stdout",
     "output_type": "stream",
     "text": [
      "              precision    recall  f1-score   support\n",
      "\n",
      "          -1       0.63      0.84      0.72       906\n",
      "           1       0.68      0.41      0.51       751\n",
      "\n",
      "    accuracy                           0.65      1657\n",
      "   macro avg       0.66      0.63      0.62      1657\n",
      "weighted avg       0.65      0.65      0.63      1657\n",
      "\n"
     ]
    }
   ],
   "source": [
    "dt.score(X1, y1)"
   ]
  },
  {
   "cell_type": "code",
   "execution_count": 15,
   "metadata": {},
   "outputs": [
    {
     "name": "stdout",
     "output_type": "stream",
     "text": [
      "                                                                                                         Index: 0\n",
      "                                                                                                         Open-Close_ma_1-Open-Close_ma_50_val >= 2\n",
      "                                                                                                         Gini: 0.49562489597177206\n",
      "                                                                                                         Samples: 1657\n",
      "                                                                                                         Values: {-1: 906, 1: 751}\n",
      "                                                                                                         Class: -1\n",
      "\n",
      "                                   Index: 1                                                                                                                                    Index: 2\n",
      "                                   BBP_5_2.0_slope_1_changelen_val >= 2                                                                                                        Open-Close_ma_1-Open-Close_ma_10_val >= 1\n",
      "                                   Gini: 0.4352635605650824                                                                                                                    Gini: 0.4651204180969306\n",
      "                                   Samples: 453                                                                                                                                Samples: 1204\n",
      "                                   Values: {1: 308, -1: 145}                                                                                                                   Values: {-1: 761, 1: 443}\n",
      "                                   Class: 1                                                                                                                                    Class: -1\n",
      "\n",
      "Index: 3                                                              Index: 4                                                              Index: 5                                                              Index: 6\n",
      "Gini: 0.49485402226423025                                             Gini: 0.3881279919375157                                              Gini: 0.4932549013313645                                              Gini: 0.38771148852437864\n",
      "Samples: 138                                                          Samples: 315                                                          Samples: 706                                                          Samples: 498\n",
      "Values: {1: 76, -1: 62}                                               Values: {1: 232, -1: 83}                                              Values: {-1: 394, 1: 312}                                             Values: {-1: 367, 1: 131}\n",
      "Class: 1                                                              Class: 1                                                              Class: -1                                                             Class: -1\n",
      "\n"
     ]
    }
   ],
   "source": [
    "dt.visualize()"
   ]
  },
  {
   "cell_type": "code",
   "execution_count": 16,
   "metadata": {},
   "outputs": [
    {
     "name": "stdout",
     "output_type": "stream",
     "text": [
      "[INFO] Pruned leaf with index: 3 as impurity=0.49485402226423025>=thresh=0.45\n",
      "[INFO] Pruned leaf with index: 5 as impurity=0.4932549013313645>=thresh=0.45\n",
      "[INFO] Pruning complete!\n"
     ]
    }
   ],
   "source": [
    "dt.prune(impurity_thresh=0.45, set_action=0)"
   ]
  },
  {
   "cell_type": "code",
   "execution_count": 17,
   "metadata": {},
   "outputs": [
    {
     "name": "stdout",
     "output_type": "stream",
     "text": [
      "                                                                                                         Index: 0\n",
      "                                                                                                         Open-Close_ma_1-Open-Close_ma_50_val >= 2\n",
      "                                                                                                         Gini: 0.49562489597177206\n",
      "                                                                                                         Samples: 1657\n",
      "                                                                                                         Values: {-1: 906, 1: 751}\n",
      "                                                                                                         Class: -1\n",
      "\n",
      "                                   Index: 1                                                                                                                                    Index: 2\n",
      "                                   BBP_5_2.0_slope_1_changelen_val >= 2                                                                                                        Open-Close_ma_1-Open-Close_ma_10_val >= 1\n",
      "                                   Gini: 0.4352635605650824                                                                                                                    Gini: 0.4651204180969306\n",
      "                                   Samples: 453                                                                                                                                Samples: 1204\n",
      "                                   Values: {1: 308, -1: 145}                                                                                                                   Values: {-1: 761, 1: 443}\n",
      "                                   Class: 1                                                                                                                                    Class: -1\n",
      "\n",
      "Index: 3                                                              Index: 4                                                              Index: 5                                                              Index: 6\n",
      "Gini: 0.49485402226423025                                             Gini: 0.3881279919375157                                              Gini: 0.4932549013313645                                              Gini: 0.38771148852437864\n",
      "Samples: 138                                                          Samples: 315                                                          Samples: 706                                                          Samples: 498\n",
      "Values: {1: 76, -1: 62}                                               Values: {1: 232, -1: 83}                                              Values: {-1: 394, 1: 312}                                             Values: {-1: 367, 1: 131}\n",
      "Class: 0                                                              Class: 1                                                              Class: 0                                                              Class: -1\n",
      "\n"
     ]
    }
   ],
   "source": [
    "dt.visualize()"
   ]
  },
  {
   "cell_type": "code",
   "execution_count": 18,
   "metadata": {},
   "outputs": [
    {
     "name": "stdout",
     "output_type": "stream",
     "text": [
      "              precision    recall  f1-score   support\n",
      "\n",
      "          -1       0.74      0.41      0.52       906\n",
      "           0       0.00      0.00      0.00         0\n",
      "           1       0.74      0.31      0.44       751\n",
      "\n",
      "    accuracy                           0.36      1657\n",
      "   macro avg       0.49      0.24      0.32      1657\n",
      "weighted avg       0.74      0.36      0.48      1657\n",
      "\n"
     ]
    },
    {
     "name": "stderr",
     "output_type": "stream",
     "text": [
      "/Users/rishabh/miniforge3/envs/metarl/lib/python3.11/site-packages/sklearn/metrics/_classification.py:1344: UndefinedMetricWarning: Recall and F-score are ill-defined and being set to 0.0 in labels with no true samples. Use `zero_division` parameter to control this behavior.\n",
      "  _warn_prf(average, modifier, msg_start, len(result))\n",
      "/Users/rishabh/miniforge3/envs/metarl/lib/python3.11/site-packages/sklearn/metrics/_classification.py:1344: UndefinedMetricWarning: Recall and F-score are ill-defined and being set to 0.0 in labels with no true samples. Use `zero_division` parameter to control this behavior.\n",
      "  _warn_prf(average, modifier, msg_start, len(result))\n",
      "/Users/rishabh/miniforge3/envs/metarl/lib/python3.11/site-packages/sklearn/metrics/_classification.py:1344: UndefinedMetricWarning: Recall and F-score are ill-defined and being set to 0.0 in labels with no true samples. Use `zero_division` parameter to control this behavior.\n",
      "  _warn_prf(average, modifier, msg_start, len(result))\n"
     ]
    }
   ],
   "source": [
    "dt.score(X1, y1)"
   ]
  },
  {
   "cell_type": "code",
   "execution_count": 19,
   "metadata": {},
   "outputs": [],
   "source": [
    "dt.save('saved_models/dt_optimal_alldata_original.pkl')"
   ]
  },
  {
   "cell_type": "code",
   "execution_count": 20,
   "metadata": {},
   "outputs": [
    {
     "name": "stdout",
     "output_type": "stream",
     "text": [
      "[INFO] Trained Tree!\n"
     ]
    }
   ],
   "source": [
    "dt = DecisionTree(max_depth=3)\n",
    "dt.train(X1, y1)"
   ]
  },
  {
   "cell_type": "code",
   "execution_count": 21,
   "metadata": {},
   "outputs": [
    {
     "name": "stdout",
     "output_type": "stream",
     "text": [
      "              precision    recall  f1-score   support\n",
      "\n",
      "          -1       0.67      0.77      0.72       906\n",
      "           1       0.66      0.55      0.60       751\n",
      "\n",
      "    accuracy                           0.67      1657\n",
      "   macro avg       0.67      0.66      0.66      1657\n",
      "weighted avg       0.67      0.67      0.67      1657\n",
      "\n"
     ]
    }
   ],
   "source": [
    "dt.score(X1, y1)"
   ]
  },
  {
   "cell_type": "code",
   "execution_count": 22,
   "metadata": {},
   "outputs": [
    {
     "name": "stdout",
     "output_type": "stream",
     "text": [
      "                                                                                                                                                                                                                                                     Index: 0\n",
      "                                                                                                                                                                                                                                                     Open-Close_ma_1-Open-Close_ma_50_val >= 2\n",
      "                                                                                                                                                                                                                                                     Gini: 0.49562489597177206\n",
      "                                                                                                                                                                                                                                                     Samples: 1657\n",
      "                                                                                                                                                                                                                                                     Values: {-1: 906, 1: 751}\n",
      "                                                                                                                                                                                                                                                     Class: -1\n",
      "\n",
      "                                                                                                         Index: 1                                                                                                                                                                                                                                                                                Index: 2\n",
      "                                                                                                         BBP_5_2.0_slope_1_changelen_val >= 2                                                                                                                                                                                                                                                    Open-Close_ma_1-Open-Close_ma_10_val >= 1\n",
      "                                                                                                         Gini: 0.4352635605650824                                                                                                                                                                                                                                                                Gini: 0.4651204180969306\n",
      "                                                                                                         Samples: 453                                                                                                                                                                                                                                                                            Samples: 1204\n",
      "                                                                                                         Values: {1: 308, -1: 145}                                                                                                                                                                                                                                                               Values: {-1: 761, 1: 443}\n",
      "                                                                                                         Class: 1                                                                                                                                                                                                                                                                                Class: -1\n",
      "\n",
      "                                   Index: 3                                                                                                                                    Index: 4                                                                                                                                    Index: 5                                                                                                                                    Index: 6\n",
      "                                   BBM_5_2.0_ma_1-BBM_5_2.0_ma_20_changelen_val >= 1                                                                                           row_num_slope_10_changelen_val >= 1                                                                                                         BBL_5_2.0_ma_10_slope_15_val >= 2                                                                                                           Volume_ma_10_val >= 1\n",
      "                                   Gini: 0.49485402226423025                                                                                                                   Gini: 0.3881279919375157                                                                                                                    Gini: 0.4932549013313645                                                                                                                    Gini: 0.38771148852437864\n",
      "                                   Samples: 138                                                                                                                                Samples: 315                                                                                                                                Samples: 706                                                                                                                                Samples: 498\n",
      "                                   Values: {1: 76, -1: 62}                                                                                                                     Values: {1: 232, -1: 83}                                                                                                                    Values: {-1: 394, 1: 312}                                                                                                                   Values: {-1: 367, 1: 131}\n",
      "                                   Class: 1                                                                                                                                    Class: 1                                                                                                                                    Class: -1                                                                                                                                   Class: -1\n",
      "\n",
      "Index: 7                                                              Index: 8                                                              Index: 9                                                              Index: 10                                                             Index: 11                                                             Index: 12                                                             Index: 13                                                             Index: 14\n",
      "Gini: 0.45598357686269764                                             Gini: 0.46174739701222267                                             Gini: 0.3232286340394449                                              Gini: 0.4832928662273095                                              Gini: 0.49175153606598776                                             Gini: 0.4745952029024456                                              Gini: 0.3480271814355125                                              Gini: 0.4979971158468195\n",
      "Samples: 91                                                           Samples: 47                                                           Samples: 222                                                          Samples: 93                                                           Samples: 218                                                          Samples: 488                                                          Samples: 419                                                          Samples: 79\n",
      "Values: {1: 59, -1: 32}                                               Values: {-1: 30, 1: 17}                                               Values: {1: 177, -1: 45}                                              Values: {1: 55, -1: 38}                                               Values: {1: 123, -1: 95}                                              Values: {-1: 299, 1: 189}                                             Values: {-1: 325, 1: 94}                                              Values: {-1: 42, 1: 37}\n",
      "Class: 1                                                              Class: -1                                                             Class: 1                                                              Class: 1                                                              Class: 1                                                              Class: -1                                                             Class: -1                                                             Class: -1\n",
      "\n"
     ]
    }
   ],
   "source": [
    "dt.visualize()"
   ]
  },
  {
   "cell_type": "code",
   "execution_count": 23,
   "metadata": {},
   "outputs": [
    {
     "name": "stdout",
     "output_type": "stream",
     "text": [
      "[INFO] Prune leaf with index: 10 as                           impurity=0.4832928662273095>=thresh=0.48\n",
      "[INFO] Pruned leaf with index: 11 as impurity=0.49175153606598776>=thresh=0.48\n",
      "[INFO] Prune leaf with index: 14 as                           impurity=0.4979971158468195>=thresh=0.48\n",
      "[INFO] Pruning complete!\n"
     ]
    }
   ],
   "source": [
    "dt.prune(impurity_thresh=0.48, set_action=0)"
   ]
  },
  {
   "cell_type": "code",
   "execution_count": 24,
   "metadata": {},
   "outputs": [
    {
     "name": "stdout",
     "output_type": "stream",
     "text": [
      "                                                                                                                                                                                                                                                     Index: 0\n",
      "                                                                                                                                                                                                                                                     Open-Close_ma_1-Open-Close_ma_50_val >= 2\n",
      "                                                                                                                                                                                                                                                     Gini: 0.49562489597177206\n",
      "                                                                                                                                                                                                                                                     Samples: 1657\n",
      "                                                                                                                                                                                                                                                     Values: {-1: 906, 1: 751}\n",
      "                                                                                                                                                                                                                                                     Class: -1\n",
      "\n",
      "                                                                                                         Index: 1                                                                                                                                                                                                                                                                                Index: 2\n",
      "                                                                                                         BBP_5_2.0_slope_1_changelen_val >= 2                                                                                                                                                                                                                                                    Open-Close_ma_1-Open-Close_ma_10_val >= 1\n",
      "                                                                                                         Gini: 0.4352635605650824                                                                                                                                                                                                                                                                Gini: 0.4651204180969306\n",
      "                                                                                                         Samples: 453                                                                                                                                                                                                                                                                            Samples: 1204\n",
      "                                                                                                         Values: {1: 308, -1: 145}                                                                                                                                                                                                                                                               Values: {-1: 761, 1: 443}\n",
      "                                                                                                         Class: 1                                                                                                                                                                                                                                                                                Class: -1\n",
      "\n",
      "                                   Index: 3                                                                                                                                    Index: 4                                                                                                                                    Index: 5                                                                                                                                    Index: 6\n",
      "                                   BBM_5_2.0_ma_1-BBM_5_2.0_ma_20_changelen_val >= 1                                                                                           row_num_slope_10_changelen_val >= 1                                                                                                         BBL_5_2.0_ma_10_slope_15_val >= 2                                                                                                           Volume_ma_10_val >= 1\n",
      "                                   Gini: 0.49485402226423025                                                                                                                   Gini: 0.3881279919375157                                                                                                                    Gini: 0.4932549013313645                                                                                                                    Gini: 0.38771148852437864\n",
      "                                   Samples: 138                                                                                                                                Samples: 315                                                                                                                                Samples: 706                                                                                                                                Samples: 498\n",
      "                                   Values: {1: 76, -1: 62}                                                                                                                     Values: {1: 232, -1: 83}                                                                                                                    Values: {-1: 394, 1: 312}                                                                                                                   Values: {-1: 367, 1: 131}\n",
      "                                   Class: 1                                                                                                                                    Class: 1                                                                                                                                    Class: -1                                                                                                                                   Class: -1\n",
      "\n",
      "Index: 7                                                              Index: 8                                                              Index: 9                                                              Index: 10                                                             Index: 11                                                             Index: 12                                                             Index: 13                                                             Index: 14\n",
      "Gini: 0.45598357686269764                                             Gini: 0.46174739701222267                                             Gini: 0.3232286340394449                                              Gini: 0.4832928662273095                                              Gini: 0.49175153606598776                                             Gini: 0.4745952029024456                                              Gini: 0.3480271814355125                                              Gini: 0.4979971158468195\n",
      "Samples: 91                                                           Samples: 47                                                           Samples: 222                                                          Samples: 93                                                           Samples: 218                                                          Samples: 488                                                          Samples: 419                                                          Samples: 79\n",
      "Values: {1: 59, -1: 32}                                               Values: {-1: 30, 1: 17}                                               Values: {1: 177, -1: 45}                                              Values: {1: 55, -1: 38}                                               Values: {1: 123, -1: 95}                                              Values: {-1: 299, 1: 189}                                             Values: {-1: 325, 1: 94}                                              Values: {-1: 42, 1: 37}\n",
      "Class: 1                                                              Class: -1                                                             Class: 1                                                              Class: 0                                                              Class: 0                                                              Class: -1                                                             Class: -1                                                             Class: 0\n",
      "\n"
     ]
    }
   ],
   "source": [
    "dt.visualize()"
   ]
  },
  {
   "cell_type": "code",
   "execution_count": 25,
   "metadata": {},
   "outputs": [
    {
     "name": "stdout",
     "output_type": "stream",
     "text": [
      "              precision    recall  f1-score   support\n",
      "\n",
      "          -1       0.69      0.72      0.70       906\n",
      "           0       0.00      0.00      0.00         0\n",
      "           1       0.75      0.31      0.44       751\n",
      "\n",
      "    accuracy                           0.54      1657\n",
      "   macro avg       0.48      0.35      0.38      1657\n",
      "weighted avg       0.72      0.54      0.59      1657\n",
      "\n"
     ]
    },
    {
     "name": "stderr",
     "output_type": "stream",
     "text": [
      "/Users/rishabh/miniforge3/envs/metarl/lib/python3.11/site-packages/sklearn/metrics/_classification.py:1344: UndefinedMetricWarning: Recall and F-score are ill-defined and being set to 0.0 in labels with no true samples. Use `zero_division` parameter to control this behavior.\n",
      "  _warn_prf(average, modifier, msg_start, len(result))\n",
      "/Users/rishabh/miniforge3/envs/metarl/lib/python3.11/site-packages/sklearn/metrics/_classification.py:1344: UndefinedMetricWarning: Recall and F-score are ill-defined and being set to 0.0 in labels with no true samples. Use `zero_division` parameter to control this behavior.\n",
      "  _warn_prf(average, modifier, msg_start, len(result))\n",
      "/Users/rishabh/miniforge3/envs/metarl/lib/python3.11/site-packages/sklearn/metrics/_classification.py:1344: UndefinedMetricWarning: Recall and F-score are ill-defined and being set to 0.0 in labels with no true samples. Use `zero_division` parameter to control this behavior.\n",
      "  _warn_prf(average, modifier, msg_start, len(result))\n"
     ]
    }
   ],
   "source": [
    "dt.score(X1, y1)"
   ]
  },
  {
   "cell_type": "code",
   "execution_count": 26,
   "metadata": {},
   "outputs": [],
   "source": [
    "dt.save('saved_models/dt_optimal_alldata_original_depth_3.pkl')"
   ]
  },
  {
   "attachments": {},
   "cell_type": "markdown",
   "metadata": {},
   "source": [
    "#### dEPTH=4"
   ]
  },
  {
   "cell_type": "code",
   "execution_count": 49,
   "metadata": {},
   "outputs": [
    {
     "name": "stdout",
     "output_type": "stream",
     "text": [
      "[INFO] Trained Tree!\n"
     ]
    }
   ],
   "source": [
    "dt = DecisionTree(max_depth=4)\n",
    "dt.train(X1, y1)"
   ]
  },
  {
   "cell_type": "code",
   "execution_count": 50,
   "metadata": {},
   "outputs": [
    {
     "name": "stdout",
     "output_type": "stream",
     "text": [
      "              precision    recall  f1-score   support\n",
      "\n",
      "          -1       0.68      0.85      0.76       906\n",
      "           1       0.75      0.52      0.62       751\n",
      "\n",
      "    accuracy                           0.70      1657\n",
      "   macro avg       0.71      0.69      0.69      1657\n",
      "weighted avg       0.71      0.70      0.69      1657\n",
      "\n"
     ]
    }
   ],
   "source": [
    "dt.score(X1, y1)"
   ]
  },
  {
   "cell_type": "code",
   "execution_count": 51,
   "metadata": {},
   "outputs": [
    {
     "name": "stdout",
     "output_type": "stream",
     "text": [
      "                                                                                                                                                                                                                                                                                                                                                                                                                                                                                                                                             Index: 0\n",
      "                                                                                                                                                                                                                                                                                                                                                                                                                                                                                                                                             Open-Close_ma_1-Open-Close_ma_50_val >= 2\n",
      "                                                                                                                                                                                                                                                                                                                                                                                                                                                                                                                                             Gini: 0.49562489597177206\n",
      "                                                                                                                                                                                                                                                                                                                                                                                                                                                                                                                                             Samples: 1657\n",
      "                                                                                                                                                                                                                                                                                                                                                                                                                                                                                                                                             Values: {-1: 906, 1: 751}\n",
      "                                                                                                                                                                                                                                                                                                                                                                                                                                                                                                                                             Class: -1\n",
      "\n",
      "                                                                                                                                                                                                                                                     Index: 1                                                                                                                                                                                                                                                                                                                                                                                                                                                                                                                                                                        Index: 2\n",
      "                                                                                                                                                                                                                                                     BBP_5_2.0_slope_1_changelen_val >= 2                                                                                                                                                                                                                                                                                                                                                                                                                                                                                                                                            Open-Close_ma_1-Open-Close_ma_10_val >= 1\n",
      "                                                                                                                                                                                                                                                     Gini: 0.4352635605650824                                                                                                                                                                                                                                                                                                                                                                                                                                                                                                                                                        Gini: 0.4651204180969306\n",
      "                                                                                                                                                                                                                                                     Samples: 453                                                                                                                                                                                                                                                                                                                                                                                                                                                                                                                                                                    Samples: 1204\n",
      "                                                                                                                                                                                                                                                     Values: {1: 308, -1: 145}                                                                                                                                                                                                                                                                                                                                                                                                                                                                                                                                                       Values: {-1: 761, 1: 443}\n",
      "                                                                                                                                                                                                                                                     Class: 1                                                                                                                                                                                                                                                                                                                                                                                                                                                                                                                                                                        Class: -1\n",
      "\n",
      "                                                                                                         Index: 3                                                                                                                                                                                                                                                                                Index: 4                                                                                                                                                                                                                                                                                Index: 5                                                                                                                                                                                                                                                                                Index: 6\n",
      "                                                                                                         BBM_5_2.0_ma_1-BBM_5_2.0_ma_20_changelen_val >= 1                                                                                                                                                                                                                                       row_num_slope_10_changelen_val >= 1                                                                                                                                                                                                                                                     BBL_5_2.0_ma_10_slope_15_val >= 2                                                                                                                                                                                                                                                       Volume_ma_10_val >= 1\n",
      "                                                                                                         Gini: 0.49485402226423025                                                                                                                                                                                                                                                               Gini: 0.3881279919375157                                                                                                                                                                                                                                                                Gini: 0.4932549013313645                                                                                                                                                                                                                                                                Gini: 0.38771148852437864\n",
      "                                                                                                         Samples: 138                                                                                                                                                                                                                                                                            Samples: 315                                                                                                                                                                                                                                                                            Samples: 706                                                                                                                                                                                                                                                                            Samples: 498\n",
      "                                                                                                         Values: {1: 76, -1: 62}                                                                                                                                                                                                                                                                 Values: {1: 232, -1: 83}                                                                                                                                                                                                                                                                Values: {-1: 394, 1: 312}                                                                                                                                                                                                                                                               Values: {-1: 367, 1: 131}\n",
      "                                                                                                         Class: 1                                                                                                                                                                                                                                                                                Class: 1                                                                                                                                                                                                                                                                                Class: -1                                                                                                                                                                                                                                                                               Class: -1\n",
      "\n",
      "                                   Index: 7                                                                                                                                    Index: 8                                                                                                                                    Index: 9                                                                                                                                    Index: 10                                                                                                                                   Index: 11                                                                                                                                   Index: 12                                                                                                                                   Index: 13                                                                                                                                   Index: 14\n",
      "                                   Open-High_ma_5-Open-High_ma_20_changelen_val >= 1                                                                                           BBL_5_2.0_ma_5_slope_1_changelen_polarity >= 1                                                                                              High_n-Low_n_ma_50_changelen_val >= 1                                                                                                       High_n-Low_n_ma_20_slope_15_changelen_val >= 1                                                                                              Open_n-Close_n_ma_10_val >= 1                                                                                                               Volume_ma_5_slope_5_val >= 1                                                                                                                Close_n_slope_1_polarity >= 1                                                                                                               Low_ma_5_slope_3_polarity >= 1\n",
      "                                   Gini: 0.45598357686269764                                                                                                                   Gini: 0.46174739701222267                                                                                                                   Gini: 0.3232286340394449                                                                                                                    Gini: 0.4832928662273095                                                                                                                    Gini: 0.49175153606598776                                                                                                                   Gini: 0.4745952029024456                                                                                                                    Gini: 0.3480271814355125                                                                                                                    Gini: 0.4979971158468195\n",
      "                                   Samples: 91                                                                                                                                 Samples: 47                                                                                                                                 Samples: 222                                                                                                                                Samples: 93                                                                                                                                 Samples: 218                                                                                                                                Samples: 488                                                                                                                                Samples: 419                                                                                                                                Samples: 79\n",
      "                                   Values: {1: 59, -1: 32}                                                                                                                     Values: {-1: 30, 1: 17}                                                                                                                     Values: {1: 177, -1: 45}                                                                                                                    Values: {1: 55, -1: 38}                                                                                                                     Values: {1: 123, -1: 95}                                                                                                                    Values: {-1: 299, 1: 189}                                                                                                                   Values: {-1: 325, 1: 94}                                                                                                                    Values: {-1: 42, 1: 37}\n",
      "                                   Class: 1                                                                                                                                    Class: -1                                                                                                                                   Class: 1                                                                                                                                    Class: 1                                                                                                                                    Class: 1                                                                                                                                    Class: -1                                                                                                                                   Class: -1                                                                                                                                   Class: -1\n",
      "\n",
      "Index: 15                                                             Index: 16                                                             Index: 17                                                             Index: 18                                                             Index: 19                                                             Index: 20                                                             Index: 21                                                             Index: 22                                                             Index: 23                                                             Index: 24                                                             Index: 25                                                             Index: 26                                                             Index: 27                                                             Index: 28                                                             Index: 29                                                             Index: 30\n",
      "Gini: 0.41700960219478733                                             Gini: 0.31999999999999984                                             Gini: 0.21875                                                         Gini: 0.3813280736357658                                              Gini: 0.2742364435486129                                              Gini: 0.4885215794306703                                              Gini: 0.4152249134948096                                              Gini: 0.4032                                                          Gini: 0.49441470024456347                                             Gini: 0.4068698060941829                                              Gini: 0.48847345193388336                                             Gini: 0.3796724813100749                                              Gini: 0.32060862171145876                                             Gini: 0.48                                                            Gini: 0.375                                                           Gini: 0.43060361399461744\n",
      "Samples: 81                                                           Samples: 10                                                           Samples: 8                                                            Samples: 39                                                           Samples: 189                                                          Samples: 33                                                           Samples: 68                                                           Samples: 25                                                           Samples: 123                                                          Samples: 95                                                           Samples: 382                                                          Samples: 106                                                          Samples: 394                                                          Samples: 25                                                           Samples: 28                                                           Samples: 51\n",
      "Values: {1: 57, -1: 24}                                               Values: {-1: 8, 1: 2}                                                 Values: {1: 7, -1: 1}                                                 Values: {-1: 29, 1: 10}                                               Values: {1: 158, -1: 31}                                              Values: {1: 19, -1: 14}                                               Values: {1: 48, -1: 20}                                               Values: {-1: 18, 1: 7}                                                Values: {-1: 68, 1: 55}                                               Values: {1: 68, -1: 27}                                               Values: {-1: 220, 1: 162}                                             Values: {-1: 79, 1: 27}                                               Values: {-1: 315, 1: 79}                                              Values: {1: 15, -1: 10}                                               Values: {1: 21, -1: 7}                                                Values: {-1: 35, 1: 16}\n",
      "Class: 1                                                              Class: -1                                                             Class: 1                                                              Class: -1                                                             Class: 1                                                              Class: 1                                                              Class: 1                                                              Class: -1                                                             Class: -1                                                             Class: 1                                                              Class: -1                                                             Class: -1                                                             Class: -1                                                             Class: 1                                                              Class: 1                                                              Class: -1\n",
      "\n"
     ]
    }
   ],
   "source": [
    "dt.visualize()"
   ]
  },
  {
   "cell_type": "code",
   "execution_count": 52,
   "metadata": {},
   "outputs": [
    {
     "name": "stdout",
     "output_type": "stream",
     "text": [
      "[INFO] Prune leaf with index: 20 as                           impurity=0.4885215794306703>=thresh=0.48\n",
      "[INFO] Pruned leaf with index: 23 as impurity=0.49441470024456347>=thresh=0.48\n",
      "[INFO] Pruned leaf with index: 25 as impurity=0.48847345193388336>=thresh=0.48\n",
      "[INFO] Prune leaf with index: 28 as                           impurity=0.48>=thresh=0.48\n",
      "[INFO] Pruning complete!\n"
     ]
    }
   ],
   "source": [
    "dt.prune(impurity_thresh=0.48, set_action=0)"
   ]
  },
  {
   "cell_type": "code",
   "execution_count": 53,
   "metadata": {},
   "outputs": [
    {
     "name": "stdout",
     "output_type": "stream",
     "text": [
      "                                                                                                                                                                                                                                                                                                                                                                                                                                                                                                                                             Index: 0\n",
      "                                                                                                                                                                                                                                                                                                                                                                                                                                                                                                                                             Open-Close_ma_1-Open-Close_ma_50_val >= 2\n",
      "                                                                                                                                                                                                                                                                                                                                                                                                                                                                                                                                             Gini: 0.49562489597177206\n",
      "                                                                                                                                                                                                                                                                                                                                                                                                                                                                                                                                             Samples: 1657\n",
      "                                                                                                                                                                                                                                                                                                                                                                                                                                                                                                                                             Values: {-1: 906, 1: 751}\n",
      "                                                                                                                                                                                                                                                                                                                                                                                                                                                                                                                                             Class: -1\n",
      "\n",
      "                                                                                                                                                                                                                                                     Index: 1                                                                                                                                                                                                                                                                                                                                                                                                                                                                                                                                                                        Index: 2\n",
      "                                                                                                                                                                                                                                                     BBP_5_2.0_slope_1_changelen_val >= 2                                                                                                                                                                                                                                                                                                                                                                                                                                                                                                                                            Open-Close_ma_1-Open-Close_ma_10_val >= 1\n",
      "                                                                                                                                                                                                                                                     Gini: 0.4352635605650824                                                                                                                                                                                                                                                                                                                                                                                                                                                                                                                                                        Gini: 0.4651204180969306\n",
      "                                                                                                                                                                                                                                                     Samples: 453                                                                                                                                                                                                                                                                                                                                                                                                                                                                                                                                                                    Samples: 1204\n",
      "                                                                                                                                                                                                                                                     Values: {1: 308, -1: 145}                                                                                                                                                                                                                                                                                                                                                                                                                                                                                                                                                       Values: {-1: 761, 1: 443}\n",
      "                                                                                                                                                                                                                                                     Class: 1                                                                                                                                                                                                                                                                                                                                                                                                                                                                                                                                                                        Class: -1\n",
      "\n",
      "                                                                                                         Index: 3                                                                                                                                                                                                                                                                                Index: 4                                                                                                                                                                                                                                                                                Index: 5                                                                                                                                                                                                                                                                                Index: 6\n",
      "                                                                                                         BBM_5_2.0_ma_1-BBM_5_2.0_ma_20_changelen_val >= 1                                                                                                                                                                                                                                       row_num_slope_10_changelen_val >= 1                                                                                                                                                                                                                                                     BBL_5_2.0_ma_10_slope_15_val >= 2                                                                                                                                                                                                                                                       Volume_ma_10_val >= 1\n",
      "                                                                                                         Gini: 0.49485402226423025                                                                                                                                                                                                                                                               Gini: 0.3881279919375157                                                                                                                                                                                                                                                                Gini: 0.4932549013313645                                                                                                                                                                                                                                                                Gini: 0.38771148852437864\n",
      "                                                                                                         Samples: 138                                                                                                                                                                                                                                                                            Samples: 315                                                                                                                                                                                                                                                                            Samples: 706                                                                                                                                                                                                                                                                            Samples: 498\n",
      "                                                                                                         Values: {1: 76, -1: 62}                                                                                                                                                                                                                                                                 Values: {1: 232, -1: 83}                                                                                                                                                                                                                                                                Values: {-1: 394, 1: 312}                                                                                                                                                                                                                                                               Values: {-1: 367, 1: 131}\n",
      "                                                                                                         Class: 1                                                                                                                                                                                                                                                                                Class: 1                                                                                                                                                                                                                                                                                Class: -1                                                                                                                                                                                                                                                                               Class: -1\n",
      "\n",
      "                                   Index: 7                                                                                                                                    Index: 8                                                                                                                                    Index: 9                                                                                                                                    Index: 10                                                                                                                                   Index: 11                                                                                                                                   Index: 12                                                                                                                                   Index: 13                                                                                                                                   Index: 14\n",
      "                                   Open-High_ma_5-Open-High_ma_20_changelen_val >= 1                                                                                           BBL_5_2.0_ma_5_slope_1_changelen_polarity >= 1                                                                                              High_n-Low_n_ma_50_changelen_val >= 1                                                                                                       High_n-Low_n_ma_20_slope_15_changelen_val >= 1                                                                                              Open_n-Close_n_ma_10_val >= 1                                                                                                               Volume_ma_5_slope_5_val >= 1                                                                                                                Close_n_slope_1_polarity >= 1                                                                                                               Low_ma_5_slope_3_polarity >= 1\n",
      "                                   Gini: 0.45598357686269764                                                                                                                   Gini: 0.46174739701222267                                                                                                                   Gini: 0.3232286340394449                                                                                                                    Gini: 0.4832928662273095                                                                                                                    Gini: 0.49175153606598776                                                                                                                   Gini: 0.4745952029024456                                                                                                                    Gini: 0.3480271814355125                                                                                                                    Gini: 0.4979971158468195\n",
      "                                   Samples: 91                                                                                                                                 Samples: 47                                                                                                                                 Samples: 222                                                                                                                                Samples: 93                                                                                                                                 Samples: 218                                                                                                                                Samples: 488                                                                                                                                Samples: 419                                                                                                                                Samples: 79\n",
      "                                   Values: {1: 59, -1: 32}                                                                                                                     Values: {-1: 30, 1: 17}                                                                                                                     Values: {1: 177, -1: 45}                                                                                                                    Values: {1: 55, -1: 38}                                                                                                                     Values: {1: 123, -1: 95}                                                                                                                    Values: {-1: 299, 1: 189}                                                                                                                   Values: {-1: 325, 1: 94}                                                                                                                    Values: {-1: 42, 1: 37}\n",
      "                                   Class: 1                                                                                                                                    Class: -1                                                                                                                                   Class: 1                                                                                                                                    Class: 1                                                                                                                                    Class: 1                                                                                                                                    Class: -1                                                                                                                                   Class: -1                                                                                                                                   Class: -1\n",
      "\n",
      "Index: 15                                                             Index: 16                                                             Index: 17                                                             Index: 18                                                             Index: 19                                                             Index: 20                                                             Index: 21                                                             Index: 22                                                             Index: 23                                                             Index: 24                                                             Index: 25                                                             Index: 26                                                             Index: 27                                                             Index: 28                                                             Index: 29                                                             Index: 30\n",
      "Gini: 0.41700960219478733                                             Gini: 0.31999999999999984                                             Gini: 0.21875                                                         Gini: 0.3813280736357658                                              Gini: 0.2742364435486129                                              Gini: 0.4885215794306703                                              Gini: 0.4152249134948096                                              Gini: 0.4032                                                          Gini: 0.49441470024456347                                             Gini: 0.4068698060941829                                              Gini: 0.48847345193388336                                             Gini: 0.3796724813100749                                              Gini: 0.32060862171145876                                             Gini: 0.48                                                            Gini: 0.375                                                           Gini: 0.43060361399461744\n",
      "Samples: 81                                                           Samples: 10                                                           Samples: 8                                                            Samples: 39                                                           Samples: 189                                                          Samples: 33                                                           Samples: 68                                                           Samples: 25                                                           Samples: 123                                                          Samples: 95                                                           Samples: 382                                                          Samples: 106                                                          Samples: 394                                                          Samples: 25                                                           Samples: 28                                                           Samples: 51\n",
      "Values: {1: 57, -1: 24}                                               Values: {-1: 8, 1: 2}                                                 Values: {1: 7, -1: 1}                                                 Values: {-1: 29, 1: 10}                                               Values: {1: 158, -1: 31}                                              Values: {1: 19, -1: 14}                                               Values: {1: 48, -1: 20}                                               Values: {-1: 18, 1: 7}                                                Values: {-1: 68, 1: 55}                                               Values: {1: 68, -1: 27}                                               Values: {-1: 220, 1: 162}                                             Values: {-1: 79, 1: 27}                                               Values: {-1: 315, 1: 79}                                              Values: {1: 15, -1: 10}                                               Values: {1: 21, -1: 7}                                                Values: {-1: 35, 1: 16}\n",
      "Class: 1                                                              Class: -1                                                             Class: 1                                                              Class: -1                                                             Class: 1                                                              Class: 0                                                              Class: 1                                                              Class: -1                                                             Class: 0                                                              Class: 1                                                              Class: 0                                                              Class: -1                                                             Class: -1                                                             Class: 0                                                              Class: 1                                                              Class: -1\n",
      "\n"
     ]
    }
   ],
   "source": [
    "dt.visualize()"
   ]
  },
  {
   "cell_type": "code",
   "execution_count": 54,
   "metadata": {},
   "outputs": [
    {
     "name": "stdout",
     "output_type": "stream",
     "text": [
      "              precision    recall  f1-score   support\n",
      "\n",
      "          -1       0.77      0.53      0.63       906\n",
      "           0       0.00      0.00      0.00         0\n",
      "           1       0.77      0.48      0.59       751\n",
      "\n",
      "    accuracy                           0.51      1657\n",
      "   macro avg       0.51      0.34      0.41      1657\n",
      "weighted avg       0.77      0.51      0.61      1657\n",
      "\n"
     ]
    },
    {
     "name": "stderr",
     "output_type": "stream",
     "text": [
      "/Users/rishabh/miniforge3/envs/metarl/lib/python3.11/site-packages/sklearn/metrics/_classification.py:1344: UndefinedMetricWarning: Recall and F-score are ill-defined and being set to 0.0 in labels with no true samples. Use `zero_division` parameter to control this behavior.\n",
      "  _warn_prf(average, modifier, msg_start, len(result))\n",
      "/Users/rishabh/miniforge3/envs/metarl/lib/python3.11/site-packages/sklearn/metrics/_classification.py:1344: UndefinedMetricWarning: Recall and F-score are ill-defined and being set to 0.0 in labels with no true samples. Use `zero_division` parameter to control this behavior.\n",
      "  _warn_prf(average, modifier, msg_start, len(result))\n",
      "/Users/rishabh/miniforge3/envs/metarl/lib/python3.11/site-packages/sklearn/metrics/_classification.py:1344: UndefinedMetricWarning: Recall and F-score are ill-defined and being set to 0.0 in labels with no true samples. Use `zero_division` parameter to control this behavior.\n",
      "  _warn_prf(average, modifier, msg_start, len(result))\n"
     ]
    }
   ],
   "source": [
    "dt.score(X1, y1)"
   ]
  },
  {
   "cell_type": "code",
   "execution_count": null,
   "metadata": {},
   "outputs": [],
   "source": [
    "dt.save('saved_models/dt_optimal_alldata_original_depth_4.pkl')"
   ]
  },
  {
   "attachments": {},
   "cell_type": "markdown",
   "metadata": {},
   "source": [
    "### Optimal, Real, Using all starting points"
   ]
  },
  {
   "attachments": {},
   "cell_type": "markdown",
   "metadata": {},
   "source": [
    "#### Depth=2"
   ]
  },
  {
   "cell_type": "code",
   "execution_count": 27,
   "metadata": {},
   "outputs": [],
   "source": [
    "df2, X2, y2, COLS_TO_USE, y_col, pre_discrete_cols, discrete_cols  = get_data(dfs[1])"
   ]
  },
  {
   "cell_type": "code",
   "execution_count": 28,
   "metadata": {},
   "outputs": [],
   "source": [
    "df2 = df2.dropna()\n",
    "indices_to_keep = ~df2.isin([np.nan, np.inf, -np.inf]).any(axis=1)\n",
    "df2 = df2[indices_to_keep]\n",
    "X2 = df2.loc[:, COLS_TO_USE]\n",
    "y2 = df2.loc[:, y_col]"
   ]
  },
  {
   "cell_type": "code",
   "execution_count": 29,
   "metadata": {},
   "outputs": [
    {
     "ename": "ExecutableNotFound",
     "evalue": "failed to execute PosixPath('dot'), make sure the Graphviz executables are on your systems' PATH",
     "output_type": "error",
     "traceback": [
      "\u001b[0;31m---------------------------------------------------------------------------\u001b[0m",
      "\u001b[0;31mFileNotFoundError\u001b[0m                         Traceback (most recent call last)",
      "File \u001b[0;32m~/miniforge3/envs/metarl/lib/python3.11/site-packages/graphviz/backend/execute.py:79\u001b[0m, in \u001b[0;36mrun_check\u001b[0;34m(cmd, input_lines, encoding, quiet, **kwargs)\u001b[0m\n\u001b[1;32m     78\u001b[0m         kwargs[\u001b[39m'\u001b[39m\u001b[39mstdout\u001b[39m\u001b[39m'\u001b[39m] \u001b[39m=\u001b[39m kwargs[\u001b[39m'\u001b[39m\u001b[39mstderr\u001b[39m\u001b[39m'\u001b[39m] \u001b[39m=\u001b[39m subprocess\u001b[39m.\u001b[39mPIPE\n\u001b[0;32m---> 79\u001b[0m     proc \u001b[39m=\u001b[39m _run_input_lines(cmd, input_lines, kwargs\u001b[39m=\u001b[39;49mkwargs)\n\u001b[1;32m     80\u001b[0m \u001b[39melse\u001b[39;00m:\n",
      "File \u001b[0;32m~/miniforge3/envs/metarl/lib/python3.11/site-packages/graphviz/backend/execute.py:99\u001b[0m, in \u001b[0;36m_run_input_lines\u001b[0;34m(cmd, input_lines, kwargs)\u001b[0m\n\u001b[1;32m     98\u001b[0m \u001b[39mdef\u001b[39;00m \u001b[39m_run_input_lines\u001b[39m(cmd, input_lines, \u001b[39m*\u001b[39m, kwargs):\n\u001b[0;32m---> 99\u001b[0m     popen \u001b[39m=\u001b[39m subprocess\u001b[39m.\u001b[39;49mPopen(cmd, stdin\u001b[39m=\u001b[39;49msubprocess\u001b[39m.\u001b[39;49mPIPE, \u001b[39m*\u001b[39;49m\u001b[39m*\u001b[39;49mkwargs)\n\u001b[1;32m    101\u001b[0m     stdin_write \u001b[39m=\u001b[39m popen\u001b[39m.\u001b[39mstdin\u001b[39m.\u001b[39mwrite\n",
      "File \u001b[0;32m~/miniforge3/envs/metarl/lib/python3.11/subprocess.py:1022\u001b[0m, in \u001b[0;36mPopen.__init__\u001b[0;34m(self, args, bufsize, executable, stdin, stdout, stderr, preexec_fn, close_fds, shell, cwd, env, universal_newlines, startupinfo, creationflags, restore_signals, start_new_session, pass_fds, user, group, extra_groups, encoding, errors, text, umask, pipesize, process_group)\u001b[0m\n\u001b[1;32m   1019\u001b[0m             \u001b[39mself\u001b[39m\u001b[39m.\u001b[39mstderr \u001b[39m=\u001b[39m io\u001b[39m.\u001b[39mTextIOWrapper(\u001b[39mself\u001b[39m\u001b[39m.\u001b[39mstderr,\n\u001b[1;32m   1020\u001b[0m                     encoding\u001b[39m=\u001b[39mencoding, errors\u001b[39m=\u001b[39merrors)\n\u001b[0;32m-> 1022\u001b[0m     \u001b[39mself\u001b[39;49m\u001b[39m.\u001b[39;49m_execute_child(args, executable, preexec_fn, close_fds,\n\u001b[1;32m   1023\u001b[0m                         pass_fds, cwd, env,\n\u001b[1;32m   1024\u001b[0m                         startupinfo, creationflags, shell,\n\u001b[1;32m   1025\u001b[0m                         p2cread, p2cwrite,\n\u001b[1;32m   1026\u001b[0m                         c2pread, c2pwrite,\n\u001b[1;32m   1027\u001b[0m                         errread, errwrite,\n\u001b[1;32m   1028\u001b[0m                         restore_signals,\n\u001b[1;32m   1029\u001b[0m                         gid, gids, uid, umask,\n\u001b[1;32m   1030\u001b[0m                         start_new_session, process_group)\n\u001b[1;32m   1031\u001b[0m \u001b[39mexcept\u001b[39;00m:\n\u001b[1;32m   1032\u001b[0m     \u001b[39m# Cleanup if the child failed starting.\u001b[39;00m\n",
      "File \u001b[0;32m~/miniforge3/envs/metarl/lib/python3.11/subprocess.py:1899\u001b[0m, in \u001b[0;36mPopen._execute_child\u001b[0;34m(self, args, executable, preexec_fn, close_fds, pass_fds, cwd, env, startupinfo, creationflags, shell, p2cread, p2cwrite, c2pread, c2pwrite, errread, errwrite, restore_signals, gid, gids, uid, umask, start_new_session, process_group)\u001b[0m\n\u001b[1;32m   1898\u001b[0m         err_msg \u001b[39m=\u001b[39m os\u001b[39m.\u001b[39mstrerror(errno_num)\n\u001b[0;32m-> 1899\u001b[0m     \u001b[39mraise\u001b[39;00m child_exception_type(errno_num, err_msg, err_filename)\n\u001b[1;32m   1900\u001b[0m \u001b[39mraise\u001b[39;00m child_exception_type(err_msg)\n",
      "\u001b[0;31mFileNotFoundError\u001b[0m: [Errno 2] No such file or directory: PosixPath('dot')",
      "\nThe above exception was the direct cause of the following exception:\n",
      "\u001b[0;31mExecutableNotFound\u001b[0m                        Traceback (most recent call last)",
      "File \u001b[0;32m~/miniforge3/envs/metarl/lib/python3.11/site-packages/IPython/core/formatters.py:972\u001b[0m, in \u001b[0;36mMimeBundleFormatter.__call__\u001b[0;34m(self, obj, include, exclude)\u001b[0m\n\u001b[1;32m    969\u001b[0m     method \u001b[39m=\u001b[39m get_real_method(obj, \u001b[39mself\u001b[39m\u001b[39m.\u001b[39mprint_method)\n\u001b[1;32m    971\u001b[0m     \u001b[39mif\u001b[39;00m method \u001b[39mis\u001b[39;00m \u001b[39mnot\u001b[39;00m \u001b[39mNone\u001b[39;00m:\n\u001b[0;32m--> 972\u001b[0m         \u001b[39mreturn\u001b[39;00m method(include\u001b[39m=\u001b[39;49minclude, exclude\u001b[39m=\u001b[39;49mexclude)\n\u001b[1;32m    973\u001b[0m     \u001b[39mreturn\u001b[39;00m \u001b[39mNone\u001b[39;00m\n\u001b[1;32m    974\u001b[0m \u001b[39melse\u001b[39;00m:\n",
      "File \u001b[0;32m~/miniforge3/envs/metarl/lib/python3.11/site-packages/graphviz/jupyter_integration.py:98\u001b[0m, in \u001b[0;36mJupyterIntegration._repr_mimebundle_\u001b[0;34m(self, include, exclude, **_)\u001b[0m\n\u001b[1;32m     96\u001b[0m include \u001b[39m=\u001b[39m \u001b[39mset\u001b[39m(include) \u001b[39mif\u001b[39;00m include \u001b[39mis\u001b[39;00m \u001b[39mnot\u001b[39;00m \u001b[39mNone\u001b[39;00m \u001b[39melse\u001b[39;00m {\u001b[39mself\u001b[39m\u001b[39m.\u001b[39m_jupyter_mimetype}\n\u001b[1;32m     97\u001b[0m include \u001b[39m-\u001b[39m\u001b[39m=\u001b[39m \u001b[39mset\u001b[39m(exclude \u001b[39mor\u001b[39;00m [])\n\u001b[0;32m---> 98\u001b[0m \u001b[39mreturn\u001b[39;00m {mimetype: \u001b[39mgetattr\u001b[39;49m(\u001b[39mself\u001b[39;49m, method_name)()\n\u001b[1;32m     99\u001b[0m         \u001b[39mfor\u001b[39;49;00m mimetype, method_name \u001b[39min\u001b[39;49;00m MIME_TYPES\u001b[39m.\u001b[39;49mitems()\n\u001b[1;32m    100\u001b[0m         \u001b[39mif\u001b[39;49;00m mimetype \u001b[39min\u001b[39;49;00m include}\n",
      "File \u001b[0;32m~/miniforge3/envs/metarl/lib/python3.11/site-packages/graphviz/jupyter_integration.py:98\u001b[0m, in \u001b[0;36m<dictcomp>\u001b[0;34m(.0)\u001b[0m\n\u001b[1;32m     96\u001b[0m include \u001b[39m=\u001b[39m \u001b[39mset\u001b[39m(include) \u001b[39mif\u001b[39;00m include \u001b[39mis\u001b[39;00m \u001b[39mnot\u001b[39;00m \u001b[39mNone\u001b[39;00m \u001b[39melse\u001b[39;00m {\u001b[39mself\u001b[39m\u001b[39m.\u001b[39m_jupyter_mimetype}\n\u001b[1;32m     97\u001b[0m include \u001b[39m-\u001b[39m\u001b[39m=\u001b[39m \u001b[39mset\u001b[39m(exclude \u001b[39mor\u001b[39;00m [])\n\u001b[0;32m---> 98\u001b[0m \u001b[39mreturn\u001b[39;00m {mimetype: \u001b[39mgetattr\u001b[39;49m(\u001b[39mself\u001b[39;49m, method_name)()\n\u001b[1;32m     99\u001b[0m         \u001b[39mfor\u001b[39;00m mimetype, method_name \u001b[39min\u001b[39;00m MIME_TYPES\u001b[39m.\u001b[39mitems()\n\u001b[1;32m    100\u001b[0m         \u001b[39mif\u001b[39;00m mimetype \u001b[39min\u001b[39;00m include}\n",
      "File \u001b[0;32m~/miniforge3/envs/metarl/lib/python3.11/site-packages/graphviz/jupyter_integration.py:112\u001b[0m, in \u001b[0;36mJupyterIntegration._repr_image_svg_xml\u001b[0;34m(self)\u001b[0m\n\u001b[1;32m    110\u001b[0m \u001b[39mdef\u001b[39;00m \u001b[39m_repr_image_svg_xml\u001b[39m(\u001b[39mself\u001b[39m) \u001b[39m-\u001b[39m\u001b[39m>\u001b[39m \u001b[39mstr\u001b[39m:\n\u001b[1;32m    111\u001b[0m \u001b[39m    \u001b[39m\u001b[39m\"\"\"Return the rendered graph as SVG string.\"\"\"\u001b[39;00m\n\u001b[0;32m--> 112\u001b[0m     \u001b[39mreturn\u001b[39;00m \u001b[39mself\u001b[39;49m\u001b[39m.\u001b[39;49mpipe(\u001b[39mformat\u001b[39;49m\u001b[39m=\u001b[39;49m\u001b[39m'\u001b[39;49m\u001b[39msvg\u001b[39;49m\u001b[39m'\u001b[39;49m, encoding\u001b[39m=\u001b[39;49mSVG_ENCODING)\n",
      "File \u001b[0;32m~/miniforge3/envs/metarl/lib/python3.11/site-packages/graphviz/piping.py:104\u001b[0m, in \u001b[0;36mPipe.pipe\u001b[0;34m(self, format, renderer, formatter, neato_no_op, quiet, engine, encoding)\u001b[0m\n\u001b[1;32m     55\u001b[0m \u001b[39mdef\u001b[39;00m \u001b[39mpipe\u001b[39m(\u001b[39mself\u001b[39m,\n\u001b[1;32m     56\u001b[0m          \u001b[39mformat\u001b[39m: typing\u001b[39m.\u001b[39mOptional[\u001b[39mstr\u001b[39m] \u001b[39m=\u001b[39m \u001b[39mNone\u001b[39;00m,\n\u001b[1;32m     57\u001b[0m          renderer: typing\u001b[39m.\u001b[39mOptional[\u001b[39mstr\u001b[39m] \u001b[39m=\u001b[39m \u001b[39mNone\u001b[39;00m,\n\u001b[0;32m   (...)\u001b[0m\n\u001b[1;32m     61\u001b[0m          engine: typing\u001b[39m.\u001b[39mOptional[\u001b[39mstr\u001b[39m] \u001b[39m=\u001b[39m \u001b[39mNone\u001b[39;00m,\n\u001b[1;32m     62\u001b[0m          encoding: typing\u001b[39m.\u001b[39mOptional[\u001b[39mstr\u001b[39m] \u001b[39m=\u001b[39m \u001b[39mNone\u001b[39;00m) \u001b[39m-\u001b[39m\u001b[39m>\u001b[39m typing\u001b[39m.\u001b[39mUnion[\u001b[39mbytes\u001b[39m, \u001b[39mstr\u001b[39m]:\n\u001b[1;32m     63\u001b[0m \u001b[39m    \u001b[39m\u001b[39m\"\"\"Return the source piped through the Graphviz layout command.\u001b[39;00m\n\u001b[1;32m     64\u001b[0m \n\u001b[1;32m     65\u001b[0m \u001b[39m    Args:\u001b[39;00m\n\u001b[0;32m   (...)\u001b[0m\n\u001b[1;32m    102\u001b[0m \u001b[39m        '<?xml version='\u001b[39;00m\n\u001b[1;32m    103\u001b[0m \u001b[39m    \"\"\"\u001b[39;00m\n\u001b[0;32m--> 104\u001b[0m     \u001b[39mreturn\u001b[39;00m \u001b[39mself\u001b[39;49m\u001b[39m.\u001b[39;49m_pipe_legacy(\u001b[39mformat\u001b[39;49m,\n\u001b[1;32m    105\u001b[0m                              renderer\u001b[39m=\u001b[39;49mrenderer,\n\u001b[1;32m    106\u001b[0m                              formatter\u001b[39m=\u001b[39;49mformatter,\n\u001b[1;32m    107\u001b[0m                              neato_no_op\u001b[39m=\u001b[39;49mneato_no_op,\n\u001b[1;32m    108\u001b[0m                              quiet\u001b[39m=\u001b[39;49mquiet,\n\u001b[1;32m    109\u001b[0m                              engine\u001b[39m=\u001b[39;49mengine,\n\u001b[1;32m    110\u001b[0m                              encoding\u001b[39m=\u001b[39;49mencoding)\n",
      "File \u001b[0;32m~/miniforge3/envs/metarl/lib/python3.11/site-packages/graphviz/_tools.py:171\u001b[0m, in \u001b[0;36mdeprecate_positional_args.<locals>.decorator.<locals>.wrapper\u001b[0;34m(*args, **kwargs)\u001b[0m\n\u001b[1;32m    162\u001b[0m     wanted \u001b[39m=\u001b[39m \u001b[39m'\u001b[39m\u001b[39m, \u001b[39m\u001b[39m'\u001b[39m\u001b[39m.\u001b[39mjoin(\u001b[39mf\u001b[39m\u001b[39m'\u001b[39m\u001b[39m{\u001b[39;00mname\u001b[39m}\u001b[39;00m\u001b[39m=\u001b[39m\u001b[39m{\u001b[39;00mvalue\u001b[39m!r}\u001b[39;00m\u001b[39m'\u001b[39m\n\u001b[1;32m    163\u001b[0m                        \u001b[39mfor\u001b[39;00m name, value \u001b[39min\u001b[39;00m deprecated\u001b[39m.\u001b[39mitems())\n\u001b[1;32m    164\u001b[0m     warnings\u001b[39m.\u001b[39mwarn(\u001b[39mf\u001b[39m\u001b[39m'\u001b[39m\u001b[39mThe signature of \u001b[39m\u001b[39m{\u001b[39;00mfunc\u001b[39m.\u001b[39m\u001b[39m__name__\u001b[39m\u001b[39m}\u001b[39;00m\u001b[39m will be reduced\u001b[39m\u001b[39m'\u001b[39m\n\u001b[1;32m    165\u001b[0m                   \u001b[39mf\u001b[39m\u001b[39m'\u001b[39m\u001b[39m to \u001b[39m\u001b[39m{\u001b[39;00msupported_number\u001b[39m}\u001b[39;00m\u001b[39m positional args\u001b[39m\u001b[39m'\u001b[39m\n\u001b[1;32m    166\u001b[0m                   \u001b[39mf\u001b[39m\u001b[39m'\u001b[39m\u001b[39m \u001b[39m\u001b[39m{\u001b[39;00m\u001b[39mlist\u001b[39m(supported)\u001b[39m}\u001b[39;00m\u001b[39m: pass \u001b[39m\u001b[39m{\u001b[39;00mwanted\u001b[39m}\u001b[39;00m\u001b[39m'\u001b[39m\n\u001b[1;32m    167\u001b[0m                   \u001b[39m'\u001b[39m\u001b[39m as keyword arg(s)\u001b[39m\u001b[39m'\u001b[39m,\n\u001b[1;32m    168\u001b[0m                   stacklevel\u001b[39m=\u001b[39mstacklevel,\n\u001b[1;32m    169\u001b[0m                   category\u001b[39m=\u001b[39mcategory)\n\u001b[0;32m--> 171\u001b[0m \u001b[39mreturn\u001b[39;00m func(\u001b[39m*\u001b[39;49margs, \u001b[39m*\u001b[39;49m\u001b[39m*\u001b[39;49mkwargs)\n",
      "File \u001b[0;32m~/miniforge3/envs/metarl/lib/python3.11/site-packages/graphviz/piping.py:121\u001b[0m, in \u001b[0;36mPipe._pipe_legacy\u001b[0;34m(self, format, renderer, formatter, neato_no_op, quiet, engine, encoding)\u001b[0m\n\u001b[1;32m    112\u001b[0m \u001b[39m@_tools\u001b[39m\u001b[39m.\u001b[39mdeprecate_positional_args(supported_number\u001b[39m=\u001b[39m\u001b[39m2\u001b[39m)\n\u001b[1;32m    113\u001b[0m \u001b[39mdef\u001b[39;00m \u001b[39m_pipe_legacy\u001b[39m(\u001b[39mself\u001b[39m,\n\u001b[1;32m    114\u001b[0m                  \u001b[39mformat\u001b[39m: typing\u001b[39m.\u001b[39mOptional[\u001b[39mstr\u001b[39m] \u001b[39m=\u001b[39m \u001b[39mNone\u001b[39;00m,\n\u001b[0;32m   (...)\u001b[0m\n\u001b[1;32m    119\u001b[0m                  engine: typing\u001b[39m.\u001b[39mOptional[\u001b[39mstr\u001b[39m] \u001b[39m=\u001b[39m \u001b[39mNone\u001b[39;00m,\n\u001b[1;32m    120\u001b[0m                  encoding: typing\u001b[39m.\u001b[39mOptional[\u001b[39mstr\u001b[39m] \u001b[39m=\u001b[39m \u001b[39mNone\u001b[39;00m) \u001b[39m-\u001b[39m\u001b[39m>\u001b[39m typing\u001b[39m.\u001b[39mUnion[\u001b[39mbytes\u001b[39m, \u001b[39mstr\u001b[39m]:\n\u001b[0;32m--> 121\u001b[0m     \u001b[39mreturn\u001b[39;00m \u001b[39mself\u001b[39;49m\u001b[39m.\u001b[39;49m_pipe_future(\u001b[39mformat\u001b[39;49m,\n\u001b[1;32m    122\u001b[0m                              renderer\u001b[39m=\u001b[39;49mrenderer,\n\u001b[1;32m    123\u001b[0m                              formatter\u001b[39m=\u001b[39;49mformatter,\n\u001b[1;32m    124\u001b[0m                              neato_no_op\u001b[39m=\u001b[39;49mneato_no_op,\n\u001b[1;32m    125\u001b[0m                              quiet\u001b[39m=\u001b[39;49mquiet,\n\u001b[1;32m    126\u001b[0m                              engine\u001b[39m=\u001b[39;49mengine,\n\u001b[1;32m    127\u001b[0m                              encoding\u001b[39m=\u001b[39;49mencoding)\n",
      "File \u001b[0;32m~/miniforge3/envs/metarl/lib/python3.11/site-packages/graphviz/piping.py:149\u001b[0m, in \u001b[0;36mPipe._pipe_future\u001b[0;34m(self, format, renderer, formatter, neato_no_op, quiet, engine, encoding)\u001b[0m\n\u001b[1;32m    146\u001b[0m \u001b[39mif\u001b[39;00m encoding \u001b[39mis\u001b[39;00m \u001b[39mnot\u001b[39;00m \u001b[39mNone\u001b[39;00m:\n\u001b[1;32m    147\u001b[0m     \u001b[39mif\u001b[39;00m codecs\u001b[39m.\u001b[39mlookup(encoding) \u001b[39mis\u001b[39;00m codecs\u001b[39m.\u001b[39mlookup(\u001b[39mself\u001b[39m\u001b[39m.\u001b[39mencoding):\n\u001b[1;32m    148\u001b[0m         \u001b[39m# common case: both stdin and stdout need the same encoding\u001b[39;00m\n\u001b[0;32m--> 149\u001b[0m         \u001b[39mreturn\u001b[39;00m \u001b[39mself\u001b[39;49m\u001b[39m.\u001b[39;49m_pipe_lines_string(\u001b[39m*\u001b[39;49margs, encoding\u001b[39m=\u001b[39;49mencoding, \u001b[39m*\u001b[39;49m\u001b[39m*\u001b[39;49mkwargs)\n\u001b[1;32m    150\u001b[0m     \u001b[39mtry\u001b[39;00m:\n\u001b[1;32m    151\u001b[0m         raw \u001b[39m=\u001b[39m \u001b[39mself\u001b[39m\u001b[39m.\u001b[39m_pipe_lines(\u001b[39m*\u001b[39margs, input_encoding\u001b[39m=\u001b[39m\u001b[39mself\u001b[39m\u001b[39m.\u001b[39mencoding, \u001b[39m*\u001b[39m\u001b[39m*\u001b[39mkwargs)\n",
      "File \u001b[0;32m~/miniforge3/envs/metarl/lib/python3.11/site-packages/graphviz/backend/piping.py:212\u001b[0m, in \u001b[0;36mpipe_lines_string\u001b[0;34m(engine, format, input_lines, encoding, renderer, formatter, neato_no_op, quiet)\u001b[0m\n\u001b[1;32m    206\u001b[0m cmd \u001b[39m=\u001b[39m dot_command\u001b[39m.\u001b[39mcommand(engine, \u001b[39mformat\u001b[39m,\n\u001b[1;32m    207\u001b[0m                           renderer\u001b[39m=\u001b[39mrenderer,\n\u001b[1;32m    208\u001b[0m                           formatter\u001b[39m=\u001b[39mformatter,\n\u001b[1;32m    209\u001b[0m                           neato_no_op\u001b[39m=\u001b[39mneato_no_op)\n\u001b[1;32m    210\u001b[0m kwargs \u001b[39m=\u001b[39m {\u001b[39m'\u001b[39m\u001b[39minput_lines\u001b[39m\u001b[39m'\u001b[39m: input_lines, \u001b[39m'\u001b[39m\u001b[39mencoding\u001b[39m\u001b[39m'\u001b[39m: encoding}\n\u001b[0;32m--> 212\u001b[0m proc \u001b[39m=\u001b[39m execute\u001b[39m.\u001b[39;49mrun_check(cmd, capture_output\u001b[39m=\u001b[39;49m\u001b[39mTrue\u001b[39;49;00m, quiet\u001b[39m=\u001b[39;49mquiet, \u001b[39m*\u001b[39;49m\u001b[39m*\u001b[39;49mkwargs)\n\u001b[1;32m    213\u001b[0m \u001b[39mreturn\u001b[39;00m proc\u001b[39m.\u001b[39mstdout\n",
      "File \u001b[0;32m~/miniforge3/envs/metarl/lib/python3.11/site-packages/graphviz/backend/execute.py:84\u001b[0m, in \u001b[0;36mrun_check\u001b[0;34m(cmd, input_lines, encoding, quiet, **kwargs)\u001b[0m\n\u001b[1;32m     82\u001b[0m \u001b[39mexcept\u001b[39;00m \u001b[39mOSError\u001b[39;00m \u001b[39mas\u001b[39;00m e:\n\u001b[1;32m     83\u001b[0m     \u001b[39mif\u001b[39;00m e\u001b[39m.\u001b[39merrno \u001b[39m==\u001b[39m errno\u001b[39m.\u001b[39mENOENT:\n\u001b[0;32m---> 84\u001b[0m         \u001b[39mraise\u001b[39;00m ExecutableNotFound(cmd) \u001b[39mfrom\u001b[39;00m \u001b[39me\u001b[39;00m\n\u001b[1;32m     85\u001b[0m     \u001b[39mraise\u001b[39;00m\n\u001b[1;32m     87\u001b[0m \u001b[39mif\u001b[39;00m \u001b[39mnot\u001b[39;00m quiet \u001b[39mand\u001b[39;00m proc\u001b[39m.\u001b[39mstderr:\n",
      "\u001b[0;31mExecutableNotFound\u001b[0m: failed to execute PosixPath('dot'), make sure the Graphviz executables are on your systems' PATH"
     ]
    },
    {
     "data": {
      "text/plain": [
       "<graphviz.sources.Source at 0x1524ae050>"
      ]
     },
     "execution_count": 29,
     "metadata": {},
     "output_type": "execute_result"
    }
   ],
   "source": [
    "graph, cm, report = trainDT(X2, X2, y2, y2, COLS_TO_USE, y_col=y_col, max_depth=2)\n",
    "graph"
   ]
  },
  {
   "cell_type": "code",
   "execution_count": 30,
   "metadata": {},
   "outputs": [
    {
     "data": {
      "image/png": "[encoded data removed]",
      "text/plain": [
       "<Figure size 640x480 with 2 Axes>"
      ]
     },
     "metadata": {},
     "output_type": "display_data"
    }
   ],
   "source": [
    "sns.heatmap(cm, annot=True);"
   ]
  },
  {
   "cell_type": "code",
   "execution_count": 31,
   "metadata": {},
   "outputs": [
    {
     "name": "stdout",
     "output_type": "stream",
     "text": [
      "              precision    recall  f1-score   support\n",
      "\n",
      "        sell       0.63      0.85      0.72      1629\n",
      "         buy       0.67      0.38      0.49      1333\n",
      "\n",
      "    accuracy                           0.64      2962\n",
      "   macro avg       0.65      0.62      0.60      2962\n",
      "weighted avg       0.65      0.64      0.62      2962\n",
      "\n"
     ]
    }
   ],
   "source": [
    "print(report)\n"
   ]
  },
  {
   "cell_type": "code",
   "execution_count": 32,
   "metadata": {},
   "outputs": [],
   "source": [
    "from decision_tree import DecisionTree"
   ]
  },
  {
   "cell_type": "code",
   "execution_count": 33,
   "metadata": {},
   "outputs": [
    {
     "name": "stdout",
     "output_type": "stream",
     "text": [
      "[INFO] Trained Tree!\n"
     ]
    }
   ],
   "source": [
    "dt = DecisionTree(max_depth=2)\n",
    "dt.train(X2, y2)"
   ]
  },
  {
   "cell_type": "code",
   "execution_count": 34,
   "metadata": {},
   "outputs": [
    {
     "name": "stdout",
     "output_type": "stream",
     "text": [
      "              precision    recall  f1-score   support\n",
      "\n",
      "          -1       0.63      0.85      0.72      1629\n",
      "           1       0.67      0.38      0.49      1333\n",
      "\n",
      "    accuracy                           0.64      2962\n",
      "   macro avg       0.65      0.62      0.60      2962\n",
      "weighted avg       0.65      0.64      0.62      2962\n",
      "\n"
     ]
    }
   ],
   "source": [
    "dt.score(X2, y2)"
   ]
  },
  {
   "cell_type": "code",
   "execution_count": 35,
   "metadata": {},
   "outputs": [
    {
     "name": "stdout",
     "output_type": "stream",
     "text": [
      "                                                                                                         Index: 0\n",
      "                                                                                                         Open-Close_ma_1-Open-Close_ma_10_val >= 2\n",
      "                                                                                                         Gini: 0.4950067499148567\n",
      "                                                                                                         Samples: 2962\n",
      "                                                                                                         Values: {-1: 1629, 1: 1333}\n",
      "                                                                                                         Class: -1\n",
      "\n",
      "                                   Index: 1                                                                                                                                    Index: 2\n",
      "                                   Close_slope_1_polarity >= 1                                                                                                                 Open-Close_slope_1_val >= 1\n",
      "                                   Gini: 0.4594712802768166                                                                                                                    Gini: 0.4675550784837007\n",
      "                                   Samples: 850                                                                                                                                Samples: 2112\n",
      "                                   Values: {1: 546, -1: 304}                                                                                                                   Values: {-1: 1325, 1: 787}\n",
      "                                   Class: 1                                                                                                                                    Class: -1\n",
      "\n",
      "Index: 3                                                              Index: 4                                                              Index: 5                                                              Index: 6\n",
      "Gini: 0.47530864197530853                                             Gini: 0.44057825484764535                                             Gini: 0.4894381927130518                                              Gini: 0.4124541019063428\n",
      "Samples: 90                                                           Samples: 760                                                          Samples: 1266                                                         Samples: 846\n",
      "Values: {-1: 55, 1: 35}                                               Values: {1: 511, -1: 249}                                             Values: {-1: 725, 1: 541}                                             Values: {-1: 600, 1: 246}\n",
      "Class: -1                                                             Class: 1                                                              Class: -1                                                             Class: -1\n",
      "\n"
     ]
    }
   ],
   "source": [
    "dt.visualize()"
   ]
  },
  {
   "cell_type": "code",
   "execution_count": 36,
   "metadata": {},
   "outputs": [
    {
     "name": "stdout",
     "output_type": "stream",
     "text": [
      "[INFO] Pruned leaf with index: 3 as impurity=0.47530864197530853>=thresh=0.46\n",
      "[INFO] Pruned leaf with index: 5 as impurity=0.4894381927130518>=thresh=0.46\n",
      "[INFO] Pruning complete!\n"
     ]
    }
   ],
   "source": [
    "dt.prune(impurity_thresh=0.46, set_action=0)"
   ]
  },
  {
   "cell_type": "code",
   "execution_count": 37,
   "metadata": {},
   "outputs": [
    {
     "name": "stdout",
     "output_type": "stream",
     "text": [
      "                                                                                                         Index: 0\n",
      "                                                                                                         Open-Close_ma_1-Open-Close_ma_10_val >= 2\n",
      "                                                                                                         Gini: 0.4950067499148567\n",
      "                                                                                                         Samples: 2962\n",
      "                                                                                                         Values: {-1: 1629, 1: 1333}\n",
      "                                                                                                         Class: -1\n",
      "\n",
      "                                   Index: 1                                                                                                                                    Index: 2\n",
      "                                   Close_slope_1_polarity >= 1                                                                                                                 Open-Close_slope_1_val >= 1\n",
      "                                   Gini: 0.4594712802768166                                                                                                                    Gini: 0.4675550784837007\n",
      "                                   Samples: 850                                                                                                                                Samples: 2112\n",
      "                                   Values: {1: 546, -1: 304}                                                                                                                   Values: {-1: 1325, 1: 787}\n",
      "                                   Class: 1                                                                                                                                    Class: -1\n",
      "\n",
      "Index: 3                                                              Index: 4                                                              Index: 5                                                              Index: 6\n",
      "Gini: 0.47530864197530853                                             Gini: 0.44057825484764535                                             Gini: 0.4894381927130518                                              Gini: 0.4124541019063428\n",
      "Samples: 90                                                           Samples: 760                                                          Samples: 1266                                                         Samples: 846\n",
      "Values: {-1: 55, 1: 35}                                               Values: {1: 511, -1: 249}                                             Values: {-1: 725, 1: 541}                                             Values: {-1: 600, 1: 246}\n",
      "Class: 0                                                              Class: 1                                                              Class: 0                                                              Class: -1\n",
      "\n"
     ]
    }
   ],
   "source": [
    "dt.visualize()"
   ]
  },
  {
   "cell_type": "code",
   "execution_count": 38,
   "metadata": {},
   "outputs": [
    {
     "name": "stdout",
     "output_type": "stream",
     "text": [
      "              precision    recall  f1-score   support\n",
      "\n",
      "          -1       0.71      0.37      0.48      1629\n",
      "           0       0.00      0.00      0.00         0\n",
      "           1       0.67      0.38      0.49      1333\n",
      "\n",
      "    accuracy                           0.38      2962\n",
      "   macro avg       0.46      0.25      0.32      2962\n",
      "weighted avg       0.69      0.38      0.49      2962\n",
      "\n"
     ]
    },
    {
     "name": "stderr",
     "output_type": "stream",
     "text": [
      "/Users/rishabh/miniforge3/envs/metarl/lib/python3.11/site-packages/sklearn/metrics/_classification.py:1344: UndefinedMetricWarning: Recall and F-score are ill-defined and being set to 0.0 in labels with no true samples. Use `zero_division` parameter to control this behavior.\n",
      "  _warn_prf(average, modifier, msg_start, len(result))\n",
      "/Users/rishabh/miniforge3/envs/metarl/lib/python3.11/site-packages/sklearn/metrics/_classification.py:1344: UndefinedMetricWarning: Recall and F-score are ill-defined and being set to 0.0 in labels with no true samples. Use `zero_division` parameter to control this behavior.\n",
      "  _warn_prf(average, modifier, msg_start, len(result))\n",
      "/Users/rishabh/miniforge3/envs/metarl/lib/python3.11/site-packages/sklearn/metrics/_classification.py:1344: UndefinedMetricWarning: Recall and F-score are ill-defined and being set to 0.0 in labels with no true samples. Use `zero_division` parameter to control this behavior.\n",
      "  _warn_prf(average, modifier, msg_start, len(result))\n"
     ]
    }
   ],
   "source": [
    "dt.score(X2, y2)"
   ]
  },
  {
   "cell_type": "code",
   "execution_count": 39,
   "metadata": {},
   "outputs": [],
   "source": [
    "dt.save('saved_models/dt_optimal_alldata_all.pkl')"
   ]
  },
  {
   "attachments": {},
   "cell_type": "markdown",
   "metadata": {},
   "source": [
    "#### Depth=3"
   ]
  },
  {
   "cell_type": "code",
   "execution_count": 40,
   "metadata": {},
   "outputs": [],
   "source": [
    "from decision_tree import DecisionTree"
   ]
  },
  {
   "cell_type": "code",
   "execution_count": 42,
   "metadata": {},
   "outputs": [
    {
     "name": "stdout",
     "output_type": "stream",
     "text": [
      "[INFO] Trained Tree!\n"
     ]
    }
   ],
   "source": [
    "dt = DecisionTree(max_depth=3)\n",
    "dt.train(X2, y2)"
   ]
  },
  {
   "cell_type": "code",
   "execution_count": 43,
   "metadata": {},
   "outputs": [
    {
     "name": "stdout",
     "output_type": "stream",
     "text": [
      "              precision    recall  f1-score   support\n",
      "\n",
      "          -1       0.65      0.78      0.71      1629\n",
      "           1       0.65      0.48      0.55      1333\n",
      "\n",
      "    accuracy                           0.65      2962\n",
      "   macro avg       0.65      0.63      0.63      2962\n",
      "weighted avg       0.65      0.65      0.64      2962\n",
      "\n"
     ]
    }
   ],
   "source": [
    "dt.score(X2, y2)"
   ]
  },
  {
   "cell_type": "code",
   "execution_count": 44,
   "metadata": {},
   "outputs": [
    {
     "name": "stdout",
     "output_type": "stream",
     "text": [
      "                                                                                                                                                                                                                                                     Index: 0\n",
      "                                                                                                                                                                                                                                                     Open-Close_ma_1-Open-Close_ma_10_val >= 2\n",
      "                                                                                                                                                                                                                                                     Gini: 0.4950067499148567\n",
      "                                                                                                                                                                                                                                                     Samples: 2962\n",
      "                                                                                                                                                                                                                                                     Values: {-1: 1629, 1: 1333}\n",
      "                                                                                                                                                                                                                                                     Class: -1\n",
      "\n",
      "                                                                                                         Index: 1                                                                                                                                                                                                                                                                                Index: 2\n",
      "                                                                                                         Close_slope_1_polarity >= 1                                                                                                                                                                                                                                                             Open-Close_slope_1_val >= 1\n",
      "                                                                                                         Gini: 0.4594712802768166                                                                                                                                                                                                                                                                Gini: 0.4675550784837007\n",
      "                                                                                                         Samples: 850                                                                                                                                                                                                                                                                            Samples: 2112\n",
      "                                                                                                         Values: {1: 546, -1: 304}                                                                                                                                                                                                                                                               Values: {-1: 1325, 1: 787}\n",
      "                                                                                                         Class: 1                                                                                                                                                                                                                                                                                Class: -1\n",
      "\n",
      "                                   Index: 3                                                                                                                                    Index: 4                                                                                                                                    Index: 5                                                                                                                                    Index: 6\n",
      "                                   Volume_ma_10_val >= 1                                                                                                                       row_num_ma_1-row_num_ma_50_changelen_polarity >= 1                                                                                          MACDs_12_26_9_ma_20_changelen_val >= 2                                                                                                      Volume_ma_10_val >= 1\n",
      "                                   Gini: 0.47530864197530853                                                                                                                   Gini: 0.44057825484764535                                                                                                                   Gini: 0.4894381927130518                                                                                                                    Gini: 0.4124541019063428\n",
      "                                   Samples: 90                                                                                                                                 Samples: 760                                                                                                                                Samples: 1266                                                                                                                               Samples: 846\n",
      "                                   Values: {-1: 55, 1: 35}                                                                                                                     Values: {1: 511, -1: 249}                                                                                                                   Values: {-1: 725, 1: 541}                                                                                                                   Values: {-1: 600, 1: 246}\n",
      "                                   Class: -1                                                                                                                                   Class: 1                                                                                                                                    Class: -1                                                                                                                                   Class: -1\n",
      "\n",
      "Index: 7                                                              Index: 8                                                              Index: 9                                                              Index: 10                                                             Index: 11                                                             Index: 12                                                             Index: 13                                                             Index: 14\n",
      "Gini: 0.42907741609040306                                             Gini: 0.2603550295857988                                              Gini: 0.4276929180718112                                              Gini: 0.4872000000000001                                              Gini: 0.4993141289437586                                              Gini: 0.4810305478943888                                              Gini: 0.3837814494853675                                              Gini: 0.4933129714470823\n",
      "Samples: 77                                                           Samples: 13                                                           Samples: 710                                                          Samples: 50                                                           Samples: 270                                                          Samples: 996                                                          Samples: 699                                                          Samples: 147\n",
      "Values: {-1: 53, 1: 24}                                               Values: {1: 11, -1: 2}                                                Values: {1: 490, -1: 220}                                             Values: {-1: 29, 1: 21}                                               Values: {1: 140, -1: 130}                                             Values: {-1: 595, 1: 401}                                             Values: {-1: 518, 1: 181}                                             Values: {-1: 82, 1: 65}\n",
      "Class: -1                                                             Class: 1                                                              Class: 1                                                              Class: -1                                                             Class: 1                                                              Class: -1                                                             Class: -1                                                             Class: -1\n",
      "\n"
     ]
    }
   ],
   "source": [
    "dt.visualize()"
   ]
  },
  {
   "cell_type": "code",
   "execution_count": 45,
   "metadata": {},
   "outputs": [
    {
     "name": "stdout",
     "output_type": "stream",
     "text": [
      "[INFO] Prune leaf with index: 10 as                           impurity=0.4872000000000001>=thresh=0.47\n",
      "[INFO] Pruned leaf with index: 11 as impurity=0.4993141289437586>=thresh=0.47\n",
      "[INFO] Prune leaf with index: 12 as                           impurity=0.4810305478943888>=thresh=0.47\n",
      "[INFO] Prune leaf with index: 14 as                           impurity=0.4933129714470823>=thresh=0.47\n",
      "[INFO] Pruning complete!\n"
     ]
    }
   ],
   "source": [
    "dt.prune(impurity_thresh=0.47, set_action=0)"
   ]
  },
  {
   "cell_type": "code",
   "execution_count": 46,
   "metadata": {},
   "outputs": [
    {
     "name": "stdout",
     "output_type": "stream",
     "text": [
      "                                                                                                                                                                                                                                                     Index: 0\n",
      "                                                                                                                                                                                                                                                     Open-Close_ma_1-Open-Close_ma_10_val >= 2\n",
      "                                                                                                                                                                                                                                                     Gini: 0.4950067499148567\n",
      "                                                                                                                                                                                                                                                     Samples: 2962\n",
      "                                                                                                                                                                                                                                                     Values: {-1: 1629, 1: 1333}\n",
      "                                                                                                                                                                                                                                                     Class: -1\n",
      "\n",
      "                                                                                                         Index: 1                                                                                                                                                                                                                                                                                Index: 2\n",
      "                                                                                                         Close_slope_1_polarity >= 1                                                                                                                                                                                                                                                             Open-Close_slope_1_val >= 1\n",
      "                                                                                                         Gini: 0.4594712802768166                                                                                                                                                                                                                                                                Gini: 0.4675550784837007\n",
      "                                                                                                         Samples: 850                                                                                                                                                                                                                                                                            Samples: 2112\n",
      "                                                                                                         Values: {1: 546, -1: 304}                                                                                                                                                                                                                                                               Values: {-1: 1325, 1: 787}\n",
      "                                                                                                         Class: 1                                                                                                                                                                                                                                                                                Class: -1\n",
      "\n",
      "                                   Index: 3                                                                                                                                    Index: 4                                                                                                                                    Index: 5                                                                                                                                    Index: 6\n",
      "                                   Volume_ma_10_val >= 1                                                                                                                       row_num_ma_1-row_num_ma_50_changelen_polarity >= 1                                                                                          MACDs_12_26_9_ma_20_changelen_val >= 2                                                                                                      Volume_ma_10_val >= 1\n",
      "                                   Gini: 0.47530864197530853                                                                                                                   Gini: 0.44057825484764535                                                                                                                   Gini: 0.4894381927130518                                                                                                                    Gini: 0.4124541019063428\n",
      "                                   Samples: 90                                                                                                                                 Samples: 760                                                                                                                                Samples: 1266                                                                                                                               Samples: 846\n",
      "                                   Values: {-1: 55, 1: 35}                                                                                                                     Values: {1: 511, -1: 249}                                                                                                                   Values: {-1: 725, 1: 541}                                                                                                                   Values: {-1: 600, 1: 246}\n",
      "                                   Class: -1                                                                                                                                   Class: 1                                                                                                                                    Class: -1                                                                                                                                   Class: -1\n",
      "\n",
      "Index: 7                                                              Index: 8                                                              Index: 9                                                              Index: 10                                                             Index: 11                                                             Index: 12                                                             Index: 13                                                             Index: 14\n",
      "Gini: 0.42907741609040306                                             Gini: 0.2603550295857988                                              Gini: 0.4276929180718112                                              Gini: 0.4872000000000001                                              Gini: 0.4993141289437586                                              Gini: 0.4810305478943888                                              Gini: 0.3837814494853675                                              Gini: 0.4933129714470823\n",
      "Samples: 77                                                           Samples: 13                                                           Samples: 710                                                          Samples: 50                                                           Samples: 270                                                          Samples: 996                                                          Samples: 699                                                          Samples: 147\n",
      "Values: {-1: 53, 1: 24}                                               Values: {1: 11, -1: 2}                                                Values: {1: 490, -1: 220}                                             Values: {-1: 29, 1: 21}                                               Values: {1: 140, -1: 130}                                             Values: {-1: 595, 1: 401}                                             Values: {-1: 518, 1: 181}                                             Values: {-1: 82, 1: 65}\n",
      "Class: -1                                                             Class: 1                                                              Class: 1                                                              Class: 0                                                              Class: 0                                                              Class: 0                                                              Class: -1                                                             Class: 0\n",
      "\n"
     ]
    }
   ],
   "source": [
    "dt.visualize()"
   ]
  },
  {
   "cell_type": "code",
   "execution_count": 47,
   "metadata": {},
   "outputs": [
    {
     "name": "stdout",
     "output_type": "stream",
     "text": [
      "              precision    recall  f1-score   support\n",
      "\n",
      "          -1       0.74      0.35      0.47      1629\n",
      "           0       0.00      0.00      0.00         0\n",
      "           1       0.69      0.38      0.49      1333\n",
      "\n",
      "    accuracy                           0.36      2962\n",
      "   macro avg       0.48      0.24      0.32      2962\n",
      "weighted avg       0.72      0.36      0.48      2962\n",
      "\n"
     ]
    },
    {
     "name": "stderr",
     "output_type": "stream",
     "text": [
      "/Users/rishabh/miniforge3/envs/metarl/lib/python3.11/site-packages/sklearn/metrics/_classification.py:1344: UndefinedMetricWarning: Recall and F-score are ill-defined and being set to 0.0 in labels with no true samples. Use `zero_division` parameter to control this behavior.\n",
      "  _warn_prf(average, modifier, msg_start, len(result))\n",
      "/Users/rishabh/miniforge3/envs/metarl/lib/python3.11/site-packages/sklearn/metrics/_classification.py:1344: UndefinedMetricWarning: Recall and F-score are ill-defined and being set to 0.0 in labels with no true samples. Use `zero_division` parameter to control this behavior.\n",
      "  _warn_prf(average, modifier, msg_start, len(result))\n",
      "/Users/rishabh/miniforge3/envs/metarl/lib/python3.11/site-packages/sklearn/metrics/_classification.py:1344: UndefinedMetricWarning: Recall and F-score are ill-defined and being set to 0.0 in labels with no true samples. Use `zero_division` parameter to control this behavior.\n",
      "  _warn_prf(average, modifier, msg_start, len(result))\n"
     ]
    }
   ],
   "source": [
    "dt.score(X2, y2)"
   ]
  },
  {
   "cell_type": "code",
   "execution_count": 48,
   "metadata": {},
   "outputs": [],
   "source": [
    "dt.save('saved_models/dt_optimal_alldata_all_depth_3.pkl')"
   ]
  },
  {
   "cell_type": "code",
   "execution_count": null,
   "metadata": {},
   "outputs": [
    {
     "data": {
      "image/svg+xml": [
       "<?xml version=\"1.0\" encoding=\"UTF-8\" standalone=\"no\"?>\n",
       "<!DOCTYPE svg PUBLIC \"-//W3C//DTD SVG 1.1//EN\"\n",
       " \"http://www.w3.org/Graphics/SVG/1.1/DTD/svg11.dtd\">\n",
       "<!-- Generated by graphviz version 7.1.0 (20230121.1956)\n",
       " -->\n",
       "<!-- Title: Tree Pages: 1 -->\n",
       "<svg width=\"1334pt\" height=\"433pt\"\n",
       " viewBox=\"0.00 0.00 1333.50 433.00\" xmlns=\"http://www.w3.org/2000/svg\" xmlns:xlink=\"http://www.w3.org/1999/xlink\">\n",
       "<g id=\"graph0\" class=\"graph\" transform=\"scale(1 1) rotate(0) translate(4 429)\">\n",
       "<title>Tree</title>\n",
       "<polygon fill=\"white\" stroke=\"none\" points=\"-4,4 -4,-429 1329.5,-429 1329.5,4 -4,4\"/>\n",
       "<!-- 0 -->\n",
       "<g id=\"node1\" class=\"node\">\n",
       "<title>0</title>\n",
       "<polygon fill=\"#fae7d9\" stroke=\"black\" points=\"866.5,-425 603.5,-425 603.5,-342 866.5,-342 866.5,-425\"/>\n",
       "<text text-anchor=\"middle\" x=\"735\" y=\"-409.8\" font-family=\"Helvetica,sans-Serif\" font-size=\"14.00\">CMO_14_ma_1_slope_1_polarity &lt;= 0.0</text>\n",
       "<text text-anchor=\"middle\" x=\"735\" y=\"-394.8\" font-family=\"Helvetica,sans-Serif\" font-size=\"14.00\">gini = 0.495</text>\n",
       "<text text-anchor=\"middle\" x=\"735\" y=\"-379.8\" font-family=\"Helvetica,sans-Serif\" font-size=\"14.00\">samples = 3369</text>\n",
       "<text text-anchor=\"middle\" x=\"735\" y=\"-364.8\" font-family=\"Helvetica,sans-Serif\" font-size=\"14.00\">value = [1861, 1508]</text>\n",
       "<text text-anchor=\"middle\" x=\"735\" y=\"-349.8\" font-family=\"Helvetica,sans-Serif\" font-size=\"14.00\">class = sell</text>\n",
       "</g>\n",
       "<!-- 1 -->\n",
       "<g id=\"node2\" class=\"node\">\n",
       "<title>1</title>\n",
       "<polygon fill=\"#cde6f8\" stroke=\"black\" points=\"722,-306 404,-306 404,-223 722,-223 722,-306\"/>\n",
       "<text text-anchor=\"middle\" x=\"563\" y=\"-290.8\" font-family=\"Helvetica,sans-Serif\" font-size=\"14.00\">Open&#45;Close_ma_1&#45;Open&#45;Close_ma_5_val &lt;= 1.5</text>\n",
       "<text text-anchor=\"middle\" x=\"563\" y=\"-275.8\" font-family=\"Helvetica,sans-Serif\" font-size=\"14.00\">gini = 0.489</text>\n",
       "<text text-anchor=\"middle\" x=\"563\" y=\"-260.8\" font-family=\"Helvetica,sans-Serif\" font-size=\"14.00\">samples = 1664</text>\n",
       "<text text-anchor=\"middle\" x=\"563\" y=\"-245.8\" font-family=\"Helvetica,sans-Serif\" font-size=\"14.00\">value = [711, 953]</text>\n",
       "<text text-anchor=\"middle\" x=\"563\" y=\"-230.8\" font-family=\"Helvetica,sans-Serif\" font-size=\"14.00\">class = buy</text>\n",
       "</g>\n",
       "<!-- 0&#45;&gt;1 -->\n",
       "<g id=\"edge1\" class=\"edge\">\n",
       "<title>0&#45;&gt;1</title>\n",
       "<path fill=\"none\" stroke=\"black\" d=\"M674.84,-341.58C661.09,-332.23 646.38,-322.21 632.28,-312.63\"/>\n",
       "<polygon fill=\"black\" stroke=\"black\" points=\"634.61,-309.98 624.37,-307.25 630.67,-315.77 634.61,-309.98\"/>\n",
       "<text text-anchor=\"middle\" x=\"627.8\" y=\"-327.26\" font-family=\"Helvetica,sans-Serif\" font-size=\"14.00\">True</text>\n",
       "</g>\n",
       "<!-- 8 -->\n",
       "<g id=\"node9\" class=\"node\">\n",
       "<title>8</title>\n",
       "<polygon fill=\"#f2be99\" stroke=\"black\" points=\"1032,-306 784,-306 784,-223 1032,-223 1032,-306\"/>\n",
       "<text text-anchor=\"middle\" x=\"908\" y=\"-290.8\" font-family=\"Helvetica,sans-Serif\" font-size=\"14.00\">Open_ma_1&#45;Open_ma_10_val &lt;= 0.5</text>\n",
       "<text text-anchor=\"middle\" x=\"908\" y=\"-275.8\" font-family=\"Helvetica,sans-Serif\" font-size=\"14.00\">gini = 0.439</text>\n",
       "<text text-anchor=\"middle\" x=\"908\" y=\"-260.8\" font-family=\"Helvetica,sans-Serif\" font-size=\"14.00\">samples = 1705</text>\n",
       "<text text-anchor=\"middle\" x=\"908\" y=\"-245.8\" font-family=\"Helvetica,sans-Serif\" font-size=\"14.00\">value = [1150, 555]</text>\n",
       "<text text-anchor=\"middle\" x=\"908\" y=\"-230.8\" font-family=\"Helvetica,sans-Serif\" font-size=\"14.00\">class = sell</text>\n",
       "</g>\n",
       "<!-- 0&#45;&gt;8 -->\n",
       "<g id=\"edge8\" class=\"edge\">\n",
       "<title>0&#45;&gt;8</title>\n",
       "<path fill=\"none\" stroke=\"black\" d=\"M795.51,-341.58C809.33,-332.23 824.14,-322.21 838.32,-312.63\"/>\n",
       "<polygon fill=\"black\" stroke=\"black\" points=\"839.95,-315.75 846.27,-307.25 836.03,-309.95 839.95,-315.75\"/>\n",
       "<text text-anchor=\"middle\" x=\"842.79\" y=\"-327.24\" font-family=\"Helvetica,sans-Serif\" font-size=\"14.00\">False</text>\n",
       "</g>\n",
       "<!-- 2 -->\n",
       "<g id=\"node3\" class=\"node\">\n",
       "<title>2</title>\n",
       "<polygon fill=\"#fcf2eb\" stroke=\"black\" points=\"350,-187 0,-187 0,-104 350,-104 350,-187\"/>\n",
       "<text text-anchor=\"middle\" x=\"175\" y=\"-171.8\" font-family=\"Helvetica,sans-Serif\" font-size=\"14.00\">Volume_ma_20&#45;Volume_ma_50_changelen_val &lt;= 1.5</text>\n",
       "<text text-anchor=\"middle\" x=\"175\" y=\"-156.8\" font-family=\"Helvetica,sans-Serif\" font-size=\"14.00\">gini = 0.499</text>\n",
       "<text text-anchor=\"middle\" x=\"175\" y=\"-141.8\" font-family=\"Helvetica,sans-Serif\" font-size=\"14.00\">samples = 869</text>\n",
       "<text text-anchor=\"middle\" x=\"175\" y=\"-126.8\" font-family=\"Helvetica,sans-Serif\" font-size=\"14.00\">value = [458, 411]</text>\n",
       "<text text-anchor=\"middle\" x=\"175\" y=\"-111.8\" font-family=\"Helvetica,sans-Serif\" font-size=\"14.00\">class = sell</text>\n",
       "</g>\n",
       "<!-- 1&#45;&gt;2 -->\n",
       "<g id=\"edge2\" class=\"edge\">\n",
       "<title>1&#45;&gt;2</title>\n",
       "<path fill=\"none\" stroke=\"black\" d=\"M427.3,-222.58C393.13,-212.28 356.31,-201.17 321.64,-190.72\"/>\n",
       "<polygon fill=\"black\" stroke=\"black\" points=\"322.99,-187.47 312.4,-187.93 320.97,-194.17 322.99,-187.47\"/>\n",
       "</g>\n",
       "<!-- 5 -->\n",
       "<g id=\"node6\" class=\"node\">\n",
       "<title>5</title>\n",
       "<polygon fill=\"#95cbf1\" stroke=\"black\" points=\"757.5,-187 368.5,-187 368.5,-104 757.5,-104 757.5,-187\"/>\n",
       "<text text-anchor=\"middle\" x=\"563\" y=\"-171.8\" font-family=\"Helvetica,sans-Serif\" font-size=\"14.00\">row_num_ma_1&#45;row_num_ma_50_changelen_polarity &lt;= 0.0</text>\n",
       "<text text-anchor=\"middle\" x=\"563\" y=\"-156.8\" font-family=\"Helvetica,sans-Serif\" font-size=\"14.00\">gini = 0.434</text>\n",
       "<text text-anchor=\"middle\" x=\"563\" y=\"-141.8\" font-family=\"Helvetica,sans-Serif\" font-size=\"14.00\">samples = 795</text>\n",
       "<text text-anchor=\"middle\" x=\"563\" y=\"-126.8\" font-family=\"Helvetica,sans-Serif\" font-size=\"14.00\">value = [253, 542]</text>\n",
       "<text text-anchor=\"middle\" x=\"563\" y=\"-111.8\" font-family=\"Helvetica,sans-Serif\" font-size=\"14.00\">class = buy</text>\n",
       "</g>\n",
       "<!-- 1&#45;&gt;5 -->\n",
       "<g id=\"edge5\" class=\"edge\">\n",
       "<title>1&#45;&gt;5</title>\n",
       "<path fill=\"none\" stroke=\"black\" d=\"M563,-222.58C563,-214.79 563,-206.53 563,-198.45\"/>\n",
       "<polygon fill=\"black\" stroke=\"black\" points=\"566.5,-198.71 563,-188.71 559.5,-198.71 566.5,-198.71\"/>\n",
       "</g>\n",
       "<!-- 3 -->\n",
       "<g id=\"node4\" class=\"node\">\n",
       "<title>3</title>\n",
       "<polygon fill=\"#f9e1cf\" stroke=\"black\" points=\"166.5,-68 41.5,-68 41.5,0 166.5,0 166.5,-68\"/>\n",
       "<text text-anchor=\"middle\" x=\"104\" y=\"-52.8\" font-family=\"Helvetica,sans-Serif\" font-size=\"14.00\">gini = 0.491</text>\n",
       "<text text-anchor=\"middle\" x=\"104\" y=\"-37.8\" font-family=\"Helvetica,sans-Serif\" font-size=\"14.00\">samples = 619</text>\n",
       "<text text-anchor=\"middle\" x=\"104\" y=\"-22.8\" font-family=\"Helvetica,sans-Serif\" font-size=\"14.00\">value = [352, 267]</text>\n",
       "<text text-anchor=\"middle\" x=\"104\" y=\"-7.8\" font-family=\"Helvetica,sans-Serif\" font-size=\"14.00\">class = sell</text>\n",
       "</g>\n",
       "<!-- 2&#45;&gt;3 -->\n",
       "<g id=\"edge3\" class=\"edge\">\n",
       "<title>2&#45;&gt;3</title>\n",
       "<path fill=\"none\" stroke=\"black\" d=\"M148.56,-103.73C143.06,-95.24 137.25,-86.28 131.71,-77.73\"/>\n",
       "<polygon fill=\"black\" stroke=\"black\" points=\"134.79,-76.06 126.41,-69.57 128.92,-79.86 134.79,-76.06\"/>\n",
       "</g>\n",
       "<!-- 4 -->\n",
       "<g id=\"node5\" class=\"node\">\n",
       "<title>4</title>\n",
       "<polygon fill=\"#cbe5f8\" stroke=\"black\" points=\"309.5,-68 184.5,-68 184.5,0 309.5,0 309.5,-68\"/>\n",
       "<text text-anchor=\"middle\" x=\"247\" y=\"-52.8\" font-family=\"Helvetica,sans-Serif\" font-size=\"14.00\">gini = 0.488</text>\n",
       "<text text-anchor=\"middle\" x=\"247\" y=\"-37.8\" font-family=\"Helvetica,sans-Serif\" font-size=\"14.00\">samples = 250</text>\n",
       "<text text-anchor=\"middle\" x=\"247\" y=\"-22.8\" font-family=\"Helvetica,sans-Serif\" font-size=\"14.00\">value = [106, 144]</text>\n",
       "<text text-anchor=\"middle\" x=\"247\" y=\"-7.8\" font-family=\"Helvetica,sans-Serif\" font-size=\"14.00\">class = buy</text>\n",
       "</g>\n",
       "<!-- 2&#45;&gt;4 -->\n",
       "<g id=\"edge4\" class=\"edge\">\n",
       "<title>2&#45;&gt;4</title>\n",
       "<path fill=\"none\" stroke=\"black\" d=\"M201.81,-103.73C207.39,-95.24 213.28,-86.28 218.9,-77.73\"/>\n",
       "<polygon fill=\"black\" stroke=\"black\" points=\"221.7,-79.84 224.27,-69.56 215.85,-76 221.7,-79.84\"/>\n",
       "</g>\n",
       "<!-- 6 -->\n",
       "<g id=\"node7\" class=\"node\">\n",
       "<title>6</title>\n",
       "<polygon fill=\"#f7d8c2\" stroke=\"black\" points=\"545,-68 435,-68 435,0 545,0 545,-68\"/>\n",
       "<text text-anchor=\"middle\" x=\"490\" y=\"-52.8\" font-family=\"Helvetica,sans-Serif\" font-size=\"14.00\">gini = 0.483</text>\n",
       "<text text-anchor=\"middle\" x=\"490\" y=\"-37.8\" font-family=\"Helvetica,sans-Serif\" font-size=\"14.00\">samples = 49</text>\n",
       "<text text-anchor=\"middle\" x=\"490\" y=\"-22.8\" font-family=\"Helvetica,sans-Serif\" font-size=\"14.00\">value = [29, 20]</text>\n",
       "<text text-anchor=\"middle\" x=\"490\" y=\"-7.8\" font-family=\"Helvetica,sans-Serif\" font-size=\"14.00\">class = sell</text>\n",
       "</g>\n",
       "<!-- 5&#45;&gt;6 -->\n",
       "<g id=\"edge6\" class=\"edge\">\n",
       "<title>5&#45;&gt;6</title>\n",
       "<path fill=\"none\" stroke=\"black\" d=\"M535.82,-103.73C530.16,-95.24 524.19,-86.28 518.49,-77.73\"/>\n",
       "<polygon fill=\"black\" stroke=\"black\" points=\"521.5,-75.94 513.04,-69.56 515.67,-79.82 521.5,-75.94\"/>\n",
       "</g>\n",
       "<!-- 7 -->\n",
       "<g id=\"node8\" class=\"node\">\n",
       "<title>7</title>\n",
       "<polygon fill=\"#8ec7f0\" stroke=\"black\" points=\"688.5,-68 563.5,-68 563.5,0 688.5,0 688.5,-68\"/>\n",
       "<text text-anchor=\"middle\" x=\"626\" y=\"-52.8\" font-family=\"Helvetica,sans-Serif\" font-size=\"14.00\">gini = 0.42</text>\n",
       "<text text-anchor=\"middle\" x=\"626\" y=\"-37.8\" font-family=\"Helvetica,sans-Serif\" font-size=\"14.00\">samples = 746</text>\n",
       "<text text-anchor=\"middle\" x=\"626\" y=\"-22.8\" font-family=\"Helvetica,sans-Serif\" font-size=\"14.00\">value = [224, 522]</text>\n",
       "<text text-anchor=\"middle\" x=\"626\" y=\"-7.8\" font-family=\"Helvetica,sans-Serif\" font-size=\"14.00\">class = buy</text>\n",
       "</g>\n",
       "<!-- 5&#45;&gt;7 -->\n",
       "<g id=\"edge7\" class=\"edge\">\n",
       "<title>5&#45;&gt;7</title>\n",
       "<path fill=\"none\" stroke=\"black\" d=\"M586.46,-103.73C591.29,-95.34 596.38,-86.47 601.26,-78.01\"/>\n",
       "<polygon fill=\"black\" stroke=\"black\" points=\"604.13,-80.02 606.09,-69.61 598.07,-76.53 604.13,-80.02\"/>\n",
       "</g>\n",
       "<!-- 9 -->\n",
       "<g id=\"node10\" class=\"node\">\n",
       "<title>9</title>\n",
       "<polygon fill=\"#eca16c\" stroke=\"black\" points=\"1040,-187 776,-187 776,-104 1040,-104 1040,-187\"/>\n",
       "<text text-anchor=\"middle\" x=\"908\" y=\"-171.8\" font-family=\"Helvetica,sans-Serif\" font-size=\"14.00\">BBB_5_2.0_ma_1_changelen_val &lt;= 0.5</text>\n",
       "<text text-anchor=\"middle\" x=\"908\" y=\"-156.8\" font-family=\"Helvetica,sans-Serif\" font-size=\"14.00\">gini = 0.324</text>\n",
       "<text text-anchor=\"middle\" x=\"908\" y=\"-141.8\" font-family=\"Helvetica,sans-Serif\" font-size=\"14.00\">samples = 481</text>\n",
       "<text text-anchor=\"middle\" x=\"908\" y=\"-126.8\" font-family=\"Helvetica,sans-Serif\" font-size=\"14.00\">value = [383, 98]</text>\n",
       "<text text-anchor=\"middle\" x=\"908\" y=\"-111.8\" font-family=\"Helvetica,sans-Serif\" font-size=\"14.00\">class = sell</text>\n",
       "</g>\n",
       "<!-- 8&#45;&gt;9 -->\n",
       "<g id=\"edge9\" class=\"edge\">\n",
       "<title>8&#45;&gt;9</title>\n",
       "<path fill=\"none\" stroke=\"black\" d=\"M908,-222.58C908,-214.79 908,-206.53 908,-198.45\"/>\n",
       "<polygon fill=\"black\" stroke=\"black\" points=\"911.5,-198.71 908,-188.71 904.5,-198.71 911.5,-198.71\"/>\n",
       "</g>\n",
       "<!-- 12 -->\n",
       "<g id=\"node13\" class=\"node\">\n",
       "<title>12</title>\n",
       "<polygon fill=\"#f4ccaf\" stroke=\"black\" points=\"1231.5,-187 1058.5,-187 1058.5,-104 1231.5,-104 1231.5,-187\"/>\n",
       "<text text-anchor=\"middle\" x=\"1145\" y=\"-171.8\" font-family=\"Helvetica,sans-Serif\" font-size=\"14.00\">Volume_ma_5_val &lt;= 0.5</text>\n",
       "<text text-anchor=\"middle\" x=\"1145\" y=\"-156.8\" font-family=\"Helvetica,sans-Serif\" font-size=\"14.00\">gini = 0.468</text>\n",
       "<text text-anchor=\"middle\" x=\"1145\" y=\"-141.8\" font-family=\"Helvetica,sans-Serif\" font-size=\"14.00\">samples = 1224</text>\n",
       "<text text-anchor=\"middle\" x=\"1145\" y=\"-126.8\" font-family=\"Helvetica,sans-Serif\" font-size=\"14.00\">value = [767, 457]</text>\n",
       "<text text-anchor=\"middle\" x=\"1145\" y=\"-111.8\" font-family=\"Helvetica,sans-Serif\" font-size=\"14.00\">class = sell</text>\n",
       "</g>\n",
       "<!-- 8&#45;&gt;12 -->\n",
       "<g id=\"edge12\" class=\"edge\">\n",
       "<title>8&#45;&gt;12</title>\n",
       "<path fill=\"none\" stroke=\"black\" d=\"M990.89,-222.58C1010.65,-212.83 1031.86,-202.36 1052.03,-192.4\"/>\n",
       "<polygon fill=\"black\" stroke=\"black\" points=\"1053.38,-195.63 1060.8,-188.07 1050.28,-189.36 1053.38,-195.63\"/>\n",
       "</g>\n",
       "<!-- 10 -->\n",
       "<g id=\"node11\" class=\"node\">\n",
       "<title>10</title>\n",
       "<polygon fill=\"#f1bd98\" stroke=\"black\" points=\"855,-68 745,-68 745,0 855,0 855,-68\"/>\n",
       "<text text-anchor=\"middle\" x=\"800\" y=\"-52.8\" font-family=\"Helvetica,sans-Serif\" font-size=\"14.00\">gini = 0.437</text>\n",
       "<text text-anchor=\"middle\" x=\"800\" y=\"-37.8\" font-family=\"Helvetica,sans-Serif\" font-size=\"14.00\">samples = 130</text>\n",
       "<text text-anchor=\"middle\" x=\"800\" y=\"-22.8\" font-family=\"Helvetica,sans-Serif\" font-size=\"14.00\">value = [88, 42]</text>\n",
       "<text text-anchor=\"middle\" x=\"800\" y=\"-7.8\" font-family=\"Helvetica,sans-Serif\" font-size=\"14.00\">class = sell</text>\n",
       "</g>\n",
       "<!-- 9&#45;&gt;10 -->\n",
       "<g id=\"edge10\" class=\"edge\">\n",
       "<title>9&#45;&gt;10</title>\n",
       "<path fill=\"none\" stroke=\"black\" d=\"M867.78,-103.73C858.97,-94.79 849.63,-85.32 840.79,-76.36\"/>\n",
       "<polygon fill=\"black\" stroke=\"black\" points=\"843.42,-74.04 833.91,-69.38 838.44,-78.95 843.42,-74.04\"/>\n",
       "</g>\n",
       "<!-- 11 -->\n",
       "<g id=\"node12\" class=\"node\">\n",
       "<title>11</title>\n",
       "<polygon fill=\"#ea995f\" stroke=\"black\" points=\"990.5,-68 873.5,-68 873.5,0 990.5,0 990.5,-68\"/>\n",
       "<text text-anchor=\"middle\" x=\"932\" y=\"-52.8\" font-family=\"Helvetica,sans-Serif\" font-size=\"14.00\">gini = 0.268</text>\n",
       "<text text-anchor=\"middle\" x=\"932\" y=\"-37.8\" font-family=\"Helvetica,sans-Serif\" font-size=\"14.00\">samples = 351</text>\n",
       "<text text-anchor=\"middle\" x=\"932\" y=\"-22.8\" font-family=\"Helvetica,sans-Serif\" font-size=\"14.00\">value = [295, 56]</text>\n",
       "<text text-anchor=\"middle\" x=\"932\" y=\"-7.8\" font-family=\"Helvetica,sans-Serif\" font-size=\"14.00\">class = sell</text>\n",
       "</g>\n",
       "<!-- 9&#45;&gt;11 -->\n",
       "<g id=\"edge11\" class=\"edge\">\n",
       "<title>9&#45;&gt;11</title>\n",
       "<path fill=\"none\" stroke=\"black\" d=\"M916.94,-103.73C918.68,-95.79 920.51,-87.44 922.27,-79.39\"/>\n",
       "<polygon fill=\"black\" stroke=\"black\" points=\"925.66,-80.3 924.38,-69.78 918.82,-78.8 925.66,-80.3\"/>\n",
       "</g>\n",
       "<!-- 13 -->\n",
       "<g id=\"node14\" class=\"node\">\n",
       "<title>13</title>\n",
       "<polygon fill=\"#fffefd\" stroke=\"black\" points=\"1182.5,-68 1057.5,-68 1057.5,0 1182.5,0 1182.5,-68\"/>\n",
       "<text text-anchor=\"middle\" x=\"1120\" y=\"-52.8\" font-family=\"Helvetica,sans-Serif\" font-size=\"14.00\">gini = 0.5</text>\n",
       "<text text-anchor=\"middle\" x=\"1120\" y=\"-37.8\" font-family=\"Helvetica,sans-Serif\" font-size=\"14.00\">samples = 231</text>\n",
       "<text text-anchor=\"middle\" x=\"1120\" y=\"-22.8\" font-family=\"Helvetica,sans-Serif\" font-size=\"14.00\">value = [116, 115]</text>\n",
       "<text text-anchor=\"middle\" x=\"1120\" y=\"-7.8\" font-family=\"Helvetica,sans-Serif\" font-size=\"14.00\">class = sell</text>\n",
       "</g>\n",
       "<!-- 12&#45;&gt;13 -->\n",
       "<g id=\"edge13\" class=\"edge\">\n",
       "<title>12&#45;&gt;13</title>\n",
       "<path fill=\"none\" stroke=\"black\" d=\"M1135.69,-103.73C1133.88,-95.79 1131.97,-87.44 1130.13,-79.39\"/>\n",
       "<polygon fill=\"black\" stroke=\"black\" points=\"1133.58,-78.75 1127.94,-69.78 1126.75,-80.3 1133.58,-78.75\"/>\n",
       "</g>\n",
       "<!-- 14 -->\n",
       "<g id=\"node15\" class=\"node\">\n",
       "<title>14</title>\n",
       "<polygon fill=\"#f3c3a1\" stroke=\"black\" points=\"1325.5,-68 1200.5,-68 1200.5,0 1325.5,0 1325.5,-68\"/>\n",
       "<text text-anchor=\"middle\" x=\"1263\" y=\"-52.8\" font-family=\"Helvetica,sans-Serif\" font-size=\"14.00\">gini = 0.452</text>\n",
       "<text text-anchor=\"middle\" x=\"1263\" y=\"-37.8\" font-family=\"Helvetica,sans-Serif\" font-size=\"14.00\">samples = 993</text>\n",
       "<text text-anchor=\"middle\" x=\"1263\" y=\"-22.8\" font-family=\"Helvetica,sans-Serif\" font-size=\"14.00\">value = [651, 342]</text>\n",
       "<text text-anchor=\"middle\" x=\"1263\" y=\"-7.8\" font-family=\"Helvetica,sans-Serif\" font-size=\"14.00\">class = sell</text>\n",
       "</g>\n",
       "<!-- 12&#45;&gt;14 -->\n",
       "<g id=\"edge14\" class=\"edge\">\n",
       "<title>12&#45;&gt;14</title>\n",
       "<path fill=\"none\" stroke=\"black\" d=\"M1188.94,-103.73C1198.67,-94.7 1208.99,-85.12 1218.73,-76.08\"/>\n",
       "<polygon fill=\"black\" stroke=\"black\" points=\"1221.06,-78.7 1226.01,-69.33 1216.3,-73.57 1221.06,-78.7\"/>\n",
       "</g>\n",
       "</g>\n",
       "</svg>\n"
      ],
      "text/plain": [
       "<graphviz.sources.Source at 0x14cd90ad0>"
      ]
     },
     "execution_count": 17,
     "metadata": {},
     "output_type": "execute_result"
    }
   ],
   "source": [
    "graph, cm, report = trainDT(X2, X2, y2, y2, COLS_TO_USE, y_col=y_col, max_depth=3)\n",
    "graph"
   ]
  },
  {
   "attachments": {},
   "cell_type": "markdown",
   "metadata": {},
   "source": [
    "### Synthetic (hp_11), one starting point"
   ]
  },
  {
   "cell_type": "code",
   "execution_count": null,
   "metadata": {},
   "outputs": [],
   "source": [
    "path = os.path.join('additional_utils', 'optimal_synthetic_hp11.pkl')\n",
    "with open(path, 'rb') as f:\n",
    "    optimal_data = pickle.load(f)"
   ]
  },
  {
   "cell_type": "code",
   "execution_count": null,
   "metadata": {},
   "outputs": [],
   "source": [
    "dfs = [optimal_data.feed_original, optimal_data.feed_all]"
   ]
  },
  {
   "cell_type": "code",
   "execution_count": null,
   "metadata": {},
   "outputs": [],
   "source": [
    "df1, X1, y1, COLS_TO_USE, y_col, pre_discrete_cols, discrete_cols  = get_data(dfs[0])"
   ]
  },
  {
   "cell_type": "code",
   "execution_count": null,
   "metadata": {},
   "outputs": [],
   "source": [
    "df1 = df1.dropna()\n",
    "indices_to_keep = ~df1.isin([np.nan, np.inf, -np.inf]).any(axis=1)\n",
    "df1 = df1[indices_to_keep]\n",
    "X1 = df1.loc[:, COLS_TO_USE]\n",
    "y1 = df1.loc[:, y_col]"
   ]
  },
  {
   "cell_type": "code",
   "execution_count": null,
   "metadata": {},
   "outputs": [
    {
     "data": {
      "image/svg+xml": [
       "<?xml version=\"1.0\" encoding=\"UTF-8\" standalone=\"no\"?>\n",
       "<!DOCTYPE svg PUBLIC \"-//W3C//DTD SVG 1.1//EN\"\n",
       " \"http://www.w3.org/Graphics/SVG/1.1/DTD/svg11.dtd\">\n",
       "<!-- Generated by graphviz version 7.1.0 (20230121.1956)\n",
       " -->\n",
       "<!-- Title: Tree Pages: 1 -->\n",
       "<svg width=\"726pt\" height=\"314pt\"\n",
       " viewBox=\"0.00 0.00 726.00 314.00\" xmlns=\"http://www.w3.org/2000/svg\" xmlns:xlink=\"http://www.w3.org/1999/xlink\">\n",
       "<g id=\"graph0\" class=\"graph\" transform=\"scale(1 1) rotate(0) translate(4 310)\">\n",
       "<title>Tree</title>\n",
       "<polygon fill=\"white\" stroke=\"none\" points=\"-4,4 -4,-310 722,-310 722,4 -4,4\"/>\n",
       "<!-- 0 -->\n",
       "<g id=\"node1\" class=\"node\">\n",
       "<title>0</title>\n",
       "<polygon fill=\"#fbfdfe\" stroke=\"black\" points=\"540.5,-306 165.5,-306 165.5,-223 540.5,-223 540.5,-306\"/>\n",
       "<text text-anchor=\"middle\" x=\"353\" y=\"-290.8\" font-family=\"Helvetica,sans-Serif\" font-size=\"14.00\">Close_n_ma_1&#45;Close_n_ma_50_changelen_polarity &lt;= 0.0</text>\n",
       "<text text-anchor=\"middle\" x=\"353\" y=\"-275.8\" font-family=\"Helvetica,sans-Serif\" font-size=\"14.00\">gini = 0.5</text>\n",
       "<text text-anchor=\"middle\" x=\"353\" y=\"-260.8\" font-family=\"Helvetica,sans-Serif\" font-size=\"14.00\">samples = 657</text>\n",
       "<text text-anchor=\"middle\" x=\"353\" y=\"-245.8\" font-family=\"Helvetica,sans-Serif\" font-size=\"14.00\">value = [325, 332]</text>\n",
       "<text text-anchor=\"middle\" x=\"353\" y=\"-230.8\" font-family=\"Helvetica,sans-Serif\" font-size=\"14.00\">class = buy</text>\n",
       "</g>\n",
       "<!-- 1 -->\n",
       "<g id=\"node2\" class=\"node\">\n",
       "<title>1</title>\n",
       "<polygon fill=\"#e78d4b\" stroke=\"black\" points=\"338,-187 0,-187 0,-104 338,-104 338,-187\"/>\n",
       "<text text-anchor=\"middle\" x=\"169\" y=\"-171.8\" font-family=\"Helvetica,sans-Serif\" font-size=\"14.00\">Open&#45;High_ma_1&#45;Open&#45;High_ma_50_polarity &lt;= 0.0</text>\n",
       "<text text-anchor=\"middle\" x=\"169\" y=\"-156.8\" font-family=\"Helvetica,sans-Serif\" font-size=\"14.00\">gini = 0.155</text>\n",
       "<text text-anchor=\"middle\" x=\"169\" y=\"-141.8\" font-family=\"Helvetica,sans-Serif\" font-size=\"14.00\">samples = 318</text>\n",
       "<text text-anchor=\"middle\" x=\"169\" y=\"-126.8\" font-family=\"Helvetica,sans-Serif\" font-size=\"14.00\">value = [291, 27]</text>\n",
       "<text text-anchor=\"middle\" x=\"169\" y=\"-111.8\" font-family=\"Helvetica,sans-Serif\" font-size=\"14.00\">class = sell</text>\n",
       "</g>\n",
       "<!-- 0&#45;&gt;1 -->\n",
       "<g id=\"edge1\" class=\"edge\">\n",
       "<title>0&#45;&gt;1</title>\n",
       "<path fill=\"none\" stroke=\"black\" d=\"M288.65,-222.58C273.8,-213.14 257.89,-203.02 242.68,-193.35\"/>\n",
       "<polygon fill=\"black\" stroke=\"black\" points=\"244.91,-190.62 234.6,-188.21 241.16,-196.53 244.91,-190.62\"/>\n",
       "<text text-anchor=\"middle\" x=\"238.75\" y=\"-208.1\" font-family=\"Helvetica,sans-Serif\" font-size=\"14.00\">True</text>\n",
       "</g>\n",
       "<!-- 4 -->\n",
       "<g id=\"node5\" class=\"node\">\n",
       "<title>4</title>\n",
       "<polygon fill=\"#4fa8e8\" stroke=\"black\" points=\"718,-187 356,-187 356,-104 718,-104 718,-187\"/>\n",
       "<text text-anchor=\"middle\" x=\"537\" y=\"-171.8\" font-family=\"Helvetica,sans-Serif\" font-size=\"14.00\">High_n_ma_1&#45;High_n_ma_20_changelen_polarity &lt;= 0.0</text>\n",
       "<text text-anchor=\"middle\" x=\"537\" y=\"-156.8\" font-family=\"Helvetica,sans-Serif\" font-size=\"14.00\">gini = 0.18</text>\n",
       "<text text-anchor=\"middle\" x=\"537\" y=\"-141.8\" font-family=\"Helvetica,sans-Serif\" font-size=\"14.00\">samples = 339</text>\n",
       "<text text-anchor=\"middle\" x=\"537\" y=\"-126.8\" font-family=\"Helvetica,sans-Serif\" font-size=\"14.00\">value = [34, 305]</text>\n",
       "<text text-anchor=\"middle\" x=\"537\" y=\"-111.8\" font-family=\"Helvetica,sans-Serif\" font-size=\"14.00\">class = buy</text>\n",
       "</g>\n",
       "<!-- 0&#45;&gt;4 -->\n",
       "<g id=\"edge4\" class=\"edge\">\n",
       "<title>0&#45;&gt;4</title>\n",
       "<path fill=\"none\" stroke=\"black\" d=\"M417.35,-222.58C432.2,-213.14 448.11,-203.02 463.32,-193.35\"/>\n",
       "<polygon fill=\"black\" stroke=\"black\" points=\"464.84,-196.53 471.4,-188.21 461.09,-190.62 464.84,-196.53\"/>\n",
       "<text text-anchor=\"middle\" x=\"467.25\" y=\"-208.1\" font-family=\"Helvetica,sans-Serif\" font-size=\"14.00\">False</text>\n",
       "</g>\n",
       "<!-- 2 -->\n",
       "<g id=\"node3\" class=\"node\">\n",
       "<title>2</title>\n",
       "<polygon fill=\"#f6d4bb\" stroke=\"black\" points=\"216,-68 106,-68 106,0 216,0 216,-68\"/>\n",
       "<text text-anchor=\"middle\" x=\"161\" y=\"-52.8\" font-family=\"Helvetica,sans-Serif\" font-size=\"14.00\">gini = 0.479</text>\n",
       "<text text-anchor=\"middle\" x=\"161\" y=\"-37.8\" font-family=\"Helvetica,sans-Serif\" font-size=\"14.00\">samples = 63</text>\n",
       "<text text-anchor=\"middle\" x=\"161\" y=\"-22.8\" font-family=\"Helvetica,sans-Serif\" font-size=\"14.00\">value = [38, 25]</text>\n",
       "<text text-anchor=\"middle\" x=\"161\" y=\"-7.8\" font-family=\"Helvetica,sans-Serif\" font-size=\"14.00\">class = sell</text>\n",
       "</g>\n",
       "<!-- 1&#45;&gt;2 -->\n",
       "<g id=\"edge2\" class=\"edge\">\n",
       "<title>1&#45;&gt;2</title>\n",
       "<path fill=\"none\" stroke=\"black\" d=\"M166.02,-103.73C165.45,-95.88 164.84,-87.63 164.26,-79.67\"/>\n",
       "<polygon fill=\"black\" stroke=\"black\" points=\"167.76,-79.53 163.54,-69.81 160.78,-80.04 167.76,-79.53\"/>\n",
       "</g>\n",
       "<!-- 3 -->\n",
       "<g id=\"node4\" class=\"node\">\n",
       "<title>3</title>\n",
       "<polygon fill=\"#e5823b\" stroke=\"black\" points=\"344,-68 234,-68 234,0 344,0 344,-68\"/>\n",
       "<text text-anchor=\"middle\" x=\"289\" y=\"-52.8\" font-family=\"Helvetica,sans-Serif\" font-size=\"14.00\">gini = 0.016</text>\n",
       "<text text-anchor=\"middle\" x=\"289\" y=\"-37.8\" font-family=\"Helvetica,sans-Serif\" font-size=\"14.00\">samples = 255</text>\n",
       "<text text-anchor=\"middle\" x=\"289\" y=\"-22.8\" font-family=\"Helvetica,sans-Serif\" font-size=\"14.00\">value = [253, 2]</text>\n",
       "<text text-anchor=\"middle\" x=\"289\" y=\"-7.8\" font-family=\"Helvetica,sans-Serif\" font-size=\"14.00\">class = sell</text>\n",
       "</g>\n",
       "<!-- 1&#45;&gt;3 -->\n",
       "<g id=\"edge3\" class=\"edge\">\n",
       "<title>1&#45;&gt;3</title>\n",
       "<path fill=\"none\" stroke=\"black\" d=\"M213.68,-103.73C223.68,-94.61 234.28,-84.93 244.28,-75.81\"/>\n",
       "<polygon fill=\"black\" stroke=\"black\" points=\"246.36,-78.65 251.39,-69.32 241.64,-73.47 246.36,-78.65\"/>\n",
       "</g>\n",
       "<!-- 5 -->\n",
       "<g id=\"node6\" class=\"node\">\n",
       "<title>5</title>\n",
       "<polygon fill=\"#fae7d9\" stroke=\"black\" points=\"532,-68 422,-68 422,0 532,0 532,-68\"/>\n",
       "<text text-anchor=\"middle\" x=\"477\" y=\"-52.8\" font-family=\"Helvetica,sans-Serif\" font-size=\"14.00\">gini = 0.494</text>\n",
       "<text text-anchor=\"middle\" x=\"477\" y=\"-37.8\" font-family=\"Helvetica,sans-Serif\" font-size=\"14.00\">samples = 47</text>\n",
       "<text text-anchor=\"middle\" x=\"477\" y=\"-22.8\" font-family=\"Helvetica,sans-Serif\" font-size=\"14.00\">value = [26, 21]</text>\n",
       "<text text-anchor=\"middle\" x=\"477\" y=\"-7.8\" font-family=\"Helvetica,sans-Serif\" font-size=\"14.00\">class = sell</text>\n",
       "</g>\n",
       "<!-- 4&#45;&gt;5 -->\n",
       "<g id=\"edge5\" class=\"edge\">\n",
       "<title>4&#45;&gt;5</title>\n",
       "<path fill=\"none\" stroke=\"black\" d=\"M514.66,-103.73C510.11,-95.43 505.31,-86.67 500.72,-78.28\"/>\n",
       "<polygon fill=\"black\" stroke=\"black\" points=\"503.85,-76.71 495.97,-69.63 497.71,-80.08 503.85,-76.71\"/>\n",
       "</g>\n",
       "<!-- 6 -->\n",
       "<g id=\"node7\" class=\"node\">\n",
       "<title>6</title>\n",
       "<polygon fill=\"#3fa0e6\" stroke=\"black\" points=\"660,-68 550,-68 550,0 660,0 660,-68\"/>\n",
       "<text text-anchor=\"middle\" x=\"605\" y=\"-52.8\" font-family=\"Helvetica,sans-Serif\" font-size=\"14.00\">gini = 0.053</text>\n",
       "<text text-anchor=\"middle\" x=\"605\" y=\"-37.8\" font-family=\"Helvetica,sans-Serif\" font-size=\"14.00\">samples = 292</text>\n",
       "<text text-anchor=\"middle\" x=\"605\" y=\"-22.8\" font-family=\"Helvetica,sans-Serif\" font-size=\"14.00\">value = [8, 284]</text>\n",
       "<text text-anchor=\"middle\" x=\"605\" y=\"-7.8\" font-family=\"Helvetica,sans-Serif\" font-size=\"14.00\">class = buy</text>\n",
       "</g>\n",
       "<!-- 4&#45;&gt;6 -->\n",
       "<g id=\"edge6\" class=\"edge\">\n",
       "<title>4&#45;&gt;6</title>\n",
       "<path fill=\"none\" stroke=\"black\" d=\"M562.32,-103.73C567.53,-95.34 573.03,-86.47 578.29,-78.01\"/>\n",
       "<polygon fill=\"black\" stroke=\"black\" points=\"581.22,-79.93 583.52,-69.59 575.27,-76.23 581.22,-79.93\"/>\n",
       "</g>\n",
       "</g>\n",
       "</svg>\n"
      ],
      "text/plain": [
       "<graphviz.sources.Source at 0x151894d90>"
      ]
     },
     "execution_count": 22,
     "metadata": {},
     "output_type": "execute_result"
    }
   ],
   "source": [
    "graph, cm, report = trainDT(X1, X1, y1, y1, COLS_TO_USE, y_col=y_col, max_depth=2)\n",
    "graph"
   ]
  },
  {
   "cell_type": "code",
   "execution_count": null,
   "metadata": {},
   "outputs": [
    {
     "data": {
      "image/png": "[encoded data removed]",
      "text/plain": [
       "<Figure size 640x480 with 2 Axes>"
      ]
     },
     "metadata": {},
     "output_type": "display_data"
    }
   ],
   "source": [
    "sns.heatmap(cm, annot=True);"
   ]
  },
  {
   "cell_type": "code",
   "execution_count": null,
   "metadata": {},
   "outputs": [
    {
     "name": "stdout",
     "output_type": "stream",
     "text": [
      "              precision    recall  f1-score   support\n",
      "\n",
      "        sell       0.87      0.98      0.92       325\n",
      "         buy       0.97      0.86      0.91       332\n",
      "\n",
      "    accuracy                           0.91       657\n",
      "   macro avg       0.92      0.92      0.91       657\n",
      "weighted avg       0.92      0.91      0.91       657\n",
      "\n"
     ]
    }
   ],
   "source": [
    "print(report)\n"
   ]
  },
  {
   "cell_type": "code",
   "execution_count": null,
   "metadata": {},
   "outputs": [],
   "source": [
    "from decision_tree import DecisionTree"
   ]
  },
  {
   "cell_type": "code",
   "execution_count": null,
   "metadata": {},
   "outputs": [
    {
     "name": "stdout",
     "output_type": "stream",
     "text": [
      "[INFO] Trained Tree!\n"
     ]
    }
   ],
   "source": [
    "dt = DecisionTree(max_depth=2)\n",
    "dt.train(X1, y1)"
   ]
  },
  {
   "cell_type": "code",
   "execution_count": null,
   "metadata": {},
   "outputs": [
    {
     "name": "stdout",
     "output_type": "stream",
     "text": [
      "              precision    recall  f1-score   support\n",
      "\n",
      "          -1       0.87      0.98      0.92       325\n",
      "           1       0.97      0.86      0.91       332\n",
      "\n",
      "    accuracy                           0.91       657\n",
      "   macro avg       0.92      0.92      0.91       657\n",
      "weighted avg       0.92      0.91      0.91       657\n",
      "\n"
     ]
    }
   ],
   "source": [
    "dt.score(X1, y1)"
   ]
  },
  {
   "cell_type": "code",
   "execution_count": null,
   "metadata": {},
   "outputs": [
    {
     "name": "stdout",
     "output_type": "stream",
     "text": [
      "                                                                                                         Index: 0\n",
      "                                                                                                         Close_n_ma_1-Close_n_ma_50_changelen_polarity >= 1\n",
      "                                                                                                         Gini: 0.49994324092028486\n",
      "                                                                                                         Samples: 657\n",
      "                                                                                                         Values: {1: 332, -1: 325}\n",
      "                                                                                                         Class: 1\n",
      "\n",
      "                                   Index: 1                                                                                                                                    Index: 2\n",
      "                                   High_n_ma_1-High_n_ma_20_changelen_polarity >= 1                                                                                            Open-High_ma_1-Open-High_ma_50_polarity >= 1\n",
      "                                   Gini: 0.18047180236858362                                                                                                                   Gini: 0.15539337842648626\n",
      "                                   Samples: 339                                                                                                                                Samples: 318\n",
      "                                   Values: {1: 305, -1: 34}                                                                                                                    Values: {-1: 291, 1: 27}\n",
      "                                   Class: 1                                                                                                                                    Class: -1\n",
      "\n",
      "Index: 3                                                              Index: 4                                                              Index: 5                                                              Index: 6\n",
      "Gini: 0.05329330080690564                                             Gini: 0.4943413309189678                                              Gini: 0.015563244905805407                                            Gini: 0.47871000251952633\n",
      "Samples: 292                                                          Samples: 47                                                           Samples: 255                                                          Samples: 63\n",
      "Values: {1: 284, -1: 8}                                               Values: {-1: 26, 1: 21}                                               Values: {-1: 253, 1: 2}                                               Values: {-1: 38, 1: 25}\n",
      "Class: 1                                                              Class: -1                                                             Class: -1                                                             Class: -1\n",
      "\n"
     ]
    }
   ],
   "source": [
    "dt.visualize()"
   ]
  },
  {
   "cell_type": "code",
   "execution_count": null,
   "metadata": {},
   "outputs": [
    {
     "name": "stdout",
     "output_type": "stream",
     "text": [
      "[INFO] Prune leaf with index: 4 as                           impurity=0.4943413309189678>=thresh=0.45\n",
      "[INFO] Prune leaf with index: 6 as                           impurity=0.47871000251952633>=thresh=0.45\n",
      "[INFO] Pruning complete!\n"
     ]
    }
   ],
   "source": [
    "dt.prune(impurity_thresh=0.45, set_action=0)"
   ]
  },
  {
   "cell_type": "code",
   "execution_count": null,
   "metadata": {},
   "outputs": [
    {
     "name": "stdout",
     "output_type": "stream",
     "text": [
      "                                                                                                         Index: 0\n",
      "                                                                                                         Close_n_ma_1-Close_n_ma_50_changelen_polarity >= 1\n",
      "                                                                                                         Gini: 0.49994324092028486\n",
      "                                                                                                         Samples: 657\n",
      "                                                                                                         Values: {1: 332, -1: 325}\n",
      "                                                                                                         Class: 1\n",
      "\n",
      "                                   Index: 1                                                                                                                                    Index: 2\n",
      "                                   High_n_ma_1-High_n_ma_20_changelen_polarity >= 1                                                                                            Open-High_ma_1-Open-High_ma_50_polarity >= 1\n",
      "                                   Gini: 0.18047180236858362                                                                                                                   Gini: 0.15539337842648626\n",
      "                                   Samples: 339                                                                                                                                Samples: 318\n",
      "                                   Values: {1: 305, -1: 34}                                                                                                                    Values: {-1: 291, 1: 27}\n",
      "                                   Class: 1                                                                                                                                    Class: -1\n",
      "\n",
      "Index: 3                                                              Index: 4                                                              Index: 5                                                              Index: 6\n",
      "Gini: 0.05329330080690564                                             Gini: 0.4943413309189678                                              Gini: 0.015563244905805407                                            Gini: 0.47871000251952633\n",
      "Samples: 292                                                          Samples: 47                                                           Samples: 255                                                          Samples: 63\n",
      "Values: {1: 284, -1: 8}                                               Values: {-1: 26, 1: 21}                                               Values: {-1: 253, 1: 2}                                               Values: {-1: 38, 1: 25}\n",
      "Class: 1                                                              Class: 0                                                              Class: -1                                                             Class: 0\n",
      "\n"
     ]
    }
   ],
   "source": [
    "dt.visualize()"
   ]
  },
  {
   "cell_type": "code",
   "execution_count": null,
   "metadata": {},
   "outputs": [
    {
     "name": "stdout",
     "output_type": "stream",
     "text": [
      "              precision    recall  f1-score   support\n",
      "\n",
      "          -1       0.99      0.78      0.87       325\n",
      "           0       0.00      0.00      0.00         0\n",
      "           1       0.97      0.86      0.91       332\n",
      "\n",
      "    accuracy                           0.82       657\n",
      "   macro avg       0.65      0.54      0.59       657\n",
      "weighted avg       0.98      0.82      0.89       657\n",
      "\n"
     ]
    },
    {
     "name": "stderr",
     "output_type": "stream",
     "text": [
      "/Users/rishabh/miniforge3/envs/metarl/lib/python3.11/site-packages/sklearn/metrics/_classification.py:1344: UndefinedMetricWarning: Recall and F-score are ill-defined and being set to 0.0 in labels with no true samples. Use `zero_division` parameter to control this behavior.\n",
      "  _warn_prf(average, modifier, msg_start, len(result))\n",
      "/Users/rishabh/miniforge3/envs/metarl/lib/python3.11/site-packages/sklearn/metrics/_classification.py:1344: UndefinedMetricWarning: Recall and F-score are ill-defined and being set to 0.0 in labels with no true samples. Use `zero_division` parameter to control this behavior.\n",
      "  _warn_prf(average, modifier, msg_start, len(result))\n",
      "/Users/rishabh/miniforge3/envs/metarl/lib/python3.11/site-packages/sklearn/metrics/_classification.py:1344: UndefinedMetricWarning: Recall and F-score are ill-defined and being set to 0.0 in labels with no true samples. Use `zero_division` parameter to control this behavior.\n",
      "  _warn_prf(average, modifier, msg_start, len(result))\n"
     ]
    }
   ],
   "source": [
    "dt.score(X1, y1)"
   ]
  },
  {
   "cell_type": "code",
   "execution_count": null,
   "metadata": {},
   "outputs": [],
   "source": [
    "dt.save('saved_models/dt_optimal_synthetic_hp11.pkl')"
   ]
  },
  {
   "attachments": {},
   "cell_type": "markdown",
   "metadata": {},
   "source": [
    "### Synthetic All"
   ]
  },
  {
   "cell_type": "code",
   "execution_count": null,
   "metadata": {},
   "outputs": [],
   "source": [
    "path = os.path.join('additional_utils', 'optimal_synthetic_hp11.pkl')\n",
    "with open(path, 'rb') as f:\n",
    "    optimal_data = pickle.load(f)"
   ]
  },
  {
   "cell_type": "code",
   "execution_count": null,
   "metadata": {},
   "outputs": [],
   "source": [
    "dfs = [optimal_data.feed_original, optimal_data.feed_all]"
   ]
  },
  {
   "cell_type": "code",
   "execution_count": null,
   "metadata": {},
   "outputs": [],
   "source": [
    "df1, X1, y1, COLS_TO_USE, y_col, pre_discrete_cols, discrete_cols  = get_data(dfs[1])"
   ]
  },
  {
   "cell_type": "code",
   "execution_count": null,
   "metadata": {},
   "outputs": [],
   "source": [
    "df1 = df1.dropna()\n",
    "indices_to_keep = ~df1.isin([np.nan, np.inf, -np.inf]).any(axis=1)\n",
    "df1 = df1[indices_to_keep]\n",
    "X1 = df1.loc[:, COLS_TO_USE]\n",
    "y1 = df1.loc[:, y_col]"
   ]
  },
  {
   "cell_type": "code",
   "execution_count": null,
   "metadata": {},
   "outputs": [
    {
     "data": {
      "image/svg+xml": [
       "<?xml version=\"1.0\" encoding=\"UTF-8\" standalone=\"no\"?>\n",
       "<!DOCTYPE svg PUBLIC \"-//W3C//DTD SVG 1.1//EN\"\n",
       " \"http://www.w3.org/Graphics/SVG/1.1/DTD/svg11.dtd\">\n",
       "<!-- Generated by graphviz version 7.1.0 (20230121.1956)\n",
       " -->\n",
       "<!-- Title: Tree Pages: 1 -->\n",
       "<svg width=\"724pt\" height=\"314pt\"\n",
       " viewBox=\"0.00 0.00 724.00 314.00\" xmlns=\"http://www.w3.org/2000/svg\" xmlns:xlink=\"http://www.w3.org/1999/xlink\">\n",
       "<g id=\"graph0\" class=\"graph\" transform=\"scale(1 1) rotate(0) translate(4 310)\">\n",
       "<title>Tree</title>\n",
       "<polygon fill=\"white\" stroke=\"none\" points=\"-4,4 -4,-310 720,-310 720,4 -4,4\"/>\n",
       "<!-- 0 -->\n",
       "<g id=\"node1\" class=\"node\">\n",
       "<title>0</title>\n",
       "<polygon fill=\"#fefcfb\" stroke=\"black\" points=\"467.5,-306 284.5,-306 284.5,-223 467.5,-223 467.5,-306\"/>\n",
       "<text text-anchor=\"middle\" x=\"376\" y=\"-290.8\" font-family=\"Helvetica,sans-Serif\" font-size=\"14.00\">Open&#45;Close_polarity &lt;= 0.0</text>\n",
       "<text text-anchor=\"middle\" x=\"376\" y=\"-275.8\" font-family=\"Helvetica,sans-Serif\" font-size=\"14.00\">gini = 0.5</text>\n",
       "<text text-anchor=\"middle\" x=\"376\" y=\"-260.8\" font-family=\"Helvetica,sans-Serif\" font-size=\"14.00\">samples = 1064</text>\n",
       "<text text-anchor=\"middle\" x=\"376\" y=\"-245.8\" font-family=\"Helvetica,sans-Serif\" font-size=\"14.00\">value = [538, 526]</text>\n",
       "<text text-anchor=\"middle\" x=\"376\" y=\"-230.8\" font-family=\"Helvetica,sans-Serif\" font-size=\"14.00\">class = sell</text>\n",
       "</g>\n",
       "<!-- 1 -->\n",
       "<g id=\"node2\" class=\"node\">\n",
       "<title>1</title>\n",
       "<polygon fill=\"#49a5e7\" stroke=\"black\" points=\"386,-187 0,-187 0,-104 386,-104 386,-187\"/>\n",
       "<text text-anchor=\"middle\" x=\"193\" y=\"-171.8\" font-family=\"Helvetica,sans-Serif\" font-size=\"14.00\">Open_n&#45;Close_n_ma_1&#45;Open_n&#45;Close_n_ma_20_val &lt;= 1.5</text>\n",
       "<text text-anchor=\"middle\" x=\"193\" y=\"-156.8\" font-family=\"Helvetica,sans-Serif\" font-size=\"14.00\">gini = 0.137</text>\n",
       "<text text-anchor=\"middle\" x=\"193\" y=\"-141.8\" font-family=\"Helvetica,sans-Serif\" font-size=\"14.00\">samples = 526</text>\n",
       "<text text-anchor=\"middle\" x=\"193\" y=\"-126.8\" font-family=\"Helvetica,sans-Serif\" font-size=\"14.00\">value = [39, 487]</text>\n",
       "<text text-anchor=\"middle\" x=\"193\" y=\"-111.8\" font-family=\"Helvetica,sans-Serif\" font-size=\"14.00\">class = buy</text>\n",
       "</g>\n",
       "<!-- 0&#45;&gt;1 -->\n",
       "<g id=\"edge1\" class=\"edge\">\n",
       "<title>0&#45;&gt;1</title>\n",
       "<path fill=\"none\" stroke=\"black\" d=\"M312,-222.58C297.23,-213.14 281.41,-203.02 266.28,-193.35\"/>\n",
       "<polygon fill=\"black\" stroke=\"black\" points=\"268.55,-190.65 258.24,-188.21 264.78,-196.55 268.55,-190.65\"/>\n",
       "<text text-anchor=\"middle\" x=\"262.34\" y=\"-208.11\" font-family=\"Helvetica,sans-Serif\" font-size=\"14.00\">True</text>\n",
       "</g>\n",
       "<!-- 4 -->\n",
       "<g id=\"node5\" class=\"node\">\n",
       "<title>4</title>\n",
       "<polygon fill=\"#e78b48\" stroke=\"black\" points=\"716,-187 404,-187 404,-104 716,-104 716,-187\"/>\n",
       "<text text-anchor=\"middle\" x=\"560\" y=\"-171.8\" font-family=\"Helvetica,sans-Serif\" font-size=\"14.00\">Open&#45;High_ma_1&#45;Open&#45;High_ma_50_val &lt;= 0.5</text>\n",
       "<text text-anchor=\"middle\" x=\"560\" y=\"-156.8\" font-family=\"Helvetica,sans-Serif\" font-size=\"14.00\">gini = 0.134</text>\n",
       "<text text-anchor=\"middle\" x=\"560\" y=\"-141.8\" font-family=\"Helvetica,sans-Serif\" font-size=\"14.00\">samples = 538</text>\n",
       "<text text-anchor=\"middle\" x=\"560\" y=\"-126.8\" font-family=\"Helvetica,sans-Serif\" font-size=\"14.00\">value = [499, 39]</text>\n",
       "<text text-anchor=\"middle\" x=\"560\" y=\"-111.8\" font-family=\"Helvetica,sans-Serif\" font-size=\"14.00\">class = sell</text>\n",
       "</g>\n",
       "<!-- 0&#45;&gt;4 -->\n",
       "<g id=\"edge4\" class=\"edge\">\n",
       "<title>0&#45;&gt;4</title>\n",
       "<path fill=\"none\" stroke=\"black\" d=\"M440.35,-222.58C455.2,-213.14 471.11,-203.02 486.32,-193.35\"/>\n",
       "<polygon fill=\"black\" stroke=\"black\" points=\"487.84,-196.53 494.4,-188.21 484.09,-190.62 487.84,-196.53\"/>\n",
       "<text text-anchor=\"middle\" x=\"490.25\" y=\"-208.1\" font-family=\"Helvetica,sans-Serif\" font-size=\"14.00\">False</text>\n",
       "</g>\n",
       "<!-- 2 -->\n",
       "<g id=\"node3\" class=\"node\">\n",
       "<title>2</title>\n",
       "<polygon fill=\"#3b9ee5\" stroke=\"black\" points=\"238,-68 128,-68 128,0 238,0 238,-68\"/>\n",
       "<text text-anchor=\"middle\" x=\"183\" y=\"-52.8\" font-family=\"Helvetica,sans-Serif\" font-size=\"14.00\">gini = 0.017</text>\n",
       "<text text-anchor=\"middle\" x=\"183\" y=\"-37.8\" font-family=\"Helvetica,sans-Serif\" font-size=\"14.00\">samples = 462</text>\n",
       "<text text-anchor=\"middle\" x=\"183\" y=\"-22.8\" font-family=\"Helvetica,sans-Serif\" font-size=\"14.00\">value = [4, 458]</text>\n",
       "<text text-anchor=\"middle\" x=\"183\" y=\"-7.8\" font-family=\"Helvetica,sans-Serif\" font-size=\"14.00\">class = buy</text>\n",
       "</g>\n",
       "<!-- 1&#45;&gt;2 -->\n",
       "<g id=\"edge2\" class=\"edge\">\n",
       "<title>1&#45;&gt;2</title>\n",
       "<path fill=\"none\" stroke=\"black\" d=\"M189.28,-103.73C188.56,-95.88 187.81,-87.63 187.08,-79.67\"/>\n",
       "<polygon fill=\"black\" stroke=\"black\" points=\"190.57,-79.45 186.18,-69.81 183.6,-80.08 190.57,-79.45\"/>\n",
       "</g>\n",
       "<!-- 3 -->\n",
       "<g id=\"node4\" class=\"node\">\n",
       "<title>3</title>\n",
       "<polygon fill=\"#fbe9dd\" stroke=\"black\" points=\"366,-68 256,-68 256,0 366,0 366,-68\"/>\n",
       "<text text-anchor=\"middle\" x=\"311\" y=\"-52.8\" font-family=\"Helvetica,sans-Serif\" font-size=\"14.00\">gini = 0.496</text>\n",
       "<text text-anchor=\"middle\" x=\"311\" y=\"-37.8\" font-family=\"Helvetica,sans-Serif\" font-size=\"14.00\">samples = 64</text>\n",
       "<text text-anchor=\"middle\" x=\"311\" y=\"-22.8\" font-family=\"Helvetica,sans-Serif\" font-size=\"14.00\">value = [35, 29]</text>\n",
       "<text text-anchor=\"middle\" x=\"311\" y=\"-7.8\" font-family=\"Helvetica,sans-Serif\" font-size=\"14.00\">class = sell</text>\n",
       "</g>\n",
       "<!-- 1&#45;&gt;3 -->\n",
       "<g id=\"edge3\" class=\"edge\">\n",
       "<title>1&#45;&gt;3</title>\n",
       "<path fill=\"none\" stroke=\"black\" d=\"M236.94,-103.73C246.67,-94.7 256.99,-85.12 266.73,-76.08\"/>\n",
       "<polygon fill=\"black\" stroke=\"black\" points=\"269.06,-78.7 274.01,-69.33 264.3,-73.57 269.06,-78.7\"/>\n",
       "</g>\n",
       "<!-- 5 -->\n",
       "<g id=\"node6\" class=\"node\">\n",
       "<title>5</title>\n",
       "<polygon fill=\"#b6dbf5\" stroke=\"black\" points=\"554,-68 444,-68 444,0 554,0 554,-68\"/>\n",
       "<text text-anchor=\"middle\" x=\"499\" y=\"-52.8\" font-family=\"Helvetica,sans-Serif\" font-size=\"14.00\">gini = 0.474</text>\n",
       "<text text-anchor=\"middle\" x=\"499\" y=\"-37.8\" font-family=\"Helvetica,sans-Serif\" font-size=\"14.00\">samples = 44</text>\n",
       "<text text-anchor=\"middle\" x=\"499\" y=\"-22.8\" font-family=\"Helvetica,sans-Serif\" font-size=\"14.00\">value = [17, 27]</text>\n",
       "<text text-anchor=\"middle\" x=\"499\" y=\"-7.8\" font-family=\"Helvetica,sans-Serif\" font-size=\"14.00\">class = buy</text>\n",
       "</g>\n",
       "<!-- 4&#45;&gt;5 -->\n",
       "<g id=\"edge5\" class=\"edge\">\n",
       "<title>4&#45;&gt;5</title>\n",
       "<path fill=\"none\" stroke=\"black\" d=\"M537.29,-103.73C532.66,-95.43 527.78,-86.67 523.11,-78.28\"/>\n",
       "<polygon fill=\"black\" stroke=\"black\" points=\"526.21,-76.65 518.29,-69.62 520.1,-80.06 526.21,-76.65\"/>\n",
       "</g>\n",
       "<!-- 6 -->\n",
       "<g id=\"node7\" class=\"node\">\n",
       "<title>6</title>\n",
       "<polygon fill=\"#e6843e\" stroke=\"black\" points=\"689.5,-68 572.5,-68 572.5,0 689.5,0 689.5,-68\"/>\n",
       "<text text-anchor=\"middle\" x=\"631\" y=\"-52.8\" font-family=\"Helvetica,sans-Serif\" font-size=\"14.00\">gini = 0.047</text>\n",
       "<text text-anchor=\"middle\" x=\"631\" y=\"-37.8\" font-family=\"Helvetica,sans-Serif\" font-size=\"14.00\">samples = 494</text>\n",
       "<text text-anchor=\"middle\" x=\"631\" y=\"-22.8\" font-family=\"Helvetica,sans-Serif\" font-size=\"14.00\">value = [482, 12]</text>\n",
       "<text text-anchor=\"middle\" x=\"631\" y=\"-7.8\" font-family=\"Helvetica,sans-Serif\" font-size=\"14.00\">class = sell</text>\n",
       "</g>\n",
       "<!-- 4&#45;&gt;6 -->\n",
       "<g id=\"edge6\" class=\"edge\">\n",
       "<title>4&#45;&gt;6</title>\n",
       "<path fill=\"none\" stroke=\"black\" d=\"M586.44,-103.73C591.94,-95.24 597.75,-86.28 603.29,-77.73\"/>\n",
       "<polygon fill=\"black\" stroke=\"black\" points=\"606.08,-79.86 608.59,-69.57 600.21,-76.06 606.08,-79.86\"/>\n",
       "</g>\n",
       "</g>\n",
       "</svg>\n"
      ],
      "text/plain": [
       "<graphviz.sources.Source at 0x14bf81010>"
      ]
     },
     "execution_count": 38,
     "metadata": {},
     "output_type": "execute_result"
    }
   ],
   "source": [
    "graph, cm, report = trainDT(X1, X1, y1, y1, COLS_TO_USE, y_col=y_col, max_depth=2)\n",
    "graph"
   ]
  },
  {
   "cell_type": "code",
   "execution_count": null,
   "metadata": {},
   "outputs": [
    {
     "data": {
      "image/png": "[encoded data removed]",
      "text/plain": [
       "<Figure size 640x480 with 2 Axes>"
      ]
     },
     "metadata": {},
     "output_type": "display_data"
    }
   ],
   "source": [
    "sns.heatmap(cm, annot=True);"
   ]
  },
  {
   "cell_type": "code",
   "execution_count": null,
   "metadata": {},
   "outputs": [
    {
     "name": "stdout",
     "output_type": "stream",
     "text": [
      "              precision    recall  f1-score   support\n",
      "\n",
      "        sell       0.93      0.96      0.94       538\n",
      "         buy       0.96      0.92      0.94       526\n",
      "\n",
      "    accuracy                           0.94      1064\n",
      "   macro avg       0.94      0.94      0.94      1064\n",
      "weighted avg       0.94      0.94      0.94      1064\n",
      "\n"
     ]
    }
   ],
   "source": [
    "print(report)\n"
   ]
  },
  {
   "cell_type": "code",
   "execution_count": null,
   "metadata": {},
   "outputs": [],
   "source": [
    "from decision_tree import DecisionTree"
   ]
  },
  {
   "cell_type": "code",
   "execution_count": null,
   "metadata": {},
   "outputs": [
    {
     "name": "stdout",
     "output_type": "stream",
     "text": [
      "[INFO] Trained Tree!\n"
     ]
    }
   ],
   "source": [
    "dt = DecisionTree(max_depth=2)\n",
    "dt.train(X1, y1)"
   ]
  },
  {
   "cell_type": "code",
   "execution_count": null,
   "metadata": {},
   "outputs": [
    {
     "name": "stdout",
     "output_type": "stream",
     "text": [
      "              precision    recall  f1-score   support\n",
      "\n",
      "          -1       0.93      0.96      0.94       538\n",
      "           1       0.96      0.92      0.94       526\n",
      "\n",
      "    accuracy                           0.94      1064\n",
      "   macro avg       0.94      0.94      0.94      1064\n",
      "weighted avg       0.94      0.94      0.94      1064\n",
      "\n"
     ]
    }
   ],
   "source": [
    "dt.score(X1, y1)"
   ]
  },
  {
   "cell_type": "code",
   "execution_count": null,
   "metadata": {},
   "outputs": [
    {
     "name": "stdout",
     "output_type": "stream",
     "text": [
      "                                                                                                         Index: 0\n",
      "                                                                                                         Open-Close_polarity >= 1\n",
      "                                                                                                         Gini: 0.4999364011532591\n",
      "                                                                                                         Samples: 1064\n",
      "                                                                                                         Values: {-1: 538, 1: 526}\n",
      "                                                                                                         Class: -1\n",
      "\n",
      "                                   Index: 1                                                                                                                                    Index: 2\n",
      "                                   Open-High_ma_1-Open-High_ma_50_val >= 1                                                                                                     Open-Close_ma_1-Open-Close_ma_20_val >= 2\n",
      "                                   Gini: 0.13447160763394628                                                                                                                   Gini: 0.1372941635703857\n",
      "                                   Samples: 538                                                                                                                                Samples: 526\n",
      "                                   Values: {-1: 499, 1: 39}                                                                                                                    Values: {1: 487, -1: 39}\n",
      "                                   Class: -1                                                                                                                                   Class: 1\n",
      "\n",
      "Index: 3                                                              Index: 4                                                              Index: 5                                                              Index: 6\n",
      "Gini: 0.04740284220360924                                             Gini: 0.47417355371900827                                             Gini: 0.49560546875                                                   Gini: 0.017166095088173128\n",
      "Samples: 494                                                          Samples: 44                                                           Samples: 64                                                           Samples: 462\n",
      "Values: {-1: 482, 1: 12}                                              Values: {1: 27, -1: 17}                                               Values: {-1: 35, 1: 29}                                               Values: {1: 458, -1: 4}\n",
      "Class: -1                                                             Class: 1                                                              Class: -1                                                             Class: 1\n",
      "\n"
     ]
    }
   ],
   "source": [
    "dt.visualize()"
   ]
  },
  {
   "cell_type": "code",
   "execution_count": null,
   "metadata": {},
   "outputs": [
    {
     "name": "stdout",
     "output_type": "stream",
     "text": [
      "[INFO] Prune leaf with index: 4 as                           impurity=0.47417355371900827>=thresh=0.4\n",
      "[INFO] Pruned leaf with index: 5 as impurity=0.49560546875>=thresh=0.4\n",
      "[INFO] Pruning complete!\n"
     ]
    }
   ],
   "source": [
    "dt.prune(impurity_thresh=0.4, set_action=0)"
   ]
  },
  {
   "cell_type": "code",
   "execution_count": null,
   "metadata": {},
   "outputs": [
    {
     "name": "stdout",
     "output_type": "stream",
     "text": [
      "                                                                                                         Index: 0\n",
      "                                                                                                         Open-Close_polarity >= 1\n",
      "                                                                                                         Gini: 0.4999364011532591\n",
      "                                                                                                         Samples: 1064\n",
      "                                                                                                         Values: {-1: 538, 1: 526}\n",
      "                                                                                                         Class: -1\n",
      "\n",
      "                                   Index: 1                                                                                                                                    Index: 2\n",
      "                                   Open-High_ma_1-Open-High_ma_50_val >= 1                                                                                                     Open-Close_ma_1-Open-Close_ma_20_val >= 2\n",
      "                                   Gini: 0.13447160763394628                                                                                                                   Gini: 0.1372941635703857\n",
      "                                   Samples: 538                                                                                                                                Samples: 526\n",
      "                                   Values: {-1: 499, 1: 39}                                                                                                                    Values: {1: 487, -1: 39}\n",
      "                                   Class: -1                                                                                                                                   Class: 1\n",
      "\n",
      "Index: 3                                                              Index: 4                                                              Index: 5                                                              Index: 6\n",
      "Gini: 0.04740284220360924                                             Gini: 0.47417355371900827                                             Gini: 0.49560546875                                                   Gini: 0.017166095088173128\n",
      "Samples: 494                                                          Samples: 44                                                           Samples: 64                                                           Samples: 462\n",
      "Values: {-1: 482, 1: 12}                                              Values: {1: 27, -1: 17}                                               Values: {-1: 35, 1: 29}                                               Values: {1: 458, -1: 4}\n",
      "Class: -1                                                             Class: 0                                                              Class: 0                                                              Class: 1\n",
      "\n"
     ]
    }
   ],
   "source": [
    "dt.visualize()"
   ]
  },
  {
   "cell_type": "code",
   "execution_count": null,
   "metadata": {},
   "outputs": [
    {
     "name": "stdout",
     "output_type": "stream",
     "text": [
      "              precision    recall  f1-score   support\n",
      "\n",
      "          -1       0.98      0.90      0.93       538\n",
      "           0       0.00      0.00      0.00         0\n",
      "           1       0.99      0.87      0.93       526\n",
      "\n",
      "    accuracy                           0.88      1064\n",
      "   macro avg       0.66      0.59      0.62      1064\n",
      "weighted avg       0.98      0.88      0.93      1064\n",
      "\n"
     ]
    },
    {
     "name": "stderr",
     "output_type": "stream",
     "text": [
      "/Users/rishabh/miniforge3/envs/metarl/lib/python3.11/site-packages/sklearn/metrics/_classification.py:1344: UndefinedMetricWarning: Recall and F-score are ill-defined and being set to 0.0 in labels with no true samples. Use `zero_division` parameter to control this behavior.\n",
      "  _warn_prf(average, modifier, msg_start, len(result))\n",
      "/Users/rishabh/miniforge3/envs/metarl/lib/python3.11/site-packages/sklearn/metrics/_classification.py:1344: UndefinedMetricWarning: Recall and F-score are ill-defined and being set to 0.0 in labels with no true samples. Use `zero_division` parameter to control this behavior.\n",
      "  _warn_prf(average, modifier, msg_start, len(result))\n",
      "/Users/rishabh/miniforge3/envs/metarl/lib/python3.11/site-packages/sklearn/metrics/_classification.py:1344: UndefinedMetricWarning: Recall and F-score are ill-defined and being set to 0.0 in labels with no true samples. Use `zero_division` parameter to control this behavior.\n",
      "  _warn_prf(average, modifier, msg_start, len(result))\n"
     ]
    }
   ],
   "source": [
    "dt.score(X1, y1)"
   ]
  },
  {
   "cell_type": "code",
   "execution_count": null,
   "metadata": {},
   "outputs": [],
   "source": [
    "dt.save('saved_models/dt_optimal_synthetic_all_hp11.pkl')"
   ]
  },
  {
   "cell_type": "code",
   "execution_count": null,
   "metadata": {},
   "outputs": [],
   "source": []
  }
 ],
 "metadata": {
  "kernelspec": {
   "display_name": "metarl",
   "language": "python",
   "name": "python3"
  },
  "language_info": {
   "codemirror_mode": {
    "name": "ipython",
    "version": 3
   },
   "file_extension": ".py",
   "mimetype": "text/x-python",
   "name": "python",
   "nbconvert_exporter": "python",
   "pygments_lexer": "ipython3",
   "version": "3.11.0"
  },
  "orig_nbformat": 4
 },
 "nbformat": 4,
 "nbformat_minor": 2
}

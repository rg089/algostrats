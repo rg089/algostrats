{
 "cells": [
  {
   "cell_type": "code",
   "execution_count": 1,
   "id": "d6900a23-d3f8-4e8d-9dff-96c7210d912d",
   "metadata": {},
   "outputs": [],
   "source": [
    "# !pip install import_ipynb --quiet\n",
    "# !pip install anvil-uplink --quiet\n",
    "# !pip install yfinance --quiet\n",
    "# !pip install pandas_ta --quiet\n",
    "# !pip install ipynb --quiet\n",
    "# !pip install rpyc --quiet\n",
    "# !pip install stable-baselines3 --quiet\n",
    "# !pip install aspectlib"
   ]
  },
  {
   "cell_type": "code",
   "execution_count": 2,
   "id": "25c59acf-d5be-4a2a-9cfd-4ab6f50ae063",
   "metadata": {},
   "outputs": [],
   "source": [
    "# !git clone https://github.com/gmshroff/algostrats.git"
   ]
  },
  {
   "cell_type": "code",
   "execution_count": 3,
   "id": "bf17b745-4432-427b-9758-7fb00e7f3982",
   "metadata": {},
   "outputs": [],
   "source": [
    "# %cd algostrats"
   ]
  },
  {
   "cell_type": "markdown",
   "id": "36e70902-c3e5-4260-ad42-225902d3e230",
   "metadata": {},
   "source": [
    "Uncomment below if on Colab and using datasets from Kaggle"
   ]
  },
  {
   "cell_type": "code",
   "execution_count": 4,
   "id": "4fdeb0ab-b898-49ba-9337-8b4facf3aab8",
   "metadata": {},
   "outputs": [],
   "source": [
    "# from google.colab import files\n",
    "# uploaded=files.upload()"
   ]
  },
  {
   "cell_type": "code",
   "execution_count": 5,
   "id": "fe8ce669-1532-4dbb-b480-f41b81cff12d",
   "metadata": {},
   "outputs": [],
   "source": [
    "# !mkdir /root/.kaggle\n",
    "# !mv ./kaggle.json /root/.kaggle/.\n",
    "# !chmod 600 /root/.kaggle/kaggle.json"
   ]
  },
  {
   "cell_type": "code",
   "execution_count": 6,
   "id": "cfc38584-d602-4f72-9c0f-31e6bb8555fc",
   "metadata": {},
   "outputs": [],
   "source": [
    "# %mkdir data\n",
    "# %cd data\n",
    "# !kaggle datasets download -d gmshroff/marketdatafivemin\n",
    "# %cd ../algostrats"
   ]
  },
  {
   "cell_type": "code",
   "execution_count": 8,
   "id": "b845872c-48f2-4622-9925-9246e444570b",
   "metadata": {},
   "outputs": [],
   "source": [
    "colab=False\n",
    "script=False\n",
    "if not colab: DATAPATH='~/DataLocal/algo_fin_new/five_min_data/'\n",
    "elif colab: DATAPATH='../algodata/'"
   ]
  },
  {
   "cell_type": "markdown",
   "id": "6104b582-d222-4e95-8b2d-cb28f63c014f",
   "metadata": {},
   "source": [
    "Need to import algorithms from stable-baselines3"
   ]
  },
  {
   "cell_type": "code",
   "execution_count": 9,
   "id": "490b5786-dc7a-4403-bfc6-9f5934ddcd96",
   "metadata": {},
   "outputs": [],
   "source": [
    "from stable_baselines3 import PPO,A2C,DQN\n",
    "from stable_baselines3.common.vec_env import StackedObservations\n",
    "from stable_baselines3.common.monitor import Monitor as Mon"
   ]
  },
  {
   "cell_type": "code",
   "execution_count": 10,
   "id": "ee07310c-dd1c-4d26-b301-d329a01cd15c",
   "metadata": {},
   "outputs": [],
   "source": [
    "import warnings\n",
    "warnings.simplefilter(\"ignore\")"
   ]
  },
  {
   "cell_type": "code",
   "execution_count": 11,
   "id": "d7889ded-dd8c-4c73-aadd-687cf98ddbb0",
   "metadata": {},
   "outputs": [],
   "source": [
    "import import_ipynb\n",
    "import pandas as pd\n",
    "import numpy as np\n",
    "import torch\n",
    "from datetime import datetime\n",
    "from datetime import datetime as dt\n",
    "from torch.utils.data import Dataset\n",
    "from sklearn.preprocessing import StandardScaler\n",
    "import pickle\n",
    "from threading import Thread\n",
    "import threading\n",
    "from IPython import display\n",
    "import time,getopt,sys,os"
   ]
  },
  {
   "cell_type": "code",
   "execution_count": 12,
   "id": "27681588-e85b-4818-b7f9-9e8aca7d87cf",
   "metadata": {},
   "outputs": [
    {
     "name": "stdout",
     "output_type": "stream",
     "text": [
      "importing Jupyter notebook from feeds.ipynb\n",
      "importing Jupyter notebook from synfeed.ipynb\n",
      "importing Jupyter notebook from india_calendar.ipynb\n",
      "importing Jupyter notebook from featfuncs.ipynb\n"
     ]
    }
   ],
   "source": [
    "from feeds import BackFeed,DataFeed\n",
    "from featfuncs import feat_aug,add_addl_features_feed,add_ta_features_feed,add_sym_feature_feed\n",
    "from featfuncs import add_global_indices_feed"
   ]
  },
  {
   "cell_type": "code",
   "execution_count": 13,
   "id": "8da69070-9830-44a9-bd5d-0f9800a0c613",
   "metadata": {},
   "outputs": [
    {
     "name": "stdout",
     "output_type": "stream",
     "text": [
      "importing Jupyter notebook from feed_env.ipynb\n"
     ]
    }
   ],
   "source": [
    "from feed_env import Episode\n",
    "import aspectlib"
   ]
  },
  {
   "cell_type": "markdown",
   "id": "a9bf1f9c-6a1b-48c4-a162-db735c649a0f",
   "metadata": {},
   "source": [
    "### Trading strategies as agents\n",
    "\n",
    "RL(++)StratAgents imported from ruleagents<br>"
   ]
  },
  {
   "cell_type": "code",
   "execution_count": 27,
   "id": "d7097885-4b48-4472-9f28-bde7d73c7c8e",
   "metadata": {},
   "outputs": [],
   "source": [
    "from rlagents import RLStratAgentDyn, RLStratAgentDynFeatures"
   ]
  },
  {
   "cell_type": "markdown",
   "id": "f05c2614-221c-4490-aa27-ab4e3e12bb5b",
   "metadata": {},
   "source": [
    "### Strategy Testing for RLStratAgent using BackTest"
   ]
  },
  {
   "cell_type": "code",
   "execution_count": 15,
   "id": "6db830b3-32e5-4ac4-99e5-f077166076c8",
   "metadata": {},
   "outputs": [
    {
     "name": "stdout",
     "output_type": "stream",
     "text": [
      "importing Jupyter notebook from backtest.ipynb\n",
      "importing Jupyter notebook from validation.ipynb\n"
     ]
    }
   ],
   "source": [
    "from backtest import Backtest\n",
    "from feeds import BackFeed,DataFeed\n",
    "from validation import Validate"
   ]
  },
  {
   "cell_type": "markdown",
   "id": "6d261917-c858-4430-80de-dcaaffb43b71",
   "metadata": {},
   "source": [
    "<b>Configuration for training RL model<b>"
   ]
  },
  {
   "cell_type": "code",
   "execution_count": 16,
   "id": "e6d52550-8d0d-4c51-a135-b353b424c625",
   "metadata": {},
   "outputs": [],
   "source": [
    "algorithm=PPO\n",
    "synthetic=False #use synthetic data\n",
    "simple='sinewave'\n",
    "nw,nd=4,5 #for BackFeed"
   ]
  },
  {
   "cell_type": "code",
   "execution_count": 17,
   "id": "da9716cf-64ff-49cb-80e6-5867b6f571c5",
   "metadata": {},
   "outputs": [],
   "source": [
    "if script:\n",
    "    try:\n",
    "        opts,args = getopt.getopt(sys.argv[1:],\"hl:f:d:m:s:w:t:p:u:\",[\"load=\",\"feed=\",\"datafile=\",\"modelname=\",\"synthetic\",\"weeks\",\"training_steps\",\"deploy\",\"use_alt_data\"])\n",
    "    except getopt.GetoptError:\n",
    "        print('rlagents_train.py -l <load:True/False> -f <scan:back/data> -d <datafile> -m <modelname> -s <synthetic> -w <weeks> -t <training_steps> -p <deploy>')\n",
    "        sys.exit(2)\n",
    "    load,feed,modelname=False,'back',''\n",
    "    training_steps=50000 # if less then n_steps then n_steps is used\n",
    "    deploy=True\n",
    "    date=datetime.today().strftime('%d-%b-%Y')\n",
    "    use_alt_data=False\n",
    "    for opt, arg in opts:\n",
    "        if opt == \"-h\":\n",
    "            print('rlagents_train.py -l <load:True/False> -f <scan:back/data> -d <datafile> -m <modelname> -s <synthetic> -w <weeks> -t <training_steps> -p <deploy> -u <use_alt_data>')\n",
    "            sys.exit()\n",
    "        elif opt in (\"-l\", \"--load\"):\n",
    "            load = (lambda x: True if x=='True' else False)(arg)\n",
    "        elif opt in (\"-f\", \"--feed\"):\n",
    "            feed = (lambda x: 'data' if x=='data' else 'back')(arg)\n",
    "        elif opt in (\"-d\", \"--datafile\"):\n",
    "            datafile = arg.split('/')[-1]\n",
    "        elif opt in (\"-m\", \"--modelname\"):\n",
    "            modelname = arg\n",
    "        elif opt in (\"-s\", \"--synthetic\"):\n",
    "            synthetic = (lambda x: True if x=='True' else False)(arg)\n",
    "        elif opt in (\"-w\", \"--weeks\"):\n",
    "            nw = int(arg)\n",
    "        elif opt in (\"-t\", \"--training_steps\"):\n",
    "            training_steps=int(arg)\n",
    "        elif opt in (\"-p\", \"--deploy\"):\n",
    "            deploy = (lambda x: True if x=='True' else False)(arg)\n",
    "        elif opt in (\"-u\", \"--use_alt_data\"):\n",
    "            use_alt_data = (lambda x: True if x=='True' else False)(arg)\n",
    "    if len(opts)==0: \n",
    "        print('rlagents_train.py -l <load:True/False> -f <scan:back/data> -d <datafile> -m <modelname> -s <synthetic> -w <weeks> -t <training_steps> -p <deploy> -u <use_alt_data>')\n",
    "        sys.exit()\n",
    "    print(f\"load:{load},feed:{feed},datafile:{datafile},modelname:{modelname},synthetic:{synthetic},weeks:{nw},training_steps:{training_steps},deploy:{deploy},use_alt_data:{use_alt_data}\")\n",
    "    loadfeed=load\n",
    "    if feed=='data': datafeed=True\n",
    "    else: datafeed=False"
   ]
  },
  {
   "cell_type": "code",
   "execution_count": 18,
   "id": "bf60db39-56f0-4a19-9874-6a75e04a82ee",
   "metadata": {},
   "outputs": [],
   "source": [
    "if not script:\n",
    "    loadfeed=True\n",
    "    datafeed=True\n",
    "    datafile='alldata.csv'\n",
    "    # modelname='RLA0.pth' # replace with modelname if model to be loaded\n",
    "    modelname='RLC0_all.pth'\n",
    "    date=datetime.today().strftime('%d-%b-%Y')\n",
    "    deploy=True"
   ]
  },
  {
   "cell_type": "code",
   "execution_count": 19,
   "id": "af987410-4258-4ad4-adb0-ac8cba49e4c7",
   "metadata": {},
   "outputs": [],
   "source": [
    "n_steps=2048 # reduce for debugging only else 2048"
   ]
  },
  {
   "cell_type": "code",
   "execution_count": 20,
   "id": "5a30cb1c-323b-49a4-a835-b725c0d2cffc",
   "metadata": {},
   "outputs": [],
   "source": [
    "def stringify(x):\n",
    "    return pd.to_datetime(x['Datetime']).strftime('%d-%b-%Y')"
   ]
  },
  {
   "cell_type": "code",
   "execution_count": 21,
   "id": "0742b6ae-da3c-4d24-a392-762ca2433314",
   "metadata": {},
   "outputs": [],
   "source": [
    "import pickle\n",
    "if not loadfeed and not datafeed:\n",
    "    data=pd.read_csv('./capvolfiltered.csv')\n",
    "    tickers=list(data.iloc[0:50]['ticker'].values)\n",
    "    print('Creating feed')\n",
    "    feed=BackFeed(tickers=tickers,nd=nd,nw=nw,interval='5m',synthetic=synthetic)\n",
    "    print('Processing feed')\n",
    "    add_addl_features_feed(feed,tickers=feed.tickers)\n",
    "    add_sym_feature_feed(feed,tickers=feed.tickers)\n",
    "    add_global_indices_feed(feed)\n",
    "    if colab: \n",
    "        with open('/tmp/btfeed.pickle','wb') as f: pickle.dump(feed,f)\n",
    "    else: \n",
    "        with open('../../temp_data/btfeed.pickle','wb') as f: pickle.dump(feed,f)\n",
    "elif loadfeed and not datafeed:\n",
    "    if colab: \n",
    "        with open('/tmp/btfeed.pickle','rb') as f: feed=pickle.load(f)\n",
    "    else: \n",
    "        with open('../../temp_data/btfeed.pickle','rb') as f: feed=pickle.load(f)"
   ]
  },
  {
   "cell_type": "code",
   "execution_count": 22,
   "id": "4e98851e-d7ed-4c7a-89ff-5382091368cc",
   "metadata": {
    "tags": []
   },
   "outputs": [],
   "source": [
    "if not loadfeed and datafeed:\n",
    "    #DATAFILE=DATAPATH+'augdata_'+date+'_5m.csv'\n",
    "    DATAFILE=DATAPATH+datafile\n",
    "    print('Reading datafile')\n",
    "    df=pd.read_csv(DATAFILE)\n",
    "    if 'Date' not in df.columns: \n",
    "        print('Adding Date')\n",
    "        df['Date']=df.apply(stringify,axis=1)\n",
    "    print('Creating feed')\n",
    "    feed=DataFeed(tickers=list(df.ticker.unique()[0:10]),dfgiven=True,df=df)\n",
    "    print('Processing feed')\n",
    "    add_addl_features_feed(feed,tickers=feed.tickers)\n",
    "    add_sym_feature_feed(feed,tickers=feed.tickers)\n",
    "    add_global_indices_feed(feed)\n",
    "    if not colab: \n",
    "        with open('../../temp_data/btdatafeed.pickle','wb') as f: pickle.dump(feed,f)\n",
    "    elif colab: \n",
    "        with open('/tmp/btdatafeed.pickle','wb') as f: pickle.dump(feed,f)\n",
    "elif loadfeed and datafeed:\n",
    "    if not colab: \n",
    "        with open('../algodata/realdata/datafeed_alldata_True_True.pkl','rb') as f: feed=pickle.load(f)\n",
    "    elif colab:\n",
    "        with open('/tmp/btdatafeed.pickle','rb') as f: feed=pickle.load(f)"
   ]
  },
  {
   "cell_type": "code",
   "execution_count": 24,
   "id": "b2ab9ddd-7abc-4ac4-8a92-589b7392b836",
   "metadata": {},
   "outputs": [],
   "source": [
    "for t in feed.ndata:\n",
    "    for d in feed.ndata[t]:\n",
    "        if feed.ndata[t][d].isnull().values.any(): \n",
    "            feed.ndata[t][d]=feed.ndata[t][d].fillna(1)\n",
    "            # print(t,d)\n",
    "        if feed.ndata[t][d].isin([-np.inf,np.inf]).values.any():\n",
    "            feed.ndata[t][d]=feed.ndata[t][d].replace([np.inf, -np.inf],1)\n",
    "            # print(t,d)"
   ]
  },
  {
   "cell_type": "code",
   "execution_count": 25,
   "id": "90b847d4-45a6-461e-be25-e1c56af362c4",
   "metadata": {},
   "outputs": [],
   "source": [
    "# from math import isnan\n",
    "# for d in feed.gdata:\n",
    "#     for g in feed.gdata[d]:\n",
    "#          for k in g: \n",
    "#                 if isnan(g[k]): g[k]=1"
   ]
  },
  {
   "cell_type": "code",
   "execution_count": 26,
   "id": "0b955820-4063-40ad-a2ed-ca9ac97266fa",
   "metadata": {},
   "outputs": [],
   "source": [
    "def get_alt_data_live():\n",
    "    aD={'gdata':feed.gdata}\n",
    "    return aD"
   ]
  },
  {
   "cell_type": "code",
   "execution_count": 28,
   "id": "51966e37-f9c0-4a59-965e-c5b9a1bef3d9",
   "metadata": {
    "tags": []
   },
   "outputs": [
    {
     "name": "stdout",
     "output_type": "stream",
     "text": [
      "Using cpu device\n",
      "Wrapping the env in a DummyVecEnv.\n"
     ]
    }
   ],
   "source": [
    "use_alt_data=False\n",
    "agent=RLStratAgentDynFeatures(algorithm,monclass=Mon,soclass=StackedObservations,verbose=1,\n",
    "                   metarl=True,myargs=(n_steps,use_alt_data,5))\n",
    "agent.use_memory=True #depends on whether RL algorithm uses memory for state computation\n",
    "agent.debug=False\n",
    "if use_alt_data: agent.set_alt_data(alt_data_func=get_alt_data_live)"
   ]
  },
  {
   "cell_type": "code",
   "execution_count": 29,
   "id": "f2846d76-2d38-4c10-b49c-003a7427a791",
   "metadata": {},
   "outputs": [],
   "source": [
    "agent.training=False"
   ]
  },
  {
   "cell_type": "code",
   "execution_count": 30,
   "id": "e84d5950-660a-476b-8a08-12a367b45d46",
   "metadata": {},
   "outputs": [
    {
     "name": "stdout",
     "output_type": "stream",
     "text": [
      "Loading model\n"
     ]
    }
   ],
   "source": [
    "if modelname and os.path.exists('./saved_models/'+modelname): \n",
    "    print('Loading model')\n",
    "    agent.load_model(filepath='./saved_models/'+modelname)"
   ]
  },
  {
   "cell_type": "code",
   "execution_count": 31,
   "id": "aa113224-1c19-431f-a01e-f1f42d17bc31",
   "metadata": {},
   "outputs": [],
   "source": [
    "@aspectlib.Aspect\n",
    "def my_decorator(*args, **kwargs):\n",
    "    # print(\"Got called with args: %s kwargs: %s\" % (args, kwargs))\n",
    "    # result = yield\n",
    "    # print(\" ... and the result is: %s\" % (result,))\n",
    "    state,rew,done,exit_type = yield\n",
    "    # args[0].policy.logL+=[(state.keys(),rew,done,exit_type)]\n",
    "    args[0].policy.reward((rew,done,{'exit_type':exit_type}))\n",
    "    return state,rew,done,exit_type"
   ]
  },
  {
   "cell_type": "code",
   "execution_count": 32,
   "id": "50fa58e2-3bd9-475c-ad0d-df1d70b4f49e",
   "metadata": {},
   "outputs": [
    {
     "data": {
      "text/plain": [
       "<aspectlib.Rollback at 0x15bcb7b50>"
      ]
     },
     "execution_count": 32,
     "metadata": {},
     "output_type": "execute_result"
    }
   ],
   "source": [
    "aspectlib.weave(Episode, my_decorator, methods='env_step')"
   ]
  },
  {
   "cell_type": "code",
   "execution_count": 33,
   "id": "7fde12ee-eb14-4405-8e41-0a7ce44f132b",
   "metadata": {},
   "outputs": [],
   "source": [
    "bt=Backtest(feed,tickers=feed.tickers,add_features=False,target=5,stop=5,txcost=0.001,\n",
    "            loc_exit=True,scan=True,topk=5,deploy=deploy,save_dfs=False,\n",
    "            save_func=None)"
   ]
  },
  {
   "cell_type": "code",
   "execution_count": null,
   "id": "8ac30342",
   "metadata": {},
   "outputs": [],
   "source": [
    "def compute_avg_episode_rew(bt):\n",
    "    i,tot=0,0\n",
    "    for t in bt.results:\n",
    "        for d in bt.results[t]:\n",
    "            for r in bt.results[t][d]['rew']:\n",
    "                tot+=r[1]\n",
    "                i+=1\n",
    "    return tot/i,i,tot"
   ]
  },
  {
   "cell_type": "code",
   "execution_count": 36,
   "id": "d1c2212c-2573-4b9b-8af2-42bdf45f786d",
   "metadata": {},
   "outputs": [],
   "source": [
    "agent.data_cols=['row_num', 'Open_n', 'High_n', 'Low_n', 'Close_n', 'Volume_n', 'SMA_10', 'SMA_20', 'VOL_SMA_20', 'RSI_14', 'BBL_5_2.0', 'BBM_5_2.0', 'BBU_5_2.0', 'BBB_5_2.0', 'BBP_5_2.0', 'MACD_12_26_9', 'MACDh_12_26_9', 'MACDs_12_26_9', 'VWAP_D', 'MOM_30', 'CMO_14', 'CMO_14_slope_1_polarity', 'Open_ma_1-Open_ma_10_val', 'Volume_ma_5_val', 'BBB_5_2.0_changelen_val', 'Open-Close_ma_1-Open-Close_ma_5_val', 'Volume_ma_20-Volume_ma_50_changelen_val', 'Open_n_ma_10_slope_5_changelen_polarity', 'Close_slope_1_polarity', 'RSI_14_ma_1_val', 'CMO_14_changelen_val', 'High_n-Low_n_ma_50_val', 'Open-Close_polarity', 'Open-High_ma_1-Open-High_ma_50_val', 'Open-Close_ma_1-Open-Close_ma_20_val', 'Close_n_ma_1-Close_n_ma_50_changelen_polarity', 'High_n_ma_1-High_n_ma_20_changelen_polarity', 'Open-High_ma_1-Open-High_ma_50_polarity']"
   ]
  },
  {
   "cell_type": "code",
   "execution_count": 37,
   "id": "34a612fb-f44e-4319-8972-5545088dd780",
   "metadata": {
    "scrolled": true,
    "tags": []
   },
   "outputs": [
    {
     "name": "stdout",
     "output_type": "stream",
     "text": [
      "NELCAST.NS 03-Feb-2022 0 45 -1 2.0105421686747027 45\n",
      "NELCAST.NS 03-Feb-2022 45 46 -1 -0.03858520882261844 46\n",
      "NELCAST.NS 04-Feb-2022 0 9 -1 -2.9530699777900895 9\n",
      "NELCAST.NS 04-Feb-2022 9 48 -1 1.9792284866468912 48\n",
      "NELCAST.NS 04-Feb-2022 48 48 -1 -0.1 48\n",
      "NELCAST.NS 07-Feb-2022 0 12 -1 1.9966486367628469 12\n",
      "NELCAST.NS 07-Feb-2022 12 35 -1 0.9382532083955839 35\n",
      "NELCAST.NS 08-Feb-2022 0 31 -1 1.1222221994509995 31\n",
      "NELCAST.NS 09-Feb-2022 0 30 -1 0.27051578470367643 30\n",
      "NELCAST.NS 10-Feb-2022 0 18 -1 2.0626543209876527 18\n",
      "NELCAST.NS 10-Feb-2022 18 41 -1 -0.3508733553062366 41\n",
      "NELCAST.NS 11-Feb-2022 0 37 -1 -0.28768940925599035 37\n",
      "NELCAST.NS 14-Feb-2022 0 38 -1 -0.1 38\n",
      "NELCAST.NS 15-Feb-2022 0 6 -1 1.9183976098216937 6\n",
      "NELCAST.NS 15-Feb-2022 6 12 -1 2.4267921620588178 12\n",
      "NELCAST.NS 15-Feb-2022 12 17 -1 -2.7944817197455416 17\n",
      "NELCAST.NS 15-Feb-2022 17 44 -1 -3.111514907408386 44\n",
      "NELCAST.NS 15-Feb-2022 44 49 -1 -0.22767662072323683 49\n",
      "NELCAST.NS 16-Feb-2022 0 32 -1 1.9260671066267931 32\n",
      "NELCAST.NS 16-Feb-2022 32 35 -1 -0.4249999999999976 35\n",
      "NELCAST.NS 17-Feb-2022 0 4 -1 3.0161970016381363 4\n",
      "NELCAST.NS 17-Feb-2022 4 35 -1 0.6117587959227117 35\n",
      "NELCAST.NS 18-Feb-2022 0 33 -1 0.8147479884443509 33\n",
      "NELCAST.NS 21-Feb-2022 0 37 -1 1.1662409647293426 37\n",
      "NELCAST.NS 22-Feb-2022 0 8 -1 2.404232792506968 8\n",
      "NELCAST.NS 22-Feb-2022 8 51 -1 0.25098175215833096 51\n",
      "NELCAST.NS 23-Feb-2022 0 30 -1 1.2854671280276806 30\n",
      "NELCAST.NS 24-Feb-2022 0 25 -1 2.6093613956646546 25\n",
      "NELCAST.NS 24-Feb-2022 25 32 -1 2.383686507375608 32\n",
      "NELCAST.NS 24-Feb-2022 32 57 -1 0.4482821326151089 57\n",
      "NELCAST.NS 25-Feb-2022 0 43 -1 -0.6927370426231806 43\n",
      "NELCAST.NS 28-Feb-2022 0 47 -1 -0.1 47\n",
      "NELCAST.NS 07-Mar-2022 0 8 -1 5.906002349853523 8\n",
      "NELCAST.NS 07-Mar-2022 8 63 -1 1.118750030189362 63\n",
      "NELCAST.NS 08-Mar-2022 0 1 0 0.0 1\n",
      "NELCAST.NS 08-Mar-2022 1 7 -1 1.1040898450247942 7\n",
      "NELCAST.NS 08-Mar-2022 7 18 -1 2.2429390570253207 18\n",
      "NELCAST.NS 08-Mar-2022 18 22 -1 1.8821732267920586 22\n",
      "NELCAST.NS 08-Mar-2022 22 41 -1 -2.5190846061706544 41\n",
      "NELCAST.NS 08-Mar-2022 41 43 -1 0.8773837000005582 43\n",
      "NELCAST.NS 08-Mar-2022 43 44 -1 0.3079054706180043 44\n",
      "NELCAST.NS 09-Mar-2022 0 1 0 0.0 1\n",
      "NELCAST.NS 09-Mar-2022 1 21 -1 -3.4904814074116337 21\n",
      "NELCAST.NS 09-Mar-2022 21 39 -1 -0.1 39\n",
      "NELCAST.NS 10-Mar-2022 0 39 -1 2.259776509216071 39\n",
      "NELCAST.NS 10-Mar-2022 39 41 -1 -0.1777825268009878 41\n",
      "NELCAST.NS 11-Mar-2022 0 21 -1 -2.406451666964144 21\n",
      "NELCAST.NS 11-Mar-2022 21 44 -1 -1.5310829584462582 44\n",
      "NELCAST.NS 14-Mar-2022 0 28 -1 0.5648663397644726 28\n",
      "NELCAST.NS 15-Mar-2022 0 21 -1 2.389681028792904 21\n",
      "NELCAST.NS 15-Mar-2022 21 39 -1 0.9552779610121924 39\n",
      "NELCAST.NS 16-Mar-2022 0 26 -1 2.269228563234874 26\n",
      "NELCAST.NS 16-Mar-2022 26 27 -1 -0.9354255008164809 27\n",
      "NELCAST.NS 17-Mar-2022 0 31 -1 1.45711563675492 31\n",
      "NELCAST.NS 23-Mar-2022 0 2 -1 -0.17560884760872342 2\n",
      "NELCAST.NS 24-Mar-2022 0 34 -1 1.4052631578947368 34\n",
      "NELCAST.NS 25-Mar-2022 0 36 -1 1.0418250950570327 36\n",
      "NELCAST.NS 30-Mar-2022 0 33 -1 2.1512474335820007 33\n",
      "NELCAST.NS 30-Mar-2022 33 44 -1 0.5574737559483246 44\n",
      "NELCAST.NS 31-Mar-2022 0 27 -1 2.1189692237247892 27\n",
      "NELCAST.NS 31-Mar-2022 27 55 -1 0.9077155838451728 55\n",
      "NELCAST.NS 01-Apr-2022 0 7 -1 -2.875884920008035 7\n",
      "NELCAST.NS 01-Apr-2022 7 27 -1 -2.324441930197874 27\n",
      "NELCAST.NS 01-Apr-2022 27 48 -1 -0.8230349425661593 48\n",
      "NELCAST.NS 03-Nov-2021 0 3 -1 1.9138425386869025 3\n",
      "NELCAST.NS 03-Nov-2021 3 42 -1 0.5653209121565799 42\n",
      "NELCAST.NS 04-Nov-2021 0 1 0 0.0 1\n",
      "NELCAST.NS 04-Nov-2021 1 11 -1 -0.7633169335054983 11\n",
      "NELCAST.NS 09-Nov-2021 0 22 -1 1.162526191963446 22\n",
      "NELCAST.NS 09-Nov-2021 22 39 -1 0.6867520125642345 39\n",
      "NELCAST.NS 10-Nov-2021 0 38 -1 2.6433009036046835 38\n",
      "NELCAST.NS 10-Nov-2021 38 39 -1 0.14807553006331692 39\n",
      "NELCAST.NS 11-Nov-2021 0 35 -1 -0.7817994486805779 35\n",
      "NELCAST.NS 12-Nov-2021 0 30 -1 -0.528832463532515 30\n",
      "NELCAST.NS 15-Nov-2021 0 16 -1 2.8944499835441717 16\n",
      "NELCAST.NS 15-Nov-2021 16 42 -1 0.5912153725831295 42\n",
      "NELCAST.NS 16-Nov-2021 0 36 -1 1.2885322411658227 36\n",
      "NELCAST.NS 17-Nov-2021 0 35 -1 0.34068990263548754 35\n",
      "NELCAST.NS 18-Nov-2021 0 9 -1 2.466661033288208 9\n",
      "NELCAST.NS 18-Nov-2021 9 40 -1 0.8606525724140874 40\n",
      "NELCAST.NS 30-Nov-2021 0 0 -1 -0.1 0\n",
      "NELCAST.NS 06-Jan-2022 0 32 -1 -3.5097362030005614 32\n",
      "NELCAST.NS 06-Jan-2022 32 40 -1 0.5759690297238841 40\n",
      "NELCAST.NS 07-Jan-2022 0 3 -1 -3.3123817247101153 3\n",
      "NELCAST.NS 07-Jan-2022 3 7 -1 -2.2345696520490854 7\n",
      "NELCAST.NS 07-Jan-2022 7 8 0 0.0 8\n",
      "NELCAST.NS 07-Jan-2022 8 11 -1 1.2818331947319446 11\n",
      "NELCAST.NS 07-Jan-2022 11 22 -1 1.0240875527182123 22\n",
      "NELCAST.NS 07-Jan-2022 22 63 -1 -0.4406641095717814 63\n",
      "NELCAST.NS 10-Jan-2022 0 14 -1 -3.5131393616213673 14\n",
      "NELCAST.NS 10-Jan-2022 14 64 -1 0.06410002995058925 64\n",
      "NELCAST.NS 11-Jan-2022 0 32 -1 2.0321185332028926 32\n",
      "NELCAST.NS 11-Jan-2022 32 56 -1 0.5127383718812355 56\n",
      "NELCAST.NS 12-Jan-2022 0 12 -1 -2.438262999906733 12\n",
      "NELCAST.NS 12-Jan-2022 12 19 -1 -2.387375884322773 19\n",
      "NELCAST.NS 12-Jan-2022 19 55 -1 2.015161085816368 55\n",
      "NELCAST.NS 12-Jan-2022 55 69 -1 -0.3142371201202198 69\n",
      "NELCAST.NS 13-Jan-2022 0 12 -1 2.7936879422485776 12\n",
      "NELCAST.NS 13-Jan-2022 12 26 -1 -2.1394806281445122 26\n",
      "NELCAST.NS 13-Jan-2022 26 53 -1 1.464902366782152 53\n",
      "NELCAST.NS 14-Jan-2022 0 48 -1 -0.31807945374204266 48\n",
      "NELCAST.NS 17-Jan-2022 0 65 -1 0.22117973776422925 65\n",
      "NELCAST.NS 18-Jan-2022 0 7 -1 2.963748313883676 7\n",
      "NELCAST.NS 18-Jan-2022 7 50 -1 2.4527383978768533 50\n",
      "NELCAST.NS 18-Jan-2022 50 54 -1 0.2903604151478778 54\n",
      "NELCAST.NS 19-Jan-2022 0 52 -1 0.12368373764293807 52\n",
      "NELCAST.NS 20-Jan-2022 0 48 -1 0.5100310856615756 48\n",
      "NELCAST.NS 21-Jan-2022 0 33 -1 3.3613479305959113 33\n",
      "NELCAST.NS 21-Jan-2022 33 39 -1 -0.7967588525319382 39\n",
      "NELCAST.NS 24-Jan-2022 0 10 -1 2.528191161973355 10\n",
      "NELCAST.NS 24-Jan-2022 10 26 -1 2.8354838709677423 26\n",
      "NELCAST.NS 24-Jan-2022 26 46 -1 2.3120481927710914 46\n",
      "NELCAST.NS 24-Jan-2022 46 57 -1 -0.1 57\n",
      "NELCAST.NS 25-Jan-2022 0 4 -1 -4.073726008870858 4\n",
      "NELCAST.NS 25-Jan-2022 4 33 -1 -3.0583195416768065 33\n",
      "NELCAST.NS 25-Jan-2022 33 44 -1 1.1969357512432648 44\n",
      "NELCAST.NS 28-Jan-2022 0 27 -1 2.4908199355181506 27\n",
      "NELCAST.NS 28-Jan-2022 27 37 -1 2.006734777935997 37\n",
      "NELCAST.NS 28-Jan-2022 37 38 0 0.0 38\n",
      "NELCAST.NS 28-Jan-2022 38 44 -1 -0.1 44\n",
      "NELCAST.NS 31-Jan-2022 0 32 -1 1.0988023952095793 32\n",
      "NELCAST.NS 01-Feb-2022 0 28 -1 -2.2800307132740674 28\n",
      "NELCAST.NS 01-Feb-2022 28 36 -1 -0.3384807498418294 36\n",
      "NELCAST.NS 09-May-2022 0 4 -1 -2.141259693818931 4\n",
      "NELCAST.NS 09-May-2022 4 6 -1 -2.507374908109879 6\n",
      "NELCAST.NS 09-May-2022 6 6 -1 -0.1 6\n",
      "NELCAST.NS 11-May-2022 0 9 -1 2.4321714981742506 9\n",
      "NELCAST.NS 11-May-2022 9 22 -1 1.924676400399765 22\n",
      "NELCAST.NS 11-May-2022 22 23 0 0.0 23\n",
      "NELCAST.NS 11-May-2022 23 25 -1 2.063429795175833 25\n",
      "NELCAST.NS 11-May-2022 25 29 -1 -2.142858468177152 29\n",
      "NELCAST.NS 11-May-2022 29 37 -1 2.1485000114885113 37\n",
      "NELCAST.NS 11-May-2022 37 42 -1 0.7447257383966314 42\n",
      "NELCAST.NS 12-May-2022 0 24 -1 2.6852406916399993 24\n",
      "NELCAST.NS 12-May-2022 24 36 -1 0.41954885858382657 36\n",
      "NELCAST.NS 03-Jun-2022 0 0 0 0.0 0\n",
      "NELCAST.NS 13-May-2022 0 12 -1 -3.2254826541691233 12\n",
      "NELCAST.NS 13-May-2022 12 32 -1 2.1080919514065073 32\n",
      "NELCAST.NS 13-May-2022 32 35 -1 1.070755159657022 35\n",
      "NELCAST.NS 16-May-2022 0 23 -1 1.9854166666666704 23\n",
      "NELCAST.NS 16-May-2022 23 25 -1 -0.26994646859428895 25\n",
      "NELCAST.NS 17-May-2022 0 12 -1 2.3879868068992005 12\n",
      "NELCAST.NS 17-May-2022 12 23 -1 -2.144597044599822 23\n",
      "NELCAST.NS 17-May-2022 23 38 -1 -0.51743118734821 38\n",
      "NELCAST.NS 18-May-2022 0 27 -1 2.1171489322258914 27\n",
      "NELCAST.NS 18-May-2022 27 29 -1 0.6457793912627484 29\n",
      "NELCAST.NS 19-May-2022 0 28 -1 0.6773093317894607 28\n",
      "NELCAST.NS 20-May-2022 0 5 -1 -2.298140573525548 5\n",
      "NELCAST.NS 20-May-2022 5 8 -1 -5.739439293215916 8\n",
      "NELCAST.NS 20-May-2022 8 12 -1 -3.7400048297384445 12\n",
      "NELCAST.NS 20-May-2022 12 15 -1 -2.161553637958201 15\n",
      "NELCAST.NS 20-May-2022 15 26 -1 1.9807744011208233 26\n",
      "NELCAST.NS 20-May-2022 26 35 -1 2.1008294349574212 35\n",
      "NELCAST.NS 20-May-2022 35 58 -1 1.9097285502665726 58\n",
      "NELCAST.NS 20-May-2022 58 67 -1 -0.3370189913518738 67\n",
      "NELCAST.NS 01-Jun-2022 0 0 -1 -0.1 0\n",
      "NELCAST.NS 02-Jun-2022 0 17 -1 -0.5859211003315224 17\n",
      "NELCAST.NS 07-Jun-2022 0 0 0 0.0 0\n",
      "NELCAST.NS 08-Jun-2022 0 2 -1 -2.508179690049569 2\n",
      "NELCAST.NS 08-Jun-2022 2 25 -1 -0.3368260335633284 25\n",
      "NELCAST.NS 09-Jun-2022 0 15 -1 -0.7391024726909646 15\n",
      "NELCAST.NS 10-Jun-2022 0 20 -1 -0.1 20\n",
      "NELCAST.NS 13-Jun-2022 0 14 -1 2.1992641671251736 14\n",
      "NELCAST.NS 13-Jun-2022 14 26 -1 -2.1171297717747635 26\n",
      "NELCAST.NS 14-Jun-2022 0 21 -1 0.8214213159792578 21\n",
      "NELCAST.NS 15-Jun-2022 0 21 -1 1.8298432488813285 21\n",
      "NELCAST.NS 16-Jun-2022 0 11 -1 1.9171297717747737 11\n",
      "NELCAST.NS 16-Jun-2022 11 19 -1 2.1572472165944787 19\n",
      "NELCAST.NS 16-Jun-2022 19 21 -1 2.99223292641884 21\n",
      "NELCAST.NS 16-Jun-2022 21 34 -1 -0.6469931292370741 34\n",
      "NELCAST.NS 17-Jun-2022 0 3 -1 2.986784140969165 3\n",
      "NELCAST.NS 17-Jun-2022 3 6 -1 -2.179767947858232 6\n",
      "NELCAST.NS 17-Jun-2022 6 20 -1 2.0488385168402927 20\n",
      "NELCAST.NS 17-Jun-2022 20 28 -1 -2.393767218148583 28\n",
      "NELCAST.NS 17-Jun-2022 28 30 -1 -0.1903415792763596 30\n",
      "NELCAST.NS 20-Jun-2022 0 2 -1 2.2279123779757706 2\n",
      "NELCAST.NS 20-Jun-2022 2 20 -1 2.2898975538368007 20\n",
      "NELCAST.NS 20-Jun-2022 20 29 -1 2.9247446044007814 29\n",
      "NELCAST.NS 20-Jun-2022 29 31 -1 -2.6999985137542675 31\n",
      "NELCAST.NS 20-Jun-2022 31 36 -1 -2.341775193011822 36\n",
      "NELCAST.NS 20-Jun-2022 36 37 -1 3.494752838173462 37\n",
      "NELCAST.NS 21-Jun-2022 0 17 -1 -3.2163236366128056 17\n",
      "NELCAST.NS 21-Jun-2022 17 22 -1 -0.9303239883915114 22\n",
      "NELCAST.NS 22-Jun-2022 0 3 -1 -2.5232760108183894 3\n",
      "NELCAST.NS 22-Jun-2022 3 7 -1 2.0604262197048855 7\n",
      "NELCAST.NS 22-Jun-2022 7 23 -1 -2.304038098536508 23\n",
      "NELCAST.NS 22-Jun-2022 23 24 -1 -0.1 24\n",
      "NELCAST.NS 23-Jun-2022 0 3 -1 -2.1629955970325985 3\n",
      "NELCAST.NS 23-Jun-2022 3 19 -1 -2.135634912352709 19\n",
      "NELCAST.NS 24-Jun-2022 0 13 -1 -2.2462264431807966 13\n",
      "NELCAST.NS 24-Jun-2022 13 25 -1 -0.6076910034672123 25\n",
      "NELCAST.NS 27-Jun-2022 0 21 -1 -0.01643897573533489 21\n",
      "NELCAST.NS 28-Jun-2022 0 20 -1 1.3287967816894568 20\n",
      "NELCAST.NS 29-Jun-2022 0 5 -1 -2.174606068280559 5\n",
      "NELCAST.NS 29-Jun-2022 5 20 -1 1.9120615550277795 20\n",
      "NELCAST.NS 29-Jun-2022 20 20 -1 -0.09999999999999999 20\n",
      "NELCAST.NS 30-Jun-2022 0 18 -1 1.8347084494198136 18\n",
      "NELCAST.NS 01-Jul-2022 0 18 -1 -0.1 18\n",
      "NELCAST.NS 18-Nov-2022 0 18 -1 2.030982103534775 18\n",
      "NELCAST.NS 18-Nov-2022 18 70 -1 0.9325518938736735 70\n",
      "NELCAST.NS 21-Nov-2022 0 1 0 0.0 1\n",
      "NELCAST.NS 21-Nov-2022 1 6 -1 1.2254479535170122 6\n",
      "NELCAST.NS 21-Nov-2022 6 69 -1 -2.4252032932401613 69\n",
      "NELCAST.NS 21-Nov-2022 69 71 -1 0.07062673568725979 71\n",
      "NELCAST.NS 22-Nov-2022 0 22 -1 2.0176083901880957 22\n",
      "NELCAST.NS 22-Nov-2022 22 74 -1 0.4853801169590585 74\n",
      "NELCAST.NS 23-Nov-2022 0 74 -1 1.4695104489477857 74\n",
      "NELCAST.NS 24-Nov-2022 0 66 -1 -0.21680993370350246 66\n",
      "NELCAST.NS 25-Nov-2022 0 15 -1 2.5493705574032006 15\n",
      "NELCAST.NS 25-Nov-2022 15 52 -1 -2.9903413392073848 52\n",
      "NELCAST.NS 25-Nov-2022 52 74 -1 0.357601745605469 74\n",
      "NELCAST.NS 28-Nov-2022 0 70 -1 -0.2713080716381343 70\n",
      "NELCAST.NS 29-Nov-2022 0 66 -1 -0.0430568214554249 66\n",
      "NELCAST.NS 30-Nov-2022 0 69 -1 1.5512566063915534 69\n",
      "NELCAST.NS 01-Dec-2022 0 40 -1 -2.507901946290801 40\n",
      "NELCAST.NS 01-Dec-2022 40 70 -1 0.8018052109106594 70\n",
      "NELCAST.NS 02-Dec-2022 0 45 -1 -2.487391708958332 45\n",
      "NELCAST.NS 02-Dec-2022 45 57 -1 -3.9414314644881374 57\n",
      "NELCAST.NS 02-Dec-2022 57 63 -1 -2.2994055205414026 63\n",
      "NELCAST.NS 02-Dec-2022 63 71 -1 0.4235355732097557 71\n",
      "NELCAST.NS 05-Dec-2022 0 36 -1 -4.208206616525487 36\n",
      "NELCAST.NS 05-Dec-2022 36 60 -1 -2.872447454121506 60\n",
      "NELCAST.NS 05-Dec-2022 60 73 -1 2.7250234372409388 73\n",
      "NELCAST.NS 05-Dec-2022 73 74 -1 0.23703557756684016 74\n",
      "NELCAST.NS 06-Dec-2022 0 70 -1 -2.6049070590696397 70\n",
      "NELCAST.NS 06-Dec-2022 70 74 -1 -0.8049295774647988 74\n",
      "NELCAST.NS 07-Dec-2022 0 3 -1 -3.093642004850884 3\n",
      "NELCAST.NS 07-Dec-2022 3 12 -1 2.228964829674132 12\n",
      "NELCAST.NS 07-Dec-2022 12 54 -1 2.1015428228246003 54\n",
      "NELCAST.NS 07-Dec-2022 54 74 -1 1.1381497970298087 74\n",
      "NELCAST.NS 08-Dec-2022 0 17 -1 2.2268069703131776 17\n",
      "NELCAST.NS 08-Dec-2022 17 74 -1 0.19126617093116563 74\n",
      "NELCAST.NS 09-Dec-2022 0 5 -1 -2.43242866738329 5\n",
      "NELCAST.NS 09-Dec-2022 5 16 -1 2.2027670846858713 16\n",
      "NELCAST.NS 09-Dec-2022 16 38 -1 -2.3010545778154943 38\n",
      "NELCAST.NS 09-Dec-2022 38 52 -1 2.0617869059244662 52\n",
      "NELCAST.NS 09-Dec-2022 52 74 -1 0.09203543903162133 74\n",
      "NELCAST.NS 12-Dec-2022 0 6 -1 -3.2915971544053693 6\n",
      "NELCAST.NS 12-Dec-2022 6 31 -1 -2.513695623816833 31\n",
      "NELCAST.NS 12-Dec-2022 31 74 -1 -0.05579026578193601 74\n",
      "NELCAST.NS 13-Dec-2022 0 7 -1 -2.178964596440777 7\n",
      "NELCAST.NS 13-Dec-2022 7 14 -1 1.915722822716538 14\n",
      "NELCAST.NS 13-Dec-2022 14 74 -1 1.9311384638538769 74\n",
      "NELCAST.NS 13-Dec-2022 74 74 -1 -0.1 74\n",
      "NELCAST.NS 14-Dec-2022 0 5 -1 2.268438863754277 5\n",
      "NELCAST.NS 14-Dec-2022 5 16 -1 -2.161556064073225 16\n",
      "NELCAST.NS 14-Dec-2022 16 66 -1 2.0087907174037873 66\n",
      "NELCAST.NS 14-Dec-2022 66 74 -1 0.3145923385993293 74\n",
      "NELCAST.NS 15-Dec-2022 0 32 -1 2.143782720713202 32\n",
      "NELCAST.NS 15-Dec-2022 32 47 -1 -2.2984565164441353 47\n",
      "NELCAST.NS 15-Dec-2022 47 74 -1 0.9115741736615728 74\n",
      "NELCAST.NS 05-Apr-2022 0 8 -1 -0.39572317760576603 8\n",
      "NELCAST.NS 06-Apr-2022 0 45 -1 -1.0498562443865367 45\n",
      "NELCAST.NS 07-Apr-2022 0 43 -1 1.625857717708234 43\n",
      "NELCAST.NS 08-Apr-2022 0 25 -1 -2.133964435949134 25\n",
      "NELCAST.NS 08-Apr-2022 25 47 -1 -0.09999999999999999 47\n",
      "NELCAST.NS 11-Apr-2022 0 53 -1 0.8494641642804966 53\n",
      "NELCAST.NS 12-Apr-2022 0 4 -1 2.1734363285821057 4\n",
      "NELCAST.NS 12-Apr-2022 4 18 -1 -2.3605483515715515 18\n",
      "NELCAST.NS 12-Apr-2022 18 43 -1 -0.3774732376389785 43\n",
      "NELCAST.NS 13-Apr-2022 0 31 -1 1.000004150055088 31\n",
      "NELCAST.NS 18-Apr-2022 0 36 -1 -0.383364389053982 36\n",
      "NELCAST.NS 19-Apr-2022 0 35 -1 2.346578264429924 35\n",
      "NELCAST.NS 19-Apr-2022 35 37 -1 -1.3999911265631746 37\n",
      "NELCAST.NS 20-Apr-2022 0 20 -1 2.020762620451218 20\n",
      "NELCAST.NS 20-Apr-2022 20 27 -1 -0.1 27\n",
      "NELCAST.NS 21-Apr-2022 0 28 -1 0.46433249838325563 28\n",
      "NELCAST.NS 22-Apr-2022 0 6 -1 -2.644908672487569 6\n",
      "NELCAST.NS 22-Apr-2022 6 34 -1 2.4092900176716685 34\n",
      "NELCAST.NS 22-Apr-2022 34 35 0 0.0 35\n",
      "NELCAST.NS 22-Apr-2022 35 51 -1 0.9456127689281774 51\n",
      "NELCAST.NS 25-Apr-2022 0 32 -1 0.7555534169581722 32\n",
      "NELCAST.NS 26-Apr-2022 0 28 -1 1.1751613700599624 28\n",
      "NELCAST.NS 27-Apr-2022 0 28 -1 1.039933174106153 28\n",
      "NELCAST.NS 28-Apr-2022 0 17 -1 1.9749778534863835 17\n",
      "NELCAST.NS 28-Apr-2022 17 21 -1 -0.39311410870469066 21\n",
      "NELCAST.NS 29-Apr-2022 0 18 -1 2.143749848984327 18\n",
      "NELCAST.NS 29-Apr-2022 18 22 -1 0.5634087954220054 22\n"
     ]
    },
    {
     "ename": "IndexError",
     "evalue": "index 0 is out of bounds for axis 0 with size 0",
     "output_type": "error",
     "traceback": [
      "\u001b[0;31m---------------------------------------------------------------------------\u001b[0m",
      "\u001b[0;31mIndexError\u001b[0m                                Traceback (most recent call last)",
      "Cell \u001b[0;32mIn[37], line 1\u001b[0m\n\u001b[0;32m----> 1\u001b[0m bt\u001b[39m.\u001b[39;49mrun_all(tickers\u001b[39m=\u001b[39;49mfeed\u001b[39m.\u001b[39;49mtickers,model\u001b[39m=\u001b[39;49magent,verbose\u001b[39m=\u001b[39;49m\u001b[39mTrue\u001b[39;49;00m)\n",
      "File \u001b[0;32m<string>:52\u001b[0m, in \u001b[0;36mrun_all\u001b[0;34m(self, tickers, model, verbose)\u001b[0m\n",
      "File \u001b[0;32m<string>:75\u001b[0m, in \u001b[0;36mrun\u001b[0;34m(self, ticker, model, date, verbose)\u001b[0m\n",
      "File \u001b[0;32m<string>:54\u001b[0m, in \u001b[0;36mrun_episode\u001b[0;34m(self)\u001b[0m\n",
      "File \u001b[0;32m~/miniforge3/envs/metarl/lib/python3.11/site-packages/aspectlib/__init__.py:275\u001b[0m, in \u001b[0;36mAspect.__call__.<locals>.advising_function_wrapper\u001b[0;34m(*args, **kwargs)\u001b[0m\n\u001b[1;32m    273\u001b[0m     result \u001b[39m=\u001b[39m cutpoint_function(\u001b[39m*\u001b[39margs, \u001b[39m*\u001b[39m\u001b[39m*\u001b[39mkwargs)\n\u001b[1;32m    274\u001b[0m \u001b[39mexcept\u001b[39;00m \u001b[39mException\u001b[39;00m:\n\u001b[0;32m--> 275\u001b[0m     advice \u001b[39m=\u001b[39m advisor\u001b[39m.\u001b[39;49mthrow(\u001b[39m*\u001b[39;49msys\u001b[39m.\u001b[39;49mexc_info())\n\u001b[1;32m    276\u001b[0m \u001b[39melse\u001b[39;00m:\n\u001b[1;32m    277\u001b[0m     \u001b[39mtry\u001b[39;00m:\n",
      "Cell \u001b[0;32mIn[31], line 6\u001b[0m, in \u001b[0;36mmy_decorator\u001b[0;34m(*args, **kwargs)\u001b[0m\n\u001b[1;32m      1\u001b[0m \u001b[39m@aspectlib\u001b[39m\u001b[39m.\u001b[39mAspect\n\u001b[1;32m      2\u001b[0m \u001b[39mdef\u001b[39;00m \u001b[39mmy_decorator\u001b[39m(\u001b[39m*\u001b[39margs, \u001b[39m*\u001b[39m\u001b[39m*\u001b[39mkwargs):\n\u001b[1;32m      3\u001b[0m     \u001b[39m# print(\"Got called with args: %s kwargs: %s\" % (args, kwargs))\u001b[39;00m\n\u001b[1;32m      4\u001b[0m     \u001b[39m# result = yield\u001b[39;00m\n\u001b[1;32m      5\u001b[0m     \u001b[39m# print(\" ... and the result is: %s\" % (result,))\u001b[39;00m\n\u001b[0;32m----> 6\u001b[0m     state,rew,done,exit_type \u001b[39m=\u001b[39m \u001b[39myield\u001b[39;00m\n\u001b[1;32m      7\u001b[0m     \u001b[39m# args[0].policy.logL+=[(state.keys(),rew,done,exit_type)]\u001b[39;00m\n\u001b[1;32m      8\u001b[0m     args[\u001b[39m0\u001b[39m]\u001b[39m.\u001b[39mpolicy\u001b[39m.\u001b[39mreward((rew,done,{\u001b[39m'\u001b[39m\u001b[39mexit_type\u001b[39m\u001b[39m'\u001b[39m:exit_type}))\n",
      "File \u001b[0;32m~/miniforge3/envs/metarl/lib/python3.11/site-packages/aspectlib/__init__.py:273\u001b[0m, in \u001b[0;36mAspect.__call__.<locals>.advising_function_wrapper\u001b[0;34m(*args, **kwargs)\u001b[0m\n\u001b[1;32m    271\u001b[0m     kwargs \u001b[39m=\u001b[39m advice\u001b[39m.\u001b[39mkwargs\n\u001b[1;32m    272\u001b[0m \u001b[39mtry\u001b[39;00m:\n\u001b[0;32m--> 273\u001b[0m     result \u001b[39m=\u001b[39m cutpoint_function(\u001b[39m*\u001b[39;49margs, \u001b[39m*\u001b[39;49m\u001b[39m*\u001b[39;49mkwargs)\n\u001b[1;32m    274\u001b[0m \u001b[39mexcept\u001b[39;00m \u001b[39mException\u001b[39;00m:\n\u001b[1;32m    275\u001b[0m     advice \u001b[39m=\u001b[39m advisor\u001b[39m.\u001b[39mthrow(\u001b[39m*\u001b[39msys\u001b[39m.\u001b[39mexc_info())\n",
      "File \u001b[0;32m<string>:74\u001b[0m, in \u001b[0;36menv_step\u001b[0;34m(self, action)\u001b[0m\n",
      "File \u001b[0;32m<string>:92\u001b[0m, in \u001b[0;36mstep\u001b[0;34m(self, action)\u001b[0m\n",
      "\u001b[0;31mIndexError\u001b[0m: index 0 is out of bounds for axis 0 with size 0"
     ]
    }
   ],
   "source": [
    "bt.run_all(tickers=feed.tickers,model=agent,verbose=True)"
   ]
  },
  {
   "cell_type": "code",
   "execution_count": null,
   "id": "b475441c",
   "metadata": {},
   "outputs": [],
   "source": [
    "avg,n_ep,tot=compute_avg_episode_rew(bt) # Avg episode reward (not day)\n",
    "print(f\"Average reward {avg} across {n_ep} episodes; total {tot}\")"
   ]
  },
  {
   "cell_type": "code",
   "execution_count": null,
   "id": "2603e486-b7f3-41b8-af54-b3ece1bafa9c",
   "metadata": {},
   "outputs": [],
   "source": [
    "print(f\"Average returns per day:{tot/len(feed.dates)}\")"
   ]
  },
  {
   "cell_type": "code",
   "execution_count": null,
   "id": "b6121965-f387-4c70-b37f-ed9c57a6d653",
   "metadata": {},
   "outputs": [],
   "source": [
    "maxdd=min([bt.results[t][d]['tot'] for t in bt.results for d in bt.results[t]])\n",
    "print(f\"Max daily drawdown:{maxdd}\")"
   ]
  },
  {
   "cell_type": "code",
   "execution_count": null,
   "id": "325a0a84-d864-43d5-86fe-317ef355b9dc",
   "metadata": {},
   "outputs": [],
   "source": [
    "maxdp=max([bt.results[t][d]['tot'] for t in bt.results for d in bt.results[t]])\n",
    "print(f\"Max daily profit:{maxdp}\")"
   ]
  },
  {
   "cell_type": "code",
   "execution_count": null,
   "id": "c42949dd-ed35-4ec1-b63f-dbca05155907",
   "metadata": {},
   "outputs": [],
   "source": [
    "# sum([bt.returns[t] for t in bt.returns])"
   ]
  },
  {
   "cell_type": "markdown",
   "id": "3ef67d33-a9b8-45a4-b303-9ec012e0b7ed",
   "metadata": {},
   "source": [
    "## Trading Plots"
   ]
  },
  {
   "cell_type": "code",
   "execution_count": null,
   "id": "7f2ace22-88e1-4a2e-9678-516f259bf856",
   "metadata": {},
   "outputs": [],
   "source": [
    "import plotly.graph_objects as go"
   ]
  },
  {
   "cell_type": "code",
   "execution_count": null,
   "id": "e862f886-2b22-471e-9e53-92974270b1cb",
   "metadata": {},
   "outputs": [],
   "source": [
    "import plotly.express as px"
   ]
  },
  {
   "cell_type": "code",
   "execution_count": null,
   "id": "23c6198b-6840-4db4-af0b-e008ca3a508b",
   "metadata": {},
   "outputs": [],
   "source": [
    "def annotate_action(rew,act,df):\n",
    "    if rew[1]>=0:color='Green'\n",
    "    else: color='Red'\n",
    "    if act[0]==1:text='Buy'\n",
    "    elif act[0]==-1:text='Sell'\n",
    "    ann=dict(font=dict(color=color,size=15),x=df.index[rew[0]],y=df.iloc[rew[0]]['Close'],\n",
    "             showarrow=True,text=text)\n",
    "    return ann"
   ]
  },
  {
   "cell_type": "code",
   "execution_count": null,
   "id": "8664417b-e4a6-4d9f-a38f-9813ef42b0e5",
   "metadata": {},
   "outputs": [],
   "source": [
    "def annotate_exit(rew,act,anns,df):\n",
    "    if rew[1]>=0:color='Green'\n",
    "    else: color='Red'\n",
    "    X=[a['x'] for a in anns if a is not None]\n",
    "    if df.index[rew[2]] in X: \n",
    "        idx=X.index(df.index[rew[2]])\n",
    "        anns[idx]['text']='Ex&'+anns[idx]['text']\n",
    "    else:\n",
    "        anns+=[dict(font=dict(color=color,size=15),x=df.index[rew[2]],y=df.iloc[rew[2]]['Close'],\n",
    "                    showarrow=True,text='Exit')]"
   ]
  },
  {
   "cell_type": "code",
   "execution_count": null,
   "id": "e8072619-f291-4436-bcaf-475849f7c7ae",
   "metadata": {},
   "outputs": [],
   "source": [
    "def plot_ticker_date(bt,ticker,date):\n",
    "    global fig\n",
    "    df=feed.ndata[ticker][date]\n",
    "    df=df.loc[df['Date']==date]\n",
    "    fig = go.Figure(data=\n",
    "        [go.Candlestick(x = df.index,\n",
    "                        open  = df[\"Open\"],\n",
    "                        high  = df[\"High\"],\n",
    "                        low   = df[\"Low\"],\n",
    "                        close = df[\"Close\"])]\n",
    "    )\n",
    "    reward=np.round(bt.results[ticker][date][\"tot\"],2)\n",
    "    fig.update_layout(\n",
    "        title=f'{ticker} on {date} return {reward}',\n",
    "        yaxis_title=\"Price\"\n",
    "    )\n",
    "    anns=[]\n",
    "    for r,a in zip(bt.results[ticker][date]['rew'],bt.results[ticker][date]['acts']):\n",
    "        anns+=[annotate_action(r,a,df)]\n",
    "    for r,a in zip(bt.results[ticker][date]['rew'],bt.results[ticker][date]['acts']):\n",
    "        anns+=[annotate_exit(r,a,anns,df)]\n",
    "    for a in anns: \n",
    "        if a is not None: fig.add_annotation(a)\n",
    "    fig.show()\n",
    "    return fig"
   ]
  },
  {
   "cell_type": "code",
   "execution_count": null,
   "id": "bb8ef342-167c-4748-9996-3ea031f2a43f",
   "metadata": {},
   "outputs": [],
   "source": [
    "def combine_plotly_figs_to_html(plotly_figs, html_fname, include_plotlyjs='cdn', \n",
    "                                separator=None, auto_open=False):\n",
    "    with open(html_fname, 'w') as f:\n",
    "        f.write(plotly_figs[0].to_html(include_plotlyjs=include_plotlyjs))\n",
    "        for fig in plotly_figs[1:]:\n",
    "            if separator:\n",
    "                f.write(separator)\n",
    "            f.write(fig.to_html(full_html=False, include_plotlyjs=False))\n",
    "\n",
    "    if auto_open:\n",
    "        import pathlib, webbrowser\n",
    "        uri = pathlib.Path(html_fname).absolute().as_uri()\n",
    "        webbrowser.open(uri)"
   ]
  },
  {
   "cell_type": "code",
   "execution_count": null,
   "id": "ec2eed91-6be7-4a94-8405-897c9a721a6e",
   "metadata": {
    "tags": []
   },
   "outputs": [],
   "source": [
    "if not script:\n",
    "    figs=[]\n",
    "    for t in bt.results:\n",
    "        for d in bt.results[t]:\n",
    "            figs+=[plot_ticker_date(bt,t,d)]"
   ]
  },
  {
   "cell_type": "code",
   "execution_count": null,
   "id": "aabd6227-8bef-4c38-ad3c-1b1a18622635",
   "metadata": {
    "tags": []
   },
   "outputs": [],
   "source": [
    "if not script: combine_plotly_figs_to_html(figs,'../../temp_data/charts.html',auto_open=True)"
   ]
  },
  {
   "cell_type": "code",
   "execution_count": null,
   "id": "19a39d25-4600-403a-b58b-b73ef116e30e",
   "metadata": {},
   "outputs": [],
   "source": []
  }
 ],
 "metadata": {
  "kernelspec": {
   "display_name": "Python 3 (ipykernel)",
   "language": "python",
   "name": "python3"
  },
  "language_info": {
   "codemirror_mode": {
    "name": "ipython",
    "version": 3
   },
   "file_extension": ".py",
   "mimetype": "text/x-python",
   "name": "python",
   "nbconvert_exporter": "python",
   "pygments_lexer": "ipython3",
   "version": "3.11.0"
  }
 },
 "nbformat": 4,
 "nbformat_minor": 5
}

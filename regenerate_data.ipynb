{
 "cells": [
  {
   "cell_type": "code",
   "execution_count": 1,
   "metadata": {},
   "outputs": [
    {
     "name": "stdout",
     "output_type": "stream",
     "text": [
      "importing Jupyter notebook from backtest.ipynb\n",
      "importing Jupyter notebook from feeds.ipynb\n",
      "importing Jupyter notebook from synfeed.ipynb\n",
      "importing Jupyter notebook from india_calendar.ipynb\n",
      "importing Jupyter notebook from featfuncs.ipynb\n",
      "importing Jupyter notebook from feed_env.ipynb\n",
      "importing Jupyter notebook from validation.ipynb\n",
      "importing Jupyter notebook from rlagents.ipynb\n",
      "importing Jupyter notebook from aiagentbase.ipynb\n"
     ]
    }
   ],
   "source": [
    "import import_ipynb\n",
    "import pandas as pd\n",
    "import numpy as np\n",
    "import torch\n",
    "from datetime import datetime\n",
    "from datetime import datetime as dt\n",
    "from torch.utils.data import Dataset\n",
    "from sklearn.preprocessing import StandardScaler\n",
    "import pickle\n",
    "from threading import Thread\n",
    "import threading\n",
    "from IPython import display\n",
    "import time,getopt,sys,os\n",
    "\n",
    "\n",
    "from backtest import Backtest\n",
    "from feeds import BackFeed,DataFeed\n",
    "from validation import Validate\n",
    "from add_features import add_features\n",
    "\n",
    "from feeds import BackFeed,DataFeed\n",
    "from featfuncs import feat_aug,add_addl_features_feed,add_ta_features_feed,add_sym_feature_feed\n",
    "from featfuncs import add_global_indices_feed\n",
    "\n",
    "from rlagents import RLStratAgentDyn, COLS, RLStratAgentDynFeatures\n",
    "import warnings\n",
    "warnings.filterwarnings('ignore')"
   ]
  },
  {
   "cell_type": "code",
   "execution_count": 2,
   "metadata": {},
   "outputs": [],
   "source": [
    "DATAPATH = '../algodata/realdata/alldata.csv'"
   ]
  },
  {
   "cell_type": "code",
   "execution_count": 3,
   "metadata": {},
   "outputs": [],
   "source": [
    "def stringify(x):\n",
    "    return pd.to_datetime(x['Datetime']).strftime('%d-%b-%Y')"
   ]
  },
  {
   "cell_type": "code",
   "execution_count": 4,
   "metadata": {},
   "outputs": [
    {
     "name": "stdout",
     "output_type": "stream",
     "text": [
      "Reading datafile\n",
      "Creating feed\n",
      "Processing feed\n"
     ]
    }
   ],
   "source": [
    "DATAFILE=DATAPATH\n",
    "print('Reading datafile')\n",
    "df=pd.read_csv(DATAFILE)\n",
    "if 'Date' not in df.columns: \n",
    "    print('Adding Date')\n",
    "    df['Date']=df.apply(stringify,axis=1)\n",
    "print('Creating feed')\n",
    "feed=DataFeed(tickers=list(df.ticker.unique()[0:10]),dfgiven=True,df=df)\n",
    "print('Processing feed')\n",
    "\n",
    "add_addl_features_feed(feed,tickers=feed.tickers)\n",
    "add_sym_feature_feed(feed,tickers=feed.tickers)"
   ]
  },
  {
   "cell_type": "code",
   "execution_count": 5,
   "metadata": {},
   "outputs": [],
   "source": [
    "RETAIN_OLD_FEATURES = True\n",
    "ADD_FEATURES = False"
   ]
  },
  {
   "cell_type": "code",
   "execution_count": 6,
   "metadata": {},
   "outputs": [],
   "source": [
    "with open(f'../algodata/realdata/datafeed_alldata_{RETAIN_OLD_FEATURES}_{ADD_FEATURES}.pkl','wb') as f: \n",
    "    pickle.dump(feed,f)"
   ]
  },
  {
   "cell_type": "code",
   "execution_count": 28,
   "metadata": {},
   "outputs": [],
   "source": [
    "with open(f'../algodata/realdata/datafeed_alldata_{RETAIN_OLD_FEATURES}_{ADD_FEATURES}.pkl','rb') as f: \n",
    "    feed = pickle.load(f)"
   ]
  },
  {
   "cell_type": "code",
   "execution_count": 29,
   "metadata": {},
   "outputs": [],
   "source": [
    "with open('additional_utils/cols.pkl', 'rb') as f:\n",
    "        d = pickle.load(f)\n",
    "        \n",
    "# d['discrete_cols']+d['pre_discrete_cols']\n",
    "imp_cols = d['imp_cols']\n",
    "cols_to_use = d['cols_to_use']"
   ]
  },
  {
   "cell_type": "code",
   "execution_count": 30,
   "metadata": {},
   "outputs": [],
   "source": [
    "from dataclasses import dataclass\n",
    "\n",
    "@dataclass\n",
    "class OptimalData:\n",
    "    optD: dict\n",
    "    optR: dict\n",
    "    optDT: dict\n",
    "    optRT: dict\n",
    "    feed_original: pd.DataFrame\n",
    "    feed_all: pd.DataFrame"
   ]
  },
  {
   "cell_type": "code",
   "execution_count": 31,
   "metadata": {},
   "outputs": [],
   "source": [
    "import os\n",
    "with open(os.path.join('additional_utils', 'optimal_alldata_new.pkl'), 'rb') as f:\n",
    "    optimal_all_data = pickle.load(f)"
   ]
  },
  {
   "cell_type": "code",
   "execution_count": 34,
   "metadata": {},
   "outputs": [],
   "source": [
    "feed_original = feed.data\n",
    "for ticker in feed_original:\n",
    "    feed_original[ticker]['row_num'] = feed_original[ticker]['row_num'].apply(lambda x: x if x<75 else x-75)\n",
    "feed.data = feed_original"
   ]
  },
  {
   "cell_type": "code",
   "execution_count": 35,
   "metadata": {},
   "outputs": [],
   "source": [
    "from copy import deepcopy\n",
    "feed_old = deepcopy(feed)"
   ]
  },
  {
   "cell_type": "code",
   "execution_count": 36,
   "metadata": {},
   "outputs": [],
   "source": [
    "feed = feed.data"
   ]
  },
  {
   "cell_type": "code",
   "execution_count": 37,
   "metadata": {},
   "outputs": [],
   "source": [
    "optD = optimal_all_data.optD\n",
    "\n",
    "for ticker in feed:\n",
    "    feed[ticker]['Action'] = -5\n",
    "    actions = []\n",
    "\n",
    "    for t in optD[ticker]:\n",
    "        for acts in optD[ticker][t]:\n",
    "            rn, a = acts[0], acts[1]\n",
    "            actions.append(a)\n",
    "            # if a == -1: a = 2\n",
    "            feed[ticker].loc[(feed[ticker]['Date']==t) & (feed[ticker]['row_num']==rn), 'Action'] = a"
   ]
  },
  {
   "cell_type": "code",
   "execution_count": 38,
   "metadata": {},
   "outputs": [
    {
     "data": {
      "text/plain": [
       "-5    82772\n",
       "-1      920\n",
       " 1      764\n",
       "Name: Action, dtype: int64"
      ]
     },
     "execution_count": 38,
     "metadata": {},
     "output_type": "execute_result"
    }
   ],
   "source": [
    "feed_original = pd.concat([feed[t] for t in feed], axis=0)\n",
    "feed_original['Action'].value_counts()"
   ]
  },
  {
   "cell_type": "code",
   "execution_count": 40,
   "metadata": {},
   "outputs": [],
   "source": [
    "optDT = optimal_all_data.optDT\n",
    "\n",
    "for ticker in feed:\n",
    "    feed[ticker]['Action'] = -5\n",
    "    actions = []\n",
    "\n",
    "    for offset in optDT:\n",
    "        for t in optDT[offset][ticker]:\n",
    "            for acts in optDT[offset][ticker][t]:\n",
    "                rn, a = acts[0], acts[1]\n",
    "                actions.append(a)\n",
    "                # if a == -1: a = 2\n",
    "                feed[ticker].loc[(feed[ticker]['Date']==t) & (feed[ticker]['row_num']==rn), 'Action'] = a"
   ]
  },
  {
   "cell_type": "code",
   "execution_count": 41,
   "metadata": {},
   "outputs": [
    {
     "data": {
      "text/plain": [
       "-5    81446\n",
       "-1     1650\n",
       " 1     1360\n",
       "Name: Action, dtype: int64"
      ]
     },
     "execution_count": 41,
     "metadata": {},
     "output_type": "execute_result"
    }
   ],
   "source": [
    "feed_all = pd.concat([feed[t] for t in feed], axis=0)\n",
    "feed_all['Action'].value_counts()"
   ]
  },
  {
   "cell_type": "code",
   "execution_count": 42,
   "metadata": {},
   "outputs": [],
   "source": [
    "optimal_all_data.feed_original = feed_original\n",
    "optimal_all_data.feed_all = feed_all"
   ]
  },
  {
   "cell_type": "code",
   "execution_count": 43,
   "metadata": {},
   "outputs": [],
   "source": [
    "import os\n",
    "with open(os.path.join('additional_utils', 'optimal_alldata_new.pkl'), 'wb') as f:\n",
    "    pickle.dump(optimal_all_data, f)"
   ]
  },
  {
   "cell_type": "code",
   "execution_count": null,
   "metadata": {},
   "outputs": [],
   "source": []
  }
 ],
 "metadata": {
  "kernelspec": {
   "display_name": "metarl",
   "language": "python",
   "name": "python3"
  },
  "language_info": {
   "codemirror_mode": {
    "name": "ipython",
    "version": 3
   },
   "file_extension": ".py",
   "mimetype": "text/x-python",
   "name": "python",
   "nbconvert_exporter": "python",
   "pygments_lexer": "ipython3",
   "version": "3.11.0"
  },
  "orig_nbformat": 4
 },
 "nbformat": 4,
 "nbformat_minor": 2
}

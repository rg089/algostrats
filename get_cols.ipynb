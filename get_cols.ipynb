{
 "cells": [
  {
   "cell_type": "code",
   "execution_count": 1,
   "metadata": {},
   "outputs": [],
   "source": [
    "from decision_tree import DecisionTree, TreeNode, Rule\n",
    "import json\n",
    "import os\n",
    "import pickle"
   ]
  },
  {
   "cell_type": "code",
   "execution_count": 2,
   "metadata": {},
   "outputs": [],
   "source": [
    "cols = []\n",
    "col_counts = {}"
   ]
  },
  {
   "cell_type": "code",
   "execution_count": 3,
   "metadata": {},
   "outputs": [],
   "source": [
    "def get_cols(node:TreeNode):\n",
    "    global cols, col_counts\n",
    "    if node is None: return\n",
    "    rule: Rule = node.rule\n",
    "    if rule is None: return\n",
    "    col = rule.predictor\n",
    "    if col not in cols: cols.append(col)\n",
    "    col_counts[col] = col_counts.get(col, 0) + 1\n",
    "    get_cols(node.left)\n",
    "    get_cols(node.right)"
   ]
  },
  {
   "cell_type": "code",
   "execution_count": 4,
   "metadata": {},
   "outputs": [],
   "source": [
    "files = [os.path.join('saved_models', file_name) for file_name in os.listdir('saved_models') if file_name.startswith('dt')]\n",
    "\n",
    "for model_path in files:\n",
    "    with open(model_path, 'rb') as f:\n",
    "        model = pickle.load(f)\n",
    "        \n",
    "    get_cols(model.tree)\n",
    "    \n",
    "cols = [col for col in cols if not col.startswith('row_num')]\n",
    "col_counts = {col: col_counts[col] for col in cols}"
   ]
  },
  {
   "cell_type": "code",
   "execution_count": 5,
   "metadata": {},
   "outputs": [
    {
     "data": {
      "text/plain": [
       "{'Open-Close_ma_1-Open-Close_ma_10_val': 5,\n",
       " 'Close_slope_1_polarity': 3,\n",
       " 'Volume_ma_10_val': 4,\n",
       " 'Open-Close_slope_1_val': 2,\n",
       " 'MACDs_12_26_9_ma_20_changelen_val': 1,\n",
       " 'Open-Close_ma_1-Open-Close_ma_50_val': 3,\n",
       " 'BBP_5_2.0_slope_1_changelen_val': 3,\n",
       " 'BBM_5_2.0_ma_1-BBM_5_2.0_ma_20_changelen_val': 2,\n",
       " 'Open-High_ma_5-Open-High_ma_20_changelen_val': 1,\n",
       " 'BBL_5_2.0_ma_5_slope_1_changelen_polarity': 1,\n",
       " 'High_n-Low_n_ma_50_changelen_val': 1,\n",
       " 'High_n-Low_n_ma_20_slope_15_changelen_val': 1,\n",
       " 'BBL_5_2.0_ma_10_slope_15_val': 2,\n",
       " 'Open_n-Close_n_ma_10_val': 1,\n",
       " 'Volume_ma_5_slope_5_val': 1,\n",
       " 'Close_n_slope_1_polarity': 1,\n",
       " 'Low_ma_5_slope_3_polarity': 1,\n",
       " 'Open_n_ma_10_slope_5_changelen_polarity': 1,\n",
       " 'RSI_14_ma_1_val': 1,\n",
       " 'Open-Close_polarity': 1,\n",
       " 'Open-High_ma_1-Open-High_ma_50_val': 1,\n",
       " 'Open-Close_ma_1-Open-Close_ma_20_val': 1,\n",
       " 'Close_n_ma_1-Close_n_ma_50_changelen_polarity': 1,\n",
       " 'High_n_ma_1-High_n_ma_20_changelen_polarity': 1,\n",
       " 'Open-High_ma_1-Open-High_ma_50_polarity': 1}"
      ]
     },
     "execution_count": 5,
     "metadata": {},
     "output_type": "execute_result"
    }
   ],
   "source": [
    "col_counts"
   ]
  },
  {
   "cell_type": "code",
   "execution_count": 6,
   "metadata": {},
   "outputs": [
    {
     "data": {
      "text/plain": [
       "(['Open-Close_ma_1-Open-Close_ma_10_val',\n",
       "  'Close_slope_1_polarity',\n",
       "  'Volume_ma_10_val',\n",
       "  'Open-Close_slope_1_val',\n",
       "  'MACDs_12_26_9_ma_20_changelen_val',\n",
       "  'Open-Close_ma_1-Open-Close_ma_50_val',\n",
       "  'BBP_5_2.0_slope_1_changelen_val',\n",
       "  'BBM_5_2.0_ma_1-BBM_5_2.0_ma_20_changelen_val',\n",
       "  'Open-High_ma_5-Open-High_ma_20_changelen_val',\n",
       "  'BBL_5_2.0_ma_5_slope_1_changelen_polarity',\n",
       "  'High_n-Low_n_ma_50_changelen_val',\n",
       "  'High_n-Low_n_ma_20_slope_15_changelen_val',\n",
       "  'BBL_5_2.0_ma_10_slope_15_val',\n",
       "  'Open_n-Close_n_ma_10_val',\n",
       "  'Volume_ma_5_slope_5_val',\n",
       "  'Close_n_slope_1_polarity',\n",
       "  'Low_ma_5_slope_3_polarity',\n",
       "  'Open_n_ma_10_slope_5_changelen_polarity',\n",
       "  'RSI_14_ma_1_val',\n",
       "  'Open-Close_polarity',\n",
       "  'Open-High_ma_1-Open-High_ma_50_val',\n",
       "  'Open-Close_ma_1-Open-Close_ma_20_val',\n",
       "  'Close_n_ma_1-Close_n_ma_50_changelen_polarity',\n",
       "  'High_n_ma_1-High_n_ma_20_changelen_polarity',\n",
       "  'Open-High_ma_1-Open-High_ma_50_polarity'],\n",
       " 25)"
      ]
     },
     "execution_count": 6,
     "metadata": {},
     "output_type": "execute_result"
    }
   ],
   "source": [
    "cols, len(cols)"
   ]
  },
  {
   "cell_type": "code",
   "execution_count": 8,
   "metadata": {},
   "outputs": [],
   "source": [
    "cols_to_use = ['CMO_14', 'Open', 'Close', 'SMA_20', 'SMA_10', 'Open_n', 'Close_n',\n",
    "               'High_n', 'Low_n', 'High', 'Low', 'BBM_5_2.0', 'Volume', 'RSI_14',\n",
    "               'MACDs_12_26_9', 'BBL_5_2.0', 'BBP_5_2.0']"
   ]
  },
  {
   "cell_type": "code",
   "execution_count": 9,
   "metadata": {},
   "outputs": [],
   "source": [
    "with open('additional_utils/cols.pkl', 'rb') as f:\n",
    "    d = pickle.load(f)\n",
    "d['imp_cols'] = cols\n",
    "d['cols_to_use'] = cols_to_use\n",
    "d['col_counts'] = col_counts\n",
    "with open('additional_utils/cols.pkl', 'wb') as f:\n",
    "    pickle.dump(d, f)"
   ]
  },
  {
   "cell_type": "code",
   "execution_count": 11,
   "metadata": {},
   "outputs": [
    {
     "data": {
      "text/plain": [
       "{'Open-Close_ma_1-Open-Close_ma_10_val': 5,\n",
       " 'Volume_ma_10_val': 4,\n",
       " 'Close_slope_1_polarity': 3,\n",
       " 'Open-Close_ma_1-Open-Close_ma_50_val': 3,\n",
       " 'BBP_5_2.0_slope_1_changelen_val': 3,\n",
       " 'Open-Close_slope_1_val': 2,\n",
       " 'BBM_5_2.0_ma_1-BBM_5_2.0_ma_20_changelen_val': 2,\n",
       " 'BBL_5_2.0_ma_10_slope_15_val': 2,\n",
       " 'MACDs_12_26_9_ma_20_changelen_val': 1,\n",
       " 'Open-High_ma_5-Open-High_ma_20_changelen_val': 1,\n",
       " 'BBL_5_2.0_ma_5_slope_1_changelen_polarity': 1,\n",
       " 'High_n-Low_n_ma_50_changelen_val': 1,\n",
       " 'High_n-Low_n_ma_20_slope_15_changelen_val': 1,\n",
       " 'Open_n-Close_n_ma_10_val': 1,\n",
       " 'Volume_ma_5_slope_5_val': 1,\n",
       " 'Close_n_slope_1_polarity': 1,\n",
       " 'Low_ma_5_slope_3_polarity': 1,\n",
       " 'Open_n_ma_10_slope_5_changelen_polarity': 1,\n",
       " 'RSI_14_ma_1_val': 1,\n",
       " 'Open-Close_polarity': 1,\n",
       " 'Open-High_ma_1-Open-High_ma_50_val': 1,\n",
       " 'Open-Close_ma_1-Open-Close_ma_20_val': 1,\n",
       " 'Close_n_ma_1-Close_n_ma_50_changelen_polarity': 1,\n",
       " 'High_n_ma_1-High_n_ma_20_changelen_polarity': 1,\n",
       " 'Open-High_ma_1-Open-High_ma_50_polarity': 1}"
      ]
     },
     "execution_count": 11,
     "metadata": {},
     "output_type": "execute_result"
    }
   ],
   "source": [
    "{k:v for k,v in sorted(col_counts.items(), key=lambda x: -x[1])}"
   ]
  }
 ],
 "metadata": {
  "kernelspec": {
   "display_name": "metarl",
   "language": "python",
   "name": "python3"
  },
  "language_info": {
   "codemirror_mode": {
    "name": "ipython",
    "version": 3
   },
   "file_extension": ".py",
   "mimetype": "text/x-python",
   "name": "python",
   "nbconvert_exporter": "python",
   "pygments_lexer": "ipython3",
   "version": "3.11.0"
  },
  "orig_nbformat": 4
 },
 "nbformat": 4,
 "nbformat_minor": 2
}

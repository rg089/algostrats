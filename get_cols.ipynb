{
 "cells": [
  {
   "cell_type": "code",
   "execution_count": 1,
   "metadata": {},
   "outputs": [],
   "source": [
    "from decision_tree import DecisionTree, TreeNode, Rule\n",
    "import json\n",
    "import os\n",
    "import pickle"
   ]
  },
  {
   "cell_type": "code",
   "execution_count": 2,
   "metadata": {},
   "outputs": [],
   "source": [
    "cols = []\n",
    "col_counts = {}"
   ]
  },
  {
   "cell_type": "code",
   "execution_count": 3,
   "metadata": {},
   "outputs": [],
   "source": [
    "def get_cols(node:TreeNode):\n",
    "    global cols, col_counts\n",
    "    if node is None: return\n",
    "    rule: Rule = node.rule\n",
    "    if rule is None: return\n",
    "    col = rule.predictor\n",
    "    if col not in cols: cols.append(col)\n",
    "    col_counts[col] = col_counts.get(col, 0) + 1\n",
    "    get_cols(node.left)\n",
    "    get_cols(node.right)"
   ]
  },
  {
   "cell_type": "code",
   "execution_count": 4,
   "metadata": {},
   "outputs": [],
   "source": [
    "files = [os.path.join('saved_models', file_name) for file_name in os.listdir('saved_models') if file_name.startswith('dt')]\n",
    "\n",
    "for model_path in files:\n",
    "    with open(model_path, 'rb') as f:\n",
    "        model = pickle.load(f)\n",
    "        \n",
    "    get_cols(model.tree)\n",
    "    \n",
    "cols = [col for col in cols if not col.startswith('row_num')]\n",
    "col_counts = {col: col_counts[col] for col in cols}\n",
    "col_counts = {k:v for k,v in sorted(col_counts.items(), key=lambda x: -x[1])}"
   ]
  },
  {
   "cell_type": "code",
   "execution_count": 5,
   "metadata": {},
   "outputs": [
    {
     "data": {
      "text/plain": [
       "{'Open-Close_ma_1-Open-Close_ma_10_val': 5,\n",
       " 'Volume_ma_10_val': 4,\n",
       " 'Close_slope_1_polarity': 3,\n",
       " 'Open-Close_ma_1-Open-Close_ma_50_val': 3,\n",
       " 'BBP_5_2.0_slope_1_changelen_val': 3,\n",
       " 'Open-Close_slope_1_val': 2,\n",
       " 'BBM_5_2.0_ma_1-BBM_5_2.0_ma_20_changelen_val': 2,\n",
       " 'BBL_5_2.0_ma_10_slope_15_val': 2,\n",
       " 'MACDs_12_26_9_ma_20_changelen_val': 1,\n",
       " 'Open-High_ma_5-Open-High_ma_20_changelen_val': 1,\n",
       " 'BBL_5_2.0_ma_5_slope_1_changelen_polarity': 1,\n",
       " 'High_n-Low_n_ma_50_changelen_val': 1,\n",
       " 'High_n-Low_n_ma_20_slope_15_changelen_val': 1,\n",
       " 'Open_n-Close_n_ma_10_val': 1,\n",
       " 'Volume_ma_5_slope_5_val': 1,\n",
       " 'Close_n_slope_1_polarity': 1,\n",
       " 'Low_ma_5_slope_3_polarity': 1,\n",
       " 'Open_n_ma_10_slope_5_changelen_polarity': 1,\n",
       " 'RSI_14_ma_1_val': 1,\n",
       " 'Open-Close_polarity': 1,\n",
       " 'Open-High_ma_1-Open-High_ma_50_val': 1,\n",
       " 'Open-Close_ma_1-Open-Close_ma_20_val': 1,\n",
       " 'Close_n_ma_1-Close_n_ma_50_changelen_polarity': 1,\n",
       " 'High_n_ma_1-High_n_ma_20_changelen_polarity': 1,\n",
       " 'Open-High_ma_1-Open-High_ma_50_polarity': 1}"
      ]
     },
     "execution_count": 5,
     "metadata": {},
     "output_type": "execute_result"
    }
   ],
   "source": [
    "col_counts"
   ]
  },
  {
   "cell_type": "code",
   "execution_count": 6,
   "metadata": {},
   "outputs": [
    {
     "data": {
      "text/plain": [
       "25"
      ]
     },
     "execution_count": 6,
     "metadata": {},
     "output_type": "execute_result"
    }
   ],
   "source": [
    "len(cols)"
   ]
  },
  {
   "cell_type": "code",
   "execution_count": 9,
   "metadata": {},
   "outputs": [
    {
     "data": {
      "text/plain": [
       "(['Open-High_ma_1-Open-High_ma_50',\n",
       "  'Open-Close_ma_1-Open-Close_ma_10',\n",
       "  'Close_slope_1',\n",
       "  'Volume_ma_10',\n",
       "  'Open-Close_slope_1',\n",
       "  'MACDs_12_26_9_ma_20_changelen',\n",
       "  'Open-Close_ma_1-Open-Close_ma_50',\n",
       "  'BBP_5_2.0_slope_1_changelen',\n",
       "  'BBM_5_2.0_ma_1-BBM_5_2.0_ma_20_changelen',\n",
       "  'Open-High_ma_5-Open-High_ma_20_changelen',\n",
       "  'BBL_5_2.0_ma_5_slope_1_changelen',\n",
       "  'High_n-Low_n_ma_50_changelen',\n",
       "  'High_n-Low_n_ma_20_slope_15_changelen',\n",
       "  'BBL_5_2.0_ma_10_slope_15',\n",
       "  'Open_n-Close_n_ma_10',\n",
       "  'Volume_ma_5_slope_5',\n",
       "  'Close_n_slope_1',\n",
       "  'Low_ma_5_slope_3',\n",
       "  'Open_n_ma_10_slope_5_changelen',\n",
       "  'RSI_14_ma_1',\n",
       "  'Open-Close',\n",
       "  'Open-Close_ma_1-Open-Close_ma_20',\n",
       "  'Close_n_ma_1-Close_n_ma_50_changelen',\n",
       "  'High_n_ma_1-High_n_ma_20_changelen'],\n",
       " 24)"
      ]
     },
     "execution_count": 9,
     "metadata": {},
     "output_type": "execute_result"
    }
   ],
   "source": [
    "prediscrete_imp_cols = [col.rstrip('_val').rstrip('_polarity') for col in cols]\n",
    "count_prediscrete = {}\n",
    "for col in prediscrete_imp_cols:\n",
    "    count_prediscrete[col] = count_prediscrete.get(col, 0) + 1\n",
    "count_prediscrete = {k:v for k,v in sorted(count_prediscrete.items(), key=lambda x: -x[1])}\n",
    "prediscrete_imp_cols = list(count_prediscrete.keys())\n",
    "prediscrete_imp_cols, len(prediscrete_imp_cols)"
   ]
  },
  {
   "cell_type": "code",
   "execution_count": 10,
   "metadata": {},
   "outputs": [],
   "source": [
    "cols_to_use = ['Open', 'Close', 'Open_n', 'Close_n',\n",
    "               'High_n', 'Low_n', 'High', 'Low', 'BBM_5_2.0', 'Volume', 'RSI_14',\n",
    "               'MACDs_12_26_9', 'BBL_5_2.0', 'BBP_5_2.0']"
   ]
  },
  {
   "cell_type": "code",
   "execution_count": 11,
   "metadata": {},
   "outputs": [],
   "source": [
    "with open('additional_utils/cols.pkl', 'rb') as f:\n",
    "    d = pickle.load(f)\n",
    "d['imp_cols'] = cols\n",
    "d['cols_to_use'] = cols_to_use\n",
    "d['col_counts'] = col_counts\n",
    "d['prediscrete_imp_cols'] = prediscrete_imp_cols\n",
    "d['prediscrete_col_counts'] = count_prediscrete\n",
    "with open('additional_utils/cols.pkl', 'wb') as f:\n",
    "    pickle.dump(d, f)"
   ]
  },
  {
   "cell_type": "code",
   "execution_count": null,
   "metadata": {},
   "outputs": [],
   "source": []
  }
 ],
 "metadata": {
  "kernelspec": {
   "display_name": "metarl",
   "language": "python",
   "name": "python3"
  },
  "language_info": {
   "codemirror_mode": {
    "name": "ipython",
    "version": 3
   },
   "file_extension": ".py",
   "mimetype": "text/x-python",
   "name": "python",
   "nbconvert_exporter": "python",
   "pygments_lexer": "ipython3",
   "version": "3.11.0"
  },
  "orig_nbformat": 4
 },
 "nbformat": 4,
 "nbformat_minor": 2
}

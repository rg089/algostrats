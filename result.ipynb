{
 "cells": [
  {
   "cell_type": "code",
   "execution_count": 1,
   "metadata": {},
   "outputs": [
    {
     "name": "stdout",
     "output_type": "stream",
     "text": [
      "importing Jupyter notebook from feeds.ipynb\n",
      "importing Jupyter notebook from synfeed.ipynb\n",
      "importing Jupyter notebook from india_calendar.ipynb\n",
      "importing Jupyter notebook from featfuncs.ipynb\n"
     ]
    }
   ],
   "source": [
    "import pickle\n",
    "import pandas as pd\n",
    "import os\n",
    "import numpy as np\n",
    "import import_ipynb\n",
    "from feeds import BackFeed,DataFeed\n",
    "from sklearn.metrics import classification_report"
   ]
  },
  {
   "cell_type": "code",
   "execution_count": 2,
   "metadata": {},
   "outputs": [
    {
     "data": {
      "text/html": [
       "<div>\n",
       "<style scoped>\n",
       "    .dataframe tbody tr th:only-of-type {\n",
       "        vertical-align: middle;\n",
       "    }\n",
       "\n",
       "    .dataframe tbody tr th {\n",
       "        vertical-align: top;\n",
       "    }\n",
       "\n",
       "    .dataframe thead th {\n",
       "        text-align: right;\n",
       "    }\n",
       "</style>\n",
       "<table border=\"1\" class=\"dataframe\">\n",
       "  <thead>\n",
       "    <tr style=\"text-align: right;\">\n",
       "      <th></th>\n",
       "      <th>Test</th>\n",
       "      <th>Train</th>\n",
       "    </tr>\n",
       "  </thead>\n",
       "  <tbody>\n",
       "    <tr>\n",
       "      <th>hp_5</th>\n",
       "      <td>20.2 ± 39.3</td>\n",
       "      <td>17.3 ± 30.1</td>\n",
       "    </tr>\n",
       "    <tr>\n",
       "      <th>hp_6</th>\n",
       "      <td>13.5 ± 20.2</td>\n",
       "      <td>19.4 ± 26.8</td>\n",
       "    </tr>\n",
       "    <tr>\n",
       "      <th>hp_7</th>\n",
       "      <td>12.6 ± 22.2</td>\n",
       "      <td>13.7 ± 20.3</td>\n",
       "    </tr>\n",
       "    <tr>\n",
       "      <th>hp_8</th>\n",
       "      <td>13.7 ± 35.5</td>\n",
       "      <td>11.3 ± 20.7</td>\n",
       "    </tr>\n",
       "    <tr>\n",
       "      <th>hp_9</th>\n",
       "      <td>4.0 ± 14.9</td>\n",
       "      <td>3.6 ± 16.7</td>\n",
       "    </tr>\n",
       "    <tr>\n",
       "      <th>hp_10</th>\n",
       "      <td>2.2 ± 10.4</td>\n",
       "      <td>2.8 ± 10.3</td>\n",
       "    </tr>\n",
       "    <tr>\n",
       "      <th>hp_11</th>\n",
       "      <td>23.3 ± 33.4</td>\n",
       "      <td>15.6 ± 25.2</td>\n",
       "    </tr>\n",
       "    <tr>\n",
       "      <th>hp_12</th>\n",
       "      <td>14.3 ± 29.1</td>\n",
       "      <td>20.6 ± 34.0</td>\n",
       "    </tr>\n",
       "    <tr>\n",
       "      <th>hp_13</th>\n",
       "      <td>21.3 ± 33.4</td>\n",
       "      <td>13.9 ± 20.6</td>\n",
       "    </tr>\n",
       "  </tbody>\n",
       "</table>\n",
       "</div>"
      ],
      "text/plain": [
       "              Test        Train\n",
       "hp_5   20.2 ± 39.3  17.3 ± 30.1\n",
       "hp_6   13.5 ± 20.2  19.4 ± 26.8\n",
       "hp_7   12.6 ± 22.2  13.7 ± 20.3\n",
       "hp_8   13.7 ± 35.5  11.3 ± 20.7\n",
       "hp_9    4.0 ± 14.9   3.6 ± 16.7\n",
       "hp_10   2.2 ± 10.4   2.8 ± 10.3\n",
       "hp_11  23.3 ± 33.4  15.6 ± 25.2\n",
       "hp_12  14.3 ± 29.1  20.6 ± 34.0\n",
       "hp_13  21.3 ± 33.4  13.9 ± 20.6"
      ]
     },
     "execution_count": 2,
     "metadata": {},
     "output_type": "execute_result"
    }
   ],
   "source": [
    "dataframe_data = []\n",
    "indexes = []\n",
    "hp_range = (5, 13)\n",
    "\n",
    "for current in range(hp_range[0], hp_range[1]+1):\n",
    "    hp_version = current\n",
    "    test_path = os.path.join('results', f'hp_{hp_version}', 'test', 'bt.pkl')\n",
    "    traintest_path = os.path.join('results', f'hp_{hp_version}_trainfile_test', 'test', 'bt.pkl')\n",
    "\n",
    "    data_1 = pickle.load(open(test_path, 'rb'))\n",
    "    rewards_1 = [data_1[k][t]['tot'] for k in data_1 for t in data_1[k]]\n",
    "\n",
    "    data_2 = pickle.load(open(traintest_path, 'rb'))\n",
    "    rewards_2 = [data_2[k][t]['tot'] for k in data_2 for t in data_2[k]]\n",
    "    \n",
    "    m1, std1 = np.mean(rewards_1), np.std(rewards_1)\n",
    "    m2, std2 = np.mean(rewards_2), np.std(rewards_2)\n",
    "    \n",
    "    d = [f'{m1:.1f} \\u00B1 {std1:.1f}', f'{m2:.1f} \\u00B1 {std2:.1f}']\n",
    "    dataframe_data.append(d)\n",
    "    indexes.append(f'hp_{hp_version}')\n",
    "    \n",
    "df = pd.DataFrame(dataframe_data, columns=['Test', 'Train'], index=indexes)\n",
    "df\n",
    "    "
   ]
  }
 ],
 "metadata": {
  "kernelspec": {
   "display_name": "metarl",
   "language": "python",
   "name": "python3"
  },
  "language_info": {
   "codemirror_mode": {
    "name": "ipython",
    "version": 3
   },
   "file_extension": ".py",
   "mimetype": "text/x-python",
   "name": "python",
   "nbconvert_exporter": "python",
   "pygments_lexer": "ipython3",
   "version": "3.11.0"
  },
  "orig_nbformat": 4,
  "vscode": {
   "interpreter": {
    "hash": "5008e426caa1f5e2a3cabb61a0a32dd514aa39ff1b51b49a9d39831a35b7d2d2"
   }
  }
 },
 "nbformat": 4,
 "nbformat_minor": 2
}

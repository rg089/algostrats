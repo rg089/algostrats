{
 "cells": [
  {
   "cell_type": "code",
   "execution_count": 1,
   "metadata": {},
   "outputs": [
    {
     "name": "stdout",
     "output_type": "stream",
     "text": [
      "importing Jupyter notebook from feeds.ipynb\n",
      "importing Jupyter notebook from synfeed.ipynb\n",
      "importing Jupyter notebook from india_calendar.ipynb\n",
      "importing Jupyter notebook from featfuncs.ipynb\n",
      "importing Jupyter notebook from feed_env.ipynb\n",
      "importing Jupyter notebook from rlagents.ipynb\n",
      "importing Jupyter notebook from aiagentbase.ipynb\n",
      "importing Jupyter notebook from backtest.ipynb\n",
      "importing Jupyter notebook from validation.ipynb\n"
     ]
    }
   ],
   "source": [
    "from stable_baselines3 import PPO,A2C,DQN\n",
    "from stable_baselines3.common.vec_env import StackedObservations\n",
    "from stable_baselines3.common.monitor import Monitor as Mon\n",
    "import warnings\n",
    "warnings.simplefilter(\"ignore\")\n",
    "\n",
    "import import_ipynb\n",
    "import pandas as pd\n",
    "import numpy as np\n",
    "import torch\n",
    "from datetime import datetime\n",
    "from datetime import datetime as dt\n",
    "from torch.utils.data import Dataset\n",
    "from sklearn.preprocessing import StandardScaler\n",
    "import pickle\n",
    "from threading import Thread\n",
    "import threading\n",
    "from IPython import display\n",
    "import time,getopt,sys,os\n",
    "from feeds import BackFeed,DataFeed\n",
    "from featfuncs import feat_aug,add_addl_features_feed,add_ta_features_feed,add_sym_feature_feed\n",
    "from featfuncs import add_global_indices_feed\n",
    "from feed_env import Episode\n",
    "import aspectlib\n",
    "from rlagents import RLStratAgentDyn, COLS, RLStratAgentDynFeatures\n",
    "from backtest import Backtest\n",
    "from feeds import BackFeed,DataFeed\n",
    "from validation import Validate\n",
    "import pickle\n",
    "import plotly.express as px\n",
    "from india_calendar import IBDay\n",
    "import plotly\n",
    "from add_features import add_features"
   ]
  },
  {
   "cell_type": "code",
   "execution_count": 8,
   "metadata": {},
   "outputs": [],
   "source": [
    "config_suffix = 'rl_all_4'"
   ]
  },
  {
   "cell_type": "code",
   "execution_count": 9,
   "metadata": {},
   "outputs": [
    {
     "data": {
      "text/plain": [
       "'results/rl_all_4/training/train_curve.html'"
      ]
     },
     "execution_count": 9,
     "metadata": {},
     "output_type": "execute_result"
    }
   ],
   "source": [
    "train_results_folder = os.path.join('results', f'{config_suffix}',\n",
    "                                    'training')\n",
    "\n",
    "df=pd.read_csv(os.path.join(train_results_folder, 'training_monitor.csv'))\n",
    "\n",
    "fig = px.line(df['r'].rolling(window=500).mean().values)\n",
    "plotly.offline.plot(fig, filename=os.path.join(train_results_folder, 'train_curve.html'))"
   ]
  },
  {
   "cell_type": "code",
   "execution_count": null,
   "metadata": {},
   "outputs": [],
   "source": []
  }
 ],
 "metadata": {
  "kernelspec": {
   "display_name": "metarl",
   "language": "python",
   "name": "python3"
  },
  "language_info": {
   "codemirror_mode": {
    "name": "ipython",
    "version": 3
   },
   "file_extension": ".py",
   "mimetype": "text/x-python",
   "name": "python",
   "nbconvert_exporter": "python",
   "pygments_lexer": "ipython3",
   "version": "3.11.0"
  },
  "orig_nbformat": 4
 },
 "nbformat": 4,
 "nbformat_minor": 2
}

{
 "cells": [
  {
   "cell_type": "markdown",
   "id": "8168e619-06e0-48a8-b614-8bb3d854e1e6",
   "metadata": {},
   "source": [
    "# Computing Optimal Labels\n",
    "Backtesting a Always Buy/Sell Strategies to compute Optimal strategy for a day-ticker combination using MILP"
   ]
  },
  {
   "cell_type": "code",
   "execution_count": 1,
   "id": "526024eb-64f7-4d6d-879a-cf7a5286fad6",
   "metadata": {},
   "outputs": [],
   "source": [
    "# !pip install import_ipynb --quiet\n",
    "# !pip install anvil-uplink --quiet\n",
    "# !pip install yfinance --quiet\n",
    "# !pip install pandas_ta --quiet\n",
    "# !pip install ipynb --quiet\n",
    "# !pip install rpyc --quiet\n",
    "# !pip install pulp"
   ]
  },
  {
   "cell_type": "code",
   "execution_count": 2,
   "id": "7adafd0c-84d9-4ecd-9782-328a06119ee1",
   "metadata": {},
   "outputs": [],
   "source": [
    "# # pull files from Github\n",
    "# !git clone https://github.com/gmshroff/algostrats.git"
   ]
  },
  {
   "cell_type": "code",
   "execution_count": 3,
   "id": "9094cdae-f2c2-4769-806a-f97ea40be2ce",
   "metadata": {},
   "outputs": [],
   "source": [
    "# %cd algostrats"
   ]
  },
  {
   "cell_type": "code",
   "execution_count": 1,
   "id": "72040288-5059-4cdc-9558-21ebf2b86395",
   "metadata": {},
   "outputs": [],
   "source": [
    "# change to True if on colab\n",
    "colab=False"
   ]
  },
  {
   "cell_type": "code",
   "execution_count": 2,
   "id": "0abacb72-0e8e-437c-b546-7389517972c0",
   "metadata": {},
   "outputs": [
    {
     "name": "stdout",
     "output_type": "stream",
     "text": [
      "importing Jupyter notebook from backtest.ipynb\n",
      "importing Jupyter notebook from feeds.ipynb\n",
      "importing Jupyter notebook from synfeed.ipynb\n",
      "importing Jupyter notebook from india_calendar.ipynb\n",
      "importing Jupyter notebook from featfuncs.ipynb\n",
      "importing Jupyter notebook from feed_env.ipynb\n",
      "importing Jupyter notebook from validation.ipynb\n"
     ]
    }
   ],
   "source": [
    "import pandas as pd\n",
    "import numpy as np\n",
    "import import_ipynb\n",
    "from backtest import Backtest\n",
    "from feeds import BackFeed,DataFeed\n",
    "from validation import Validate\n",
    "import pickle\n",
    "from itertools import product\n",
    "from tqdm.notebook import tqdm"
   ]
  },
  {
   "cell_type": "code",
   "execution_count": 3,
   "id": "876a3d4a-a8ac-4e8c-bb8c-3e11101fe4a4",
   "metadata": {},
   "outputs": [
    {
     "name": "stdout",
     "output_type": "stream",
     "text": [
      "importing Jupyter notebook from rulestrats.ipynb\n"
     ]
    }
   ],
   "source": [
    "from rulestrats import RuleStrat,do_nothing,always_buy,always_sell"
   ]
  },
  {
   "cell_type": "code",
   "execution_count": 4,
   "id": "437a141c-13e2-491a-9c1e-891e261870f6",
   "metadata": {},
   "outputs": [
    {
     "name": "stdout",
     "output_type": "stream",
     "text": [
      "importing Jupyter notebook from pulp_jobs.ipynb\n"
     ]
    }
   ],
   "source": [
    "from pulp_jobs import Jobs\n",
    "from featfuncs import feat_aug,add_addl_features_feed,add_ta_features_feed,add_sym_feature_feed\n",
    "from featfuncs import add_global_indices_feed"
   ]
  },
  {
   "cell_type": "code",
   "execution_count": 5,
   "id": "835506d5",
   "metadata": {},
   "outputs": [],
   "source": [
    "from dataclasses import dataclass\n",
    "\n",
    "@dataclass\n",
    "class OptimalData:\n",
    "    optD: dict\n",
    "    optR: dict\n",
    "    optDT: dict\n",
    "    optRT: dict\n",
    "    feed: pd.DataFrame"
   ]
  },
  {
   "cell_type": "code",
   "execution_count": 6,
   "id": "1b158dd5",
   "metadata": {},
   "outputs": [],
   "source": [
    "import os\n",
    "with open(os.path.join('additional_utils', 'optimal_alldata.pkl'), 'rb') as f:\n",
    "    optimal_all_data = pickle.load(f)"
   ]
  },
  {
   "cell_type": "code",
   "execution_count": 10,
   "id": "fd355478",
   "metadata": {},
   "outputs": [],
   "source": [
    "loadfeed_path = '../algodata/realdata/datafeed_alldata_True_False.pkl'\n",
    "with open(loadfeed_path,'rb') as f: \n",
    "    feed_original=pickle.load(f)"
   ]
  },
  {
   "cell_type": "code",
   "execution_count": 14,
   "id": "0c4c5658",
   "metadata": {},
   "outputs": [],
   "source": [
    "feed_original = feed_original.data\n",
    "for ticker in feed_original:\n",
    "    feed_original[ticker]['row_num'] = feed_original[ticker]['row_num'].apply(lambda x: x if x<75 else x-75)"
   ]
  },
  {
   "cell_type": "code",
   "execution_count": 19,
   "id": "adcd260f",
   "metadata": {},
   "outputs": [],
   "source": [
    "optDT = optimal_all_data.optDT\n",
    "data_store = {}\n",
    "\n",
    "for offset in optDT:\n",
    "    for ticker in optDT[offset]:\n",
    "        for time in optDT[offset][ticker]:\n",
    "            for acts in optDT[offset][ticker][time]:\n",
    "                rn, a = acts[0], acts[1]\n",
    "                serialized = f'{ticker}_{time}_{rn}'\n",
    "                if serialized in data_store:\n",
    "                    prev_action = data_store[serialized]\n",
    "                    if prev_action != a:\n",
    "                        print(f'Serialized: {serialized}, prev:{prev_action}, curr:{a}')\n",
    "                    # else:\n",
    "                    #     print('Found again!')\n",
    "                else:\n",
    "                    data_store[serialized] = a      "
   ]
  },
  {
   "cell_type": "code",
   "execution_count": 22,
   "id": "118f94c1",
   "metadata": {},
   "outputs": [],
   "source": [
    "from copy import deepcopy\n",
    "\n",
    "feed_original_1 = deepcopy(feed_original)\n",
    "feed_original_all = deepcopy(feed_original)"
   ]
  },
  {
   "cell_type": "code",
   "execution_count": 23,
   "id": "f0b2a4b6",
   "metadata": {},
   "outputs": [],
   "source": [
    "optD = optimal_all_data.optD"
   ]
  },
  {
   "cell_type": "code",
   "execution_count": 24,
   "id": "fcbb04f1",
   "metadata": {},
   "outputs": [],
   "source": [
    "for ticker in feed_original_1:\n",
    "    feed_original_1[ticker]['Action'] = -5\n",
    "    actions = []\n",
    "\n",
    "    for t in optD[ticker]:\n",
    "        for acts in optD[ticker][t]:\n",
    "            rn, a = acts[0], acts[1]\n",
    "            actions.append(a)\n",
    "            # if a == -1: a = 2\n",
    "            feed_original_1[ticker].loc[(feed_original_1[ticker]['Date']==t) & (feed_original_1[ticker]['row_num']==rn), 'Action'] = a"
   ]
  },
  {
   "cell_type": "code",
   "execution_count": 26,
   "id": "32f44ca2",
   "metadata": {},
   "outputs": [
    {
     "data": {
      "text/plain": [
       "-5    93172\n",
       "-1     1060\n",
       " 1      857\n",
       "Name: Action, dtype: int64"
      ]
     },
     "execution_count": 26,
     "metadata": {},
     "output_type": "execute_result"
    }
   ],
   "source": [
    "feed_original_1 = pd.concat([feed_original_1[t] for t in feed_original_1], axis=0)\n",
    "feed_original_1['Action'].value_counts()"
   ]
  },
  {
   "cell_type": "code",
   "execution_count": 28,
   "id": "32c478e3",
   "metadata": {},
   "outputs": [],
   "source": [
    "for ticker in feed_original_all:\n",
    "    feed_original_all[ticker]['Action'] = -5\n",
    "    actions = []\n",
    "\n",
    "    for offset in optDT:\n",
    "        for t in optDT[offset][ticker]:\n",
    "            for acts in optDT[offset][ticker][t]:\n",
    "                rn, a = acts[0], acts[1]\n",
    "                actions.append(a)\n",
    "                # if a == -1: a = 2\n",
    "                feed_original_all[ticker].loc[(feed_original_all[ticker]['Date']==t) & (feed_original_all[ticker]['row_num']==rn), 'Action'] = a"
   ]
  },
  {
   "cell_type": "code",
   "execution_count": 29,
   "id": "a25f52fc",
   "metadata": {},
   "outputs": [
    {
     "data": {
      "text/plain": [
       "-5    91672\n",
       "-1     1882\n",
       " 1     1535\n",
       "Name: Action, dtype: int64"
      ]
     },
     "execution_count": 29,
     "metadata": {},
     "output_type": "execute_result"
    }
   ],
   "source": [
    "feed_original_all = pd.concat([feed_original_all[t] for t in feed_original_all], axis=0)\n",
    "feed_original_all['Action'].value_counts()"
   ]
  },
  {
   "cell_type": "code",
   "execution_count": 36,
   "id": "f728005e",
   "metadata": {},
   "outputs": [],
   "source": [
    "@dataclass\n",
    "class OptimalData:\n",
    "    optD: dict\n",
    "    optR: dict\n",
    "    optDT: dict\n",
    "    optRT: dict\n",
    "    feed_original: pd.DataFrame\n",
    "    feed_all: pd.DataFrame"
   ]
  },
  {
   "cell_type": "code",
   "execution_count": 37,
   "id": "50745b03",
   "metadata": {},
   "outputs": [],
   "source": [
    "optimal_all_data_new = OptimalData(optD=optD, optR=optimal_all_data.optR, optDT=optDT,\n",
    "                                   optRT=optimal_all_data.optRT, feed_original=feed_original_1, feed_all=feed_original_all)"
   ]
  },
  {
   "cell_type": "code",
   "execution_count": 26,
   "id": "8d7ef19a",
   "metadata": {},
   "outputs": [],
   "source": [
    "import os\n",
    "with open(os.path.join('additional_utils', 'optimal_alldata_new.pkl'), 'wb') as f:\n",
    "    pickle.dump(optimal_all_data_new, f)"
   ]
  },
  {
   "cell_type": "markdown",
   "id": "06f33c76-87ae-42b8-b4b7-71efa271d2e7",
   "metadata": {},
   "source": [
    "## Trading Plots of Optimal Strategy"
   ]
  },
  {
   "cell_type": "code",
   "execution_count": 30,
   "id": "900c1c03-c40a-49e7-b243-136c867bc193",
   "metadata": {},
   "outputs": [],
   "source": [
    "import plotly.graph_objects as go"
   ]
  },
  {
   "cell_type": "code",
   "execution_count": 31,
   "id": "0e963a70-1642-49ad-bd5c-907c1df6fb15",
   "metadata": {},
   "outputs": [],
   "source": [
    "import plotly.express as px"
   ]
  },
  {
   "cell_type": "code",
   "execution_count": 32,
   "id": "2dab6411-3b8e-4631-9a06-f43be4721bae",
   "metadata": {},
   "outputs": [],
   "source": [
    "def annotate_action(rew,act,df):\n",
    "    if rew[1]>=0:color='Green'\n",
    "    else: color='Red'\n",
    "    if act[0]==1:text='Buy'\n",
    "    elif act[0]==-1:text='Sell'\n",
    "    ann=dict(font=dict(color=color,size=15),x=df.index[rew[0]],y=df.iloc[rew[0]]['Close'],\n",
    "             showarrow=True,text=text)\n",
    "    return ann"
   ]
  },
  {
   "cell_type": "code",
   "execution_count": 33,
   "id": "fecc2e65-c76f-471e-bbe1-9b402dae0757",
   "metadata": {},
   "outputs": [],
   "source": [
    "def annotate_exit(rew,act,anns,df):\n",
    "    if rew[1]>=0:color='Green'\n",
    "    else: color='Red'\n",
    "    X=[a['x'] for a in anns if a is not None]\n",
    "    if df.index[rew[2]] in X: \n",
    "        idx=X.index(df.index[rew[2]])\n",
    "        anns[idx]['text']='Ex&'+anns[idx]['text']\n",
    "    else:\n",
    "        anns+=[dict(font=dict(color=color,size=15),x=df.index[rew[2]],y=df.iloc[rew[2]]['Close'],\n",
    "                    showarrow=True,text='Exit')]"
   ]
  },
  {
   "cell_type": "code",
   "execution_count": 34,
   "id": "b6e9d9c1-6fdd-47b7-b7fd-38c9bfae5e39",
   "metadata": {},
   "outputs": [],
   "source": [
    "def plot_ticker_date(optD,ticker,date):\n",
    "    global fig\n",
    "    df=feed.ndata[ticker][date]\n",
    "    df=df.loc[df['Date']==date]\n",
    "    fig = go.Figure(data=\n",
    "        [go.Candlestick(x = df.index,\n",
    "                        open  = df[\"Open\"],\n",
    "                        high  = df[\"High\"],\n",
    "                        low   = df[\"Low\"],\n",
    "                        close = df[\"Close\"])]\n",
    "    )\n",
    "    # reward=np.round(bt.results[ticker][date][\"tot\"],2)\n",
    "    reward=(lambda x: sum(x) if len(x)>0 else 0)([o[5] for o in optD[ticker][date]])\n",
    "    fig.update_layout(\n",
    "        title=f'{ticker} on {date} return {reward}',\n",
    "        yaxis_title=\"Price\"\n",
    "    )\n",
    "    anns=[]\n",
    "    for s,a,_,_,e,r in optD[ticker][date]:\n",
    "        anns+=[annotate_action((s,r,e),(a,s),df)]\n",
    "    for s,a,_,_,e,r in optD[ticker][date]:\n",
    "        anns+=[annotate_exit((s,r,e),(a,s),anns,df)]\n",
    "    \n",
    "    # for r,a in zip(bt.results[ticker][date]['rew'],bt.results[ticker][date]['acts']):\n",
    "    #     anns+=[annotate_action(r,a,df)]\n",
    "    # for r,a in zip(bt.results[ticker][date]['rew'],bt.results[ticker][date]['acts']):\n",
    "    #     anns+=[annotate_exit(r,a,anns,df)]\n",
    "    for a in anns: \n",
    "        if a is not None: fig.add_annotation(a)\n",
    "    fig.show()\n",
    "    return fig"
   ]
  },
  {
   "cell_type": "code",
   "execution_count": 35,
   "id": "5e44cdb1-80d9-424f-bc82-395bbf8fb641",
   "metadata": {},
   "outputs": [],
   "source": [
    "def combine_plotly_figs_to_html(plotly_figs, html_fname, include_plotlyjs='cdn', \n",
    "                                separator=None, auto_open=False):\n",
    "    with open(html_fname, 'w') as f:\n",
    "        f.write(plotly_figs[0].to_html(include_plotlyjs=include_plotlyjs))\n",
    "        for fig in plotly_figs[1:]:\n",
    "            if separator:\n",
    "                f.write(separator)\n",
    "            f.write(fig.to_html(full_html=False, include_plotlyjs=False))\n",
    "\n",
    "    if auto_open:\n",
    "        import pathlib, webbrowser\n",
    "        uri = pathlib.Path(html_fname).absolute().as_uri()\n",
    "        webbrowser.open(uri)"
   ]
  },
  {
   "cell_type": "code",
   "execution_count": null,
   "id": "a3ab5f21-e730-4958-9a51-438dda5d8764",
   "metadata": {
    "tags": []
   },
   "outputs": [],
   "source": [
    "figs=[]\n",
    "for t in optD:\n",
    "    for d in optD[t]:\n",
    "        figs+=[plot_ticker_date(optD,t,d)]"
   ]
  },
  {
   "cell_type": "code",
   "execution_count": 34,
   "id": "ad7b9f51-d882-4556-beae-f02960455417",
   "metadata": {},
   "outputs": [],
   "source": [
    "# # upload kaggle.json\n",
    "# from google.colab import files\n",
    "# uploaded=files.upload()"
   ]
  },
  {
   "cell_type": "code",
   "execution_count": null,
   "id": "f1c6c247-a7e4-4d63-a6cf-7512bc5ead5b",
   "metadata": {},
   "outputs": [],
   "source": [
    "# !mkdir /root/.kaggle\n",
    "# !mv ./kaggle.json /root/.kaggle/.\n",
    "# !chmod 600 /root/.kaggle/kaggle.json"
   ]
  },
  {
   "cell_type": "code",
   "execution_count": null,
   "id": "9e108961-6918-4557-a69e-4f50114b0cee",
   "metadata": {},
   "outputs": [],
   "source": [
    "# %mkdir data\n",
    "# %cd data\n",
    "# !kaggle datasets download -d gmshroff/marketdatafivemin\n",
    "# !unzip marketdatafivemin.zip\n",
    "# %cd .."
   ]
  },
  {
   "cell_type": "code",
   "execution_count": null,
   "id": "4e98851e-d7ed-4c7a-89ff-5382091368cc",
   "metadata": {},
   "outputs": [],
   "source": [
    "# DATAFILE='augdata_16-Dec-2022_5m.csv'\n",
    "# if not colab: DATAPATH='~/DataLocal/algo_fin_new/five_min_data/'\n",
    "# else: DATAPATH='./data/'\n",
    "# df=pd.read_csv(DATAPATH+DATAFILE)"
   ]
  },
  {
   "cell_type": "code",
   "execution_count": null,
   "id": "be25c5c5-a944-4c06-8b85-1bdaac461d80",
   "metadata": {
    "tags": []
   },
   "outputs": [],
   "source": [
    "# dataFeed=DataFeed(tickers=list(df.ticker.unique()[0:50]),dfgiven=True,df=df)"
   ]
  },
  {
   "cell_type": "code",
   "execution_count": null,
   "id": "9c32a98d-a6be-4147-b5e3-b64e0b8c2ac2",
   "metadata": {
    "tags": []
   },
   "outputs": [],
   "source": [
    "# bt=Backtest(dataFeed,tickers=dataFeed.tickers,target=.05,stop=.01,txcost=0.001,\n",
    "#             loc_exit=True,scan=True,topk=3,deploy=True)"
   ]
  },
  {
   "cell_type": "code",
   "execution_count": null,
   "id": "cc1de9cb-3332-4eb5-9ff2-5f4a46ebdb3d",
   "metadata": {},
   "outputs": [],
   "source": [
    "# bt.run_all(tickers=dataFeed.tickers,model=momStrat)"
   ]
  },
  {
   "cell_type": "code",
   "execution_count": null,
   "id": "4e27fb95-3f5b-43ce-8c9b-779c2727a63b",
   "metadata": {
    "tags": []
   },
   "outputs": [],
   "source": [
    "# bt.results"
   ]
  },
  {
   "cell_type": "code",
   "execution_count": null,
   "id": "cdb94940-2c1a-4907-9804-9c7bc7ca95f4",
   "metadata": {},
   "outputs": [],
   "source": [
    "# bt.returns"
   ]
  },
  {
   "cell_type": "markdown",
   "id": "89991402-1831-42a5-b328-5792d425cfdf",
   "metadata": {},
   "source": [
    "Experiments"
   ]
  },
  {
   "cell_type": "code",
   "execution_count": null,
   "id": "4d6157e7-2cf5-44a8-bd22-cb39f117ec9a",
   "metadata": {},
   "outputs": [],
   "source": []
  }
 ],
 "metadata": {
  "kernelspec": {
   "display_name": "Python 3 (ipykernel)",
   "language": "python",
   "name": "python3"
  },
  "language_info": {
   "codemirror_mode": {
    "name": "ipython",
    "version": 3
   },
   "file_extension": ".py",
   "mimetype": "text/x-python",
   "name": "python",
   "nbconvert_exporter": "python",
   "pygments_lexer": "ipython3",
   "version": "3.11.0"
  }
 },
 "nbformat": 4,
 "nbformat_minor": 5
}
